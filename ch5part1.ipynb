{
  "cells": [
    {
      "cell_type": "markdown",
      "metadata": {
        "id": "j10pq5UqxoJG"
      },
      "source": [
        "<style>\n",
        "\th1 {\n",
        "\t--\tbackground-color: grey;\n",
        "\t\tcolor: yellow\n",
        "\t\tborder: 3px solid grey\n",
        "\n",
        "\t}\n",
        "\tp {\n",
        "\t\tbackground-color: grey;\n",
        "\t\tcolor: white\n",
        "\t\tborder: 3px solid grey\n",
        "\n",
        "\t}\n",
        "</style>\n",
        "<h1> Chapter 5 Functions: Part 1</h1>"
      ]
    },
    {
      "cell_type": "markdown",
      "metadata": {
        "id": "4eZbAWpIxoJH"
      },
      "source": [
        "<p style=\"margin-left:40px\">1. 5.1 Introduction to Functions</p>\n",
        "\n",
        "<p style=\"margin-left:40px\">2. 5.2 Defining and Calling a Void Function</p>\n",
        "\n",
        "<p style=\"margin-left:40px\">3. 5.3 Designing a Program to Use Functions</p>\n",
        "\n",
        "<p style=\"margin-left:40px\">4. 5.4 <mark> Local Variables </mark></p>\n",
        "\n",
        "<p style=\"margin-left:40px\">5. 5.5 <mark> Passing Arguments to Functions </mark></p>\n",
        "\n",
        "<p style=\"margin-left:40px\">6. 5.6 Global Variables and Global Constants</p>\n",
        "\n",
        "<p style=\"margin-left:40px\">7. 5.7 Introduction to <mark>Value-Returning Functions </mark>: Generating Random Numbers</p>\n",
        "\n",
        "<p style=\"margin-left:40px\">8. 5.8 Writing Your Own Value-Returning Functions</p>\n",
        "\n",
        "<p style=\"margin-left:40px\">9. 5.9 The math Module</p>\n",
        "\n",
        "<p style=\"margin-left:40px\">10. 5.10 <mark> Storing Functions in Modules <mark> </p>\n",
        "\n",
        "<p style=\"margin-left:40px\">11. 5.11 Turtle Graphics: Modularizing Code with Functions</p>\n"
      ]
    },
    {
      "cell_type": "markdown",
      "metadata": {
        "id": "5vTaKafAxoJI"
      },
      "source": [
        "***\n",
        "\n",
        "## <p style=\"background-color: grey; color: white \"> ◼️  functions </p>\n",
        "# <p style=\"font-family: Arial; font-size:1.4em;color:red;\"> 1. Basic Examples of Functions</p>\n"
      ]
    },
    {
      "cell_type": "markdown",
      "metadata": {
        "id": "9aoUl4sYxoJI"
      },
      "source": [
        "<style>\n",
        "\th3{\n",
        "\t\tbackground-color: grey\n",
        "\t\tcolor: white\n",
        "\t}\n",
        "</style>\n",
        "\n",
        "<h3> First example of function </h3>\n",
        "\n",
        "- Run all the following code cells and check out the result of code segments"
      ]
    },
    {
      "cell_type": "markdown",
      "metadata": {
        "id": "aaA9vJ34xoJI"
      },
      "source": [
        "#### <p style=\"font-family: Arial; font-size:1.4em; background-color: yellow; color:black;\"> Problem #1.0 </p>\n",
        "\n",
        "#### Run all the cells and figure out the basic usage of while loop structure"
      ]
    },
    {
      "cell_type": "code",
      "execution_count": 1,
      "metadata": {
        "id": "-rLVwVbWxoJI"
      },
      "outputs": [],
      "source": [
        "def fn():\n",
        "\treturn\n",
        "\n",
        "if __name__ == '__main__':\n",
        "\tfn( )\n",
        "\n"
      ]
    },
    {
      "cell_type": "code",
      "execution_count": 2,
      "metadata": {
        "colab": {
          "base_uri": "https://localhost:8080/"
        },
        "id": "O4rJtyVwxoJJ",
        "outputId": "aef2a97d-2caf-44e7-a5af-70a04b7ea4d3"
      },
      "outputs": [
        {
          "name": "stdout",
          "output_type": "stream",
          "text": [
            "6\n"
          ]
        }
      ],
      "source": [
        "# Function to return 0 or 1\n",
        "# if the number is even, return 0, otherwise 1\n",
        "#  checknum ( )\n",
        "\n",
        "def checknum(n):\n",
        "\tif n%2 == 0:\n",
        "\t\treturn 0\n",
        "\telse:\n",
        "\t\treturn 1\n",
        "\n",
        "userinput = int(input())\n",
        "retval = checknum(userinput)\n",
        "\n",
        "\n"
      ]
    },
    {
      "cell_type": "code",
      "execution_count": 3,
      "metadata": {
        "colab": {
          "base_uri": "https://localhost:8080/"
        },
        "id": "cI201B2RxoJJ",
        "outputId": "7b9633c7-c0b3-432c-8320-1b2fd7d2dcd7"
      },
      "outputs": [
        {
          "output_type": "stream",
          "name": "stdout",
          "text": [
            "[1, 2, 3, 4, 5, 6, 7]\n",
            "[1, 2, 3, 4, 5, 6, 7]\n",
            "[1, 2, 3, 4, 5, 6, 7]\n",
            "[1, 2, 3, 4, 5, 6, 7]\n"
          ]
        }
      ],
      "source": [
        "def printlst(l):\n",
        "\taverage = sum(l) / len(l)\n",
        "\tfor v in l:\n",
        "\t\tif ( average > v):\n",
        "\t\t\tprint(l)\n",
        "\n",
        "lst = [1,2,3,4,5,6,7]\n",
        "printlst(lst) # print all numbers less than avg\n",
        "print (lst)\n"
      ]
    },
    {
      "cell_type": "code",
      "execution_count": 4,
      "metadata": {
        "colab": {
          "base_uri": "https://localhost:8080/"
        },
        "id": "OACc7630xoJJ",
        "outputId": "548fe700-a105-457d-85e5-ded2bd50a8db"
      },
      "outputs": [
        {
          "output_type": "stream",
          "name": "stdout",
          "text": [
            "6\n",
            "6\n"
          ]
        }
      ],
      "source": [
        "\n",
        "def \tgetinput():\n",
        "\tval = int(input())\n",
        "\treturn val\n",
        "\n",
        "userval = getinput()\n",
        "print (userval)\n",
        "\n",
        "\n"
      ]
    },
    {
      "cell_type": "markdown",
      "metadata": {
        "id": "9Fkk4aeJxoJK"
      },
      "source": [
        "### How are the functions called?  \n",
        "#### Compare the below two code segments"
      ]
    },
    {
      "cell_type": "code",
      "execution_count": 5,
      "metadata": {
        "colab": {
          "base_uri": "https://localhost:8080/"
        },
        "id": "r4OoBb4LxoJK",
        "outputId": "e2daf236-983a-499a-e98e-5d68821d2094"
      },
      "outputs": [
        {
          "output_type": "stream",
          "name": "stdout",
          "text": [
            "1\n",
            "1\n"
          ]
        }
      ],
      "source": [
        "def \tgetinput():\n",
        "\tval = int(input())\n",
        "\treturn val\n",
        "\n",
        "def \tmain():\n",
        "\tuserval = getinput()\n",
        "\tprint (userval)\n",
        "\n",
        "\n",
        "if __name__ == '__main__':\n",
        "\tmain()\n",
        "\n"
      ]
    },
    {
      "cell_type": "code",
      "execution_count": 7,
      "metadata": {
        "id": "Cxaga0v5xoJK"
      },
      "outputs": [],
      "source": [
        "def \tgetinput():\n",
        "\tval = int(input())\n",
        "\treturn val\n",
        "\n",
        "def \tmain():\n",
        "\tuserval = getinput()\n",
        "\tprint (userval)\n"
      ]
    },
    {
      "cell_type": "markdown",
      "metadata": {
        "id": "fKCNdqJcxoJK"
      },
      "source": [
        "#### <p style=\"font-family: Arial; font-size:1.4em; background-color: yellow; color:black;\"> Problem #1.1 </p>\n",
        "\n",
        "####  Edit the above code cell to run main() function\n",
        "\n",
        "```\n",
        "def \tgetinput():\n",
        "\tval = int(input())\n",
        "\treturn val\n",
        "\n",
        "def \tmain():\n",
        "\tuserval = getinput()\n",
        "\tprint (userval)\n",
        "```"
      ]
    },
    {
      "cell_type": "code",
      "execution_count": null,
      "metadata": {
        "id": "uoZQbacqxoJK"
      },
      "outputs": [],
      "source": [
        "# complete the code to run the main function\n"
      ]
    },
    {
      "cell_type": "markdown",
      "metadata": {
        "id": "fYeSJu0-xoJK"
      },
      "source": [
        "#### <p style=\"font-family: Arial; font-size:1.4em; background-color: yellow; color:black;\"> Problem #1.2 </p>\n",
        "\n",
        "####  Check out this code. This code is working without main() function.\n",
        "#### Explain how this code is working properly without main() function\n",
        "\n",
        "```\n",
        "def \tgetinput():\n",
        "\tval = int(input())\n",
        "\treturn val\n",
        "\n",
        "userval = getinput()\n",
        "print (userval)\n",
        "```"
      ]
    },
    {
      "cell_type": "code",
      "execution_count": null,
      "metadata": {
        "id": "s1-Yk3_RxoJK",
        "outputId": "54c5b100-1bbd-4281-e8a8-2719dd7486a4"
      },
      "outputs": [
        {
          "name": "stdout",
          "output_type": "stream",
          "text": [
            "1\n"
          ]
        }
      ],
      "source": [
        "def \tgetinput():\n",
        "\tval = int(input())\n",
        "\treturn val\n",
        "\n",
        "userval = getinput()\n",
        "print (userval)\n"
      ]
    },
    {
      "cell_type": "markdown",
      "metadata": {
        "id": "yVeNoio2xoJL"
      },
      "source": [
        "## Don't forget to <font color='red'> **\"commit\"** </font> your work or <font color='red'> **\"save\"** </font> in Google Colab\n",
        "## before moving to the next section."
      ]
    },
    {
      "cell_type": "markdown",
      "metadata": {
        "id": "labUZqiixoJL"
      },
      "source": [
        "***\n",
        "\n",
        "## <p style=\"background-color: grey; color: white \"> ◼️  Local Variables </p>\n",
        "# <p style=\"font-family: Arial; font-size:1.4em;color:red;\"> 2. Local Variables </p>\n"
      ]
    },
    {
      "cell_type": "markdown",
      "metadata": {
        "id": "1epXFbQmxoJL"
      },
      "source": [
        "### Check out the variable \"userval\" after the function call \"getinput()\""
      ]
    },
    {
      "cell_type": "code",
      "execution_count": 20,
      "metadata": {
        "colab": {
          "base_uri": "https://localhost:8080/"
        },
        "id": "GxAdULFcxoJL",
        "outputId": "b2b85580-6790-4089-9dd0-d5b3d452eec3"
      },
      "outputs": [
        {
          "output_type": "stream",
          "name": "stdout",
          "text": [
            "6\n",
            "6\n"
          ]
        }
      ],
      "source": [
        "def \tgetinput():\n",
        "\tval = int(input())\n",
        "\treturn val\n",
        "\n",
        "def \tmain():\n",
        "\tuserval = getinput()\n",
        "\tprint (userval)\n",
        "\t# print (val)\n",
        "\n",
        "if __name__ == '__main__':\n",
        "\tmain()\n",
        "\n"
      ]
    },
    {
      "cell_type": "code",
      "execution_count": 21,
      "metadata": {
        "colab": {
          "base_uri": "https://localhost:8080/"
        },
        "id": "A1Kz6mpZxoJL",
        "outputId": "5dd2844b-835b-4e51-931d-d4bfa72ab5ff"
      },
      "outputs": [
        {
          "output_type": "stream",
          "name": "stdout",
          "text": [
            "30\n"
          ]
        }
      ],
      "source": [
        "def getsum(n1, n2):\n",
        "\tval = n1 + n2\n",
        "\treturn val\n",
        "\n",
        "def main():\n",
        "\ta = 10; b = 20\n",
        "\tuserval = getsum(a, b)\n",
        "\tprint (userval)\n",
        "\n",
        "if __name__ == '__main__':\n",
        "\tmain()\n"
      ]
    },
    {
      "cell_type": "markdown",
      "metadata": {
        "id": "-ZKgtygZxoJL"
      },
      "source": [
        "<style>\n",
        "\tp {\n",
        "\t\tbackground-color: grey;\n",
        "\t\tcolor: white;\n",
        "\t\tborder: 3px solid grey\n",
        "\n",
        "\t}\n",
        "</style>\n",
        "\n",
        "<p> Making Changes to Parameters </p>\n"
      ]
    },
    {
      "cell_type": "markdown",
      "metadata": {
        "id": "DXIyWXB6xoJL"
      },
      "source": [
        "#### <p style=\"font-family: Arial; font-size:1.4em; background-color: yellow; color:black;\"> Problem #2.1 </p>\n",
        "\n",
        "####  Check out this code. After the function call \"getinput()\" at the line 8 in the main function,  \n",
        "#### show the  values \"a\" and \"b\"\n"
      ]
    },
    {
      "cell_type": "code",
      "execution_count": 1,
      "metadata": {
        "colab": {
          "base_uri": "https://localhost:8080/"
        },
        "id": "rmtAvr08xoJL",
        "outputId": "15090054-3717-42bc-eafd-58e73239a38a"
      },
      "outputs": [
        {
          "output_type": "stream",
          "name": "stdout",
          "text": [
            "4\n",
            "5\n",
            "The value of parameter n1 and n2 are 4 and 5\n",
            "The value of a and b are 0 and 0\n"
          ]
        }
      ],
      "source": [
        "\n",
        "def getinput(n1, n2):\n",
        "\tn1 = input()\n",
        "\tn2 = input()\n",
        "\tprint (\"The value of parameter n1 and n2 are {0} and {1}\".format(n1, n2))\n",
        "\n",
        "def main():\n",
        "\ta = 0; b = 0\n",
        "\tgetinput(a, b)\n",
        "\tprint (\"The value of a and b are {0} and {1}\".format(a, b))\n",
        "\n",
        "if __name__ == '__main__':\n",
        "\tmain()\n"
      ]
    },
    {
      "cell_type": "markdown",
      "metadata": {
        "id": "gr-0V68SxoJL"
      },
      "source": [
        "### <mark> Explain why both values are 0 </mark>\n",
        "\n",
        "- You can use this markdown box to answer to the question"
      ]
    },
    {
      "cell_type": "markdown",
      "source": [],
      "metadata": {
        "id": "NOvztwr4DJm6"
      }
    },
    {
      "cell_type": "markdown",
      "source": [
        "the value of a and b remain zero despite n1 and n2 having assigned user input values."
      ],
      "metadata": {
        "id": "eYUZYDvDDQZC"
      }
    },
    {
      "cell_type": "markdown",
      "metadata": {
        "id": "dNxggMaexoJL"
      },
      "source": [
        "---\n",
        "#### <p style=\"font-family: Arial; font-size:1.4em; background-color: yellow; color:black;\"> Problem #2.2 </p>\n",
        "\n",
        "####  Check out this code. After the function call \"getinput()\" in the main function,  \n",
        "#### show the  values \"list1\". Explain the result.\n",
        "### In problem 2.1, there were no changes even though the values were altered in the function getinput().\n",
        "### In this code, when you assign the values to the list \"l1\", these changes affect to the main function.\n"
      ]
    },
    {
      "cell_type": "markdown",
      "metadata": {
        "id": "s85eG8nQxoJL"
      },
      "source": [
        "<style>\n",
        "\tp {\n",
        "\t\tbackground-color: grey;\n",
        "\t\tcolor: white;\n",
        "\t\tborder: 3px solid grey\n",
        "\n",
        "\t}\n",
        "</style>\n",
        "\n",
        "<p> Making Changes to Parameters 2 </p>\n"
      ]
    },
    {
      "cell_type": "code",
      "execution_count": null,
      "metadata": {
        "id": "L-P3vdJdxoJL"
      },
      "outputs": [],
      "source": [
        "\n",
        "def getinput(l1):\n",
        "\tl1.append(input())\n",
        "\tl1.append(input())\n",
        "\tl1.append(input())\n",
        "\tprint (\"The value of parameter l1 \", l1)\n",
        "\n",
        "def main():\n",
        "\tlist1 = []\n",
        "\tgetinput(list1)\n",
        "\tprint (\"The value of list1\", list1);\n",
        "\n",
        "if __name__ == '__main__':\n",
        "\tmain()\n"
      ]
    },
    {
      "cell_type": "markdown",
      "metadata": {
        "id": "tDXH0DNZxoJM"
      },
      "source": [
        "## Answer the question 2.2 here\n",
        "- You can use Markdown syntax to make the MarkDown Text"
      ]
    },
    {
      "cell_type": "markdown",
      "source": [
        "the code shows a list is passed to a function the changes made to the list continue even after the function is returned the function is working with the original list object as opposed to a copy and any modifications made inside the function affect the original list outside the function."
      ],
      "metadata": {
        "id": "uRIqV2CxTJ_N"
      }
    },
    {
      "cell_type": "markdown",
      "metadata": {
        "id": "WhMfvBVUxoJM"
      },
      "source": [
        "---\n",
        "#### <p style=\"font-family: Arial; font-size:1.4em; background-color: yellow; color:black;\"> Problem #2.3 </p>\n",
        "\n",
        "####  Check out this code.\n",
        "####  Can we return multiple values in the function?\n"
      ]
    },
    {
      "cell_type": "markdown",
      "metadata": {
        "id": "jUNKtoQ_xoJM"
      },
      "source": [
        "<style>\n",
        "\tp {\n",
        "\t\tbackground-color: grey;\n",
        "\t\tcolor: white;\n",
        "\t\tborder: 3px solid grey\n",
        "\n",
        "\t}\n",
        "</style>\n",
        "\n",
        "<p> Returning multiple values</p>\n"
      ]
    },
    {
      "cell_type": "code",
      "execution_count": 4,
      "metadata": {
        "colab": {
          "base_uri": "https://localhost:8080/"
        },
        "id": "1VB-n24lxoJM",
        "outputId": "3c913c4c-4899-4a84-9167-20ce279cac9a"
      },
      "outputs": [
        {
          "output_type": "stream",
          "name": "stdout",
          "text": [
            "5\n",
            "4\n",
            "The value of num1 and num2 are 5 and 4\n"
          ]
        }
      ],
      "source": [
        "\n",
        "def getinput():\n",
        "\tval1 = input()\n",
        "\tval2 = input()\n",
        "\treturn val1, val2\n",
        "\n",
        "def main():\n",
        "\tnum1, num2 = getinput()\n",
        "\tprint (\"The value of num1 and num2 are {0} and {1}\".format(num1, num2))\n",
        "\n",
        "if __name__ == '__main__':\n",
        "\tmain()\n"
      ]
    },
    {
      "cell_type": "markdown",
      "source": [],
      "metadata": {
        "id": "ixUSFH1tXoSG"
      }
    },
    {
      "cell_type": "markdown",
      "metadata": {
        "id": "2t5d63T4xoJM"
      },
      "source": [
        "## Answer the question 2.3 here\n",
        "- You can use Markdown syntax to make the MarkDown Text\n",
        "the code can return multiple values by using a function by returning them both seperated as commas"
      ]
    },
    {
      "cell_type": "markdown",
      "metadata": {
        "id": "V26xsXtgxoJM"
      },
      "source": [
        "---\n",
        "#### <p style=\"font-family: Arial; font-size:1.4em; background-color: yellow; color:black;\"> Problem #2.4 </p>\n",
        "\n",
        "####  Print the local variable that was used in the function getsum() in the main() function.\n",
        "####  Can we print the same value ? Errors? Why?\n",
        "#### Suggest how we can print the 'total' of the function getsum() in the main()\n"
      ]
    },
    {
      "cell_type": "code",
      "execution_count": 3,
      "metadata": {
        "colab": {
          "base_uri": "https://localhost:8080/"
        },
        "id": "Ayjigs3AxoJM",
        "outputId": "01ba8b56-34dc-4a99-9a06-8cf30482e035"
      },
      "outputs": [
        {
          "output_type": "stream",
          "name": "stdout",
          "text": [
            "Total is 30\n",
            "Total is 0\n"
          ]
        }
      ],
      "source": [
        "def getsum(n1, n2):\n",
        "    total = n1 + n2\n",
        "    print(f'Total is {total}')\n",
        "\n",
        "def main():\n",
        "    total = 0\n",
        "    num1 = 10\n",
        "    num2 = 20\n",
        "    getsum(num1, num2)\n",
        "    print(f'Total is {total}')\n",
        "\n",
        "if __name__ == '__main__':\n",
        "    main()"
      ]
    },
    {
      "cell_type": "markdown",
      "metadata": {
        "id": "K9D3WRDOxoJM"
      },
      "source": [
        "## Answer the question 2.4 here\n",
        "- You can use Markdown syntax to make the MarkDown Text\n",
        "we cant print the total in getsum within main because total is isolated to getsum but not to main. if we wanted ti make it work wed need to return the value from getsum and capture it in main."
      ]
    },
    {
      "cell_type": "markdown",
      "metadata": {
        "id": "ulY7tJbDxoJM"
      },
      "source": [
        "---\n",
        "## Don't forget to <font color='red'> **\"commit\"** </font> your work or <font color='red'> **\"save\"** </font> in Google Colab\n",
        "## before moving to the next section."
      ]
    },
    {
      "cell_type": "markdown",
      "metadata": {
        "id": "co1aDJ3ExoJM"
      },
      "source": [
        "<style>\n",
        "\tp {\n",
        "\t\tbackground-color: grey;\n",
        "\t\tcolor: white;\n",
        "\t\tborder: 3px solid grey\n",
        "\n",
        "\t}\n",
        "</style>\n",
        "\n",
        "<p> Keyword Arguments </p>\n"
      ]
    },
    {
      "cell_type": "markdown",
      "metadata": {
        "id": "e1m7_rQexoJM"
      },
      "source": [
        "***\n",
        "## <p style=\"background-color: grey; color: white \"> ◼️  Keyworded Arguments </p>\n",
        "# <p style=\"font-family: Arial; font-size:1.4em;color:red;\"> 3. Keyworded Arguments</p>\n"
      ]
    },
    {
      "cell_type": "markdown",
      "metadata": {
        "id": "zrkOewgMxoJS"
      },
      "source": [
        "#### The parameter order can be changed if the keyworded arguments are used"
      ]
    },
    {
      "cell_type": "code",
      "execution_count": 5,
      "metadata": {
        "colab": {
          "base_uri": "https://localhost:8080/"
        },
        "id": "tB5hb8BlxoJS",
        "outputId": "db629230-c5b3-4dab-a426-9a1c6b072235"
      },
      "outputs": [
        {
          "output_type": "stream",
          "name": "stdout",
          "text": [
            "The first parameter n1 is 200\n",
            "The second parameter n2 is 100\n",
            "The total is 300\n",
            "The value of total is 300\n"
          ]
        }
      ],
      "source": [
        "\n",
        "def getsum(n1, n2):\n",
        "\tprint (f'The first parameter n1 is {n1}')\n",
        "\tprint (f'The second parameter n2 is {n2}')\n",
        "\ttotal = n1 + n2\n",
        "\tprint (f'The total is {total}')\n",
        "\treturn total\n",
        "\n",
        "def main():\n",
        "\ttotal = getsum(n2=100, n1=200)\t# giving the second parameter first\n",
        "\tprint (f'The value of total is {total}')\n",
        "\n",
        "if __name__ == '__main__':\n",
        "\tmain()"
      ]
    },
    {
      "cell_type": "markdown",
      "metadata": {
        "id": "SFQ7SLeKxoJS"
      },
      "source": [
        "#### <p style=\"font-family: Arial; font-size:1.4em; background-color: yellow; color:black;\"> Problem #3.1 </p>\n",
        "\n",
        "### The function setListValues() will work to make the mylst that has the values 100, 200 and 300\n",
        "####  Complete the function call to make the list as following\n",
        "```\n",
        "mylst = [100, 200, 300]\n"
      ]
    },
    {
      "cell_type": "code",
      "execution_count": 12,
      "metadata": {
        "colab": {
          "base_uri": "https://localhost:8080/"
        },
        "id": "P2uvqWtxxoJS",
        "outputId": "7d3caa90-fefc-444a-f3d6-a0ef6432ed84"
      },
      "outputs": [
        {
          "output_type": "stream",
          "name": "stdout",
          "text": [
            "[100, 200, 300]\n"
          ]
        }
      ],
      "source": [
        "def setListValues(first_element, second_element, third_element):\n",
        "    mylst=[]\n",
        "    mylst.append(first_element)\n",
        "    mylst.append(second_element)\n",
        "    mylst.append(third_element)\n",
        "    return mylst\n",
        "\n",
        "def main():\n",
        "    mylst = setListValues(third_element= 300,\n",
        "                  second_element= 200,\n",
        "                  first_element= 100)\n",
        "\n",
        "    print(mylst)\n",
        "\n",
        "if __name__ == '__main__':\n",
        "    main()\n",
        ""
      ]
    },
    {
      "cell_type": "markdown",
      "metadata": {
        "id": "M7kTik57xoJS"
      },
      "source": [
        "### Follow up Question\n",
        "\n",
        "### Is the list \"mylst\" in function \"setListValues()\" as the one in \"main\"?\n",
        "----"
      ]
    },
    {
      "cell_type": "markdown",
      "metadata": {
        "id": "SN4ThPQsxoJS"
      },
      "source": [
        "### Your Answer :no the list mylst in the set setlistvalues function is not the same as the one in the main function mylst only exists within the scope of setlistvalues and mylst is returned to a new variable which is named the same.\n",
        "---"
      ]
    },
    {
      "cell_type": "markdown",
      "metadata": {
        "id": "jn8A5h3pxoJS"
      },
      "source": [
        "## Don't forget to <font color='red'> **\"commit\"** </font> your work or <font color='red'> **\"save\"** </font> in Google Colab\n",
        "## before moving to the next section."
      ]
    },
    {
      "cell_type": "markdown",
      "metadata": {
        "id": "VubGy5C6xoJS"
      },
      "source": [
        "***\n",
        "## <p style=\"background-color: grey; color: white \"> ◼️  Global Variables </p>\n",
        "# <p style=\"font-family: Arial; font-size:1.4em;color:red;\"> 4. Global Variables</p>\n"
      ]
    },
    {
      "cell_type": "markdown",
      "metadata": {
        "id": "76ofSGVVxoJS"
      },
      "source": [
        "<style>\n",
        "\tp {\n",
        "\t\tbackground-color: grey;\n",
        "\t\tcolor: white;\n",
        "\t\tborder: 3px solid grey\n",
        "\n",
        "\t}\n",
        "</style>\n",
        "\n",
        "<p> Global Variables </p>\n",
        "\n",
        "Run the below code and check out the values <mark> gvar </mark>\n"
      ]
    },
    {
      "cell_type": "code",
      "execution_count": 13,
      "metadata": {
        "colab": {
          "base_uri": "https://localhost:8080/"
        },
        "id": "oTsjK1obxoJT",
        "outputId": "b57001dc-ba2b-4be7-9a0d-b4fabc26e08e"
      },
      "outputs": [
        {
          "output_type": "stream",
          "name": "stdout",
          "text": [
            "Before call myfunction1  100\n",
            "Inside the function  111\n",
            "After call myfunction1  111\n"
          ]
        }
      ],
      "source": [
        "gvar = 100\n",
        "\n",
        "def myfunction1():\n",
        "\tprint ('Inside the function ', gvar)\n",
        "\n",
        "\n",
        "def main():\n",
        "\tglobal gvar\n",
        "\tprint ('Before call myfunction1 ', gvar)\n",
        "\tgvar += 11\n",
        "\n",
        "\tmyfunction1()\n",
        "\tprint ('After call myfunction1 ', gvar)\n",
        "\n",
        "if __name__ == '__main__':\n",
        "\tmain()"
      ]
    },
    {
      "cell_type": "markdown",
      "metadata": {
        "id": "9uIsyLZTxoJT"
      },
      "source": [
        "#### <p style=\"font-family: Arial; font-size:1.4em; background-color: yellow; color:black;\"> Problem #4.1 </p>\n",
        "\n",
        "####  Explain the printed the value of \"gvar\"  \n",
        "gvar is initialized as 100 and the first output shows that then gvar += 1 changes the value by 1 to make it 101 then main function uses gvar += 1 to make it 102."
      ]
    },
    {
      "cell_type": "code",
      "execution_count": 14,
      "metadata": {
        "colab": {
          "base_uri": "https://localhost:8080/"
        },
        "id": "bsv83oGyxoJT",
        "outputId": "dce80fee-8807-48bf-ebe4-c38702623426"
      },
      "outputs": [
        {
          "output_type": "stream",
          "name": "stdout",
          "text": [
            "Before call myfunction1  100\n",
            "After call myfunction1  101\n",
            "After increasing by 1 in main function 102\n"
          ]
        }
      ],
      "source": [
        "gvar = 100\n",
        "\n",
        "def myfunction1():\n",
        "    global gvar\n",
        "    gvar += 1\n",
        "\n",
        "def main():\n",
        "\tglobal gvar\n",
        "\tprint ('Before call myfunction1 ', gvar)\n",
        "\tmyfunction1()\n",
        "\tprint ('After call myfunction1 ', gvar)\n",
        "\tgvar += 1\n",
        "\tprint ('After increasing by 1 in main function', gvar)\n",
        "\n",
        "if __name__ == '__main__':\n",
        "\tmain()"
      ]
    },
    {
      "cell_type": "markdown",
      "metadata": {
        "id": "0U9BdsSxxoJT"
      },
      "source": [
        "#### <p style=\"font-family: Arial; font-size:1.4em; background-color: yellow; color:black;\"> Problem #4.2 </p>\n",
        "\n",
        "####  Explain the printed the value of \"gvar\" is 100 even though it has been increased by 1 in the myfuntion1()\n",
        "\n",
        "gvar is isolated from main() in function1 so any changes even increases by 1 doesnt effect main because its not within its scope so it still has teh initial 100."
      ]
    },
    {
      "cell_type": "code",
      "execution_count": 16,
      "metadata": {
        "colab": {
          "base_uri": "https://localhost:8080/"
        },
        "id": "wtjx83BExoJW",
        "outputId": "3c521bb4-6fca-4b19-a48b-36d66723be1a"
      },
      "outputs": [
        {
          "output_type": "stream",
          "name": "stdout",
          "text": [
            "Before call myfunction1  100\n",
            "After call myfunction1  100\n"
          ]
        }
      ],
      "source": [
        "gvar = 100\n",
        "\n",
        "def myfunction1():\n",
        "    gvar = 0\n",
        "    gvar += 1\n",
        "\n",
        "def main():\n",
        "\tglobal gvar\n",
        "\tprint ('Before call myfunction1 ', gvar)\n",
        "\tmyfunction1()\n",
        "\tprint ('After call myfunction1 ', gvar)\n",
        "\n",
        "if __name__ == '__main__':\n",
        "\tmain()"
      ]
    },
    {
      "cell_type": "markdown",
      "metadata": {
        "id": "LF5akbGGxoJX"
      },
      "source": [
        "#### <p style=\"font-family: Arial; font-size:1.4em; background-color: yellow; color:black;\"> Problem #4.3 </p>\n",
        "\n",
        "####  Explain why this code encounters error\n",
        "####  Fix the Errors and show the complete code\n"
      ]
    },
    {
      "cell_type": "code",
      "execution_count": 18,
      "metadata": {
        "colab": {
          "base_uri": "https://localhost:8080/"
        },
        "id": "2Xvl5qjcxoJX",
        "outputId": "d4ac41b5-15a7-4f64-e2a7-0d396d5d634b"
      },
      "outputs": [
        {
          "output_type": "stream",
          "name": "stdout",
          "text": [
            "Before call myfunction1  101\n",
            "After call myfunction1  101\n"
          ]
        }
      ],
      "source": [
        "gvar = 100\n",
        "\n",
        "def myfunction1():\n",
        "    global gvar\n",
        "gvar += 1\n",
        "\n",
        "def main():\n",
        "\tglobal gvar\n",
        "\tprint ('Before call myfunction1 ', gvar)\n",
        "\tmyfunction1()\n",
        "\tprint ('After call myfunction1 ', gvar)\n",
        "\n",
        "if __name__ == '__main__':\n",
        "\tmain()"
      ]
    },
    {
      "cell_type": "code",
      "execution_count": 19,
      "metadata": {
        "colab": {
          "base_uri": "https://localhost:8080/"
        },
        "id": "LKlpkrCTxoJX",
        "outputId": "96f886d7-3bb1-4f50-da1a-b2fe309c6320"
      },
      "outputs": [
        {
          "output_type": "stream",
          "name": "stdout",
          "text": [
            "Before call myfunction1  101\n",
            "After call myfunction1  101\n"
          ]
        }
      ],
      "source": [
        "# Fix the errors and show the complete code here\n",
        "gvar = 100\n",
        "\n",
        "def myfunction1():\n",
        "    global gvar\n",
        "gvar += 1\n",
        "\n",
        "def main():\n",
        "\tglobal gvar\n",
        "\tprint ('Before call myfunction1 ', gvar)\n",
        "\tmyfunction1()\n",
        "\tprint ('After call myfunction1 ', gvar)\n",
        "\n",
        "if __name__ == '__main__':\n",
        "\tmain()"
      ]
    },
    {
      "cell_type": "markdown",
      "metadata": {
        "id": "2AD95YSCxoJX"
      },
      "source": [
        "## Please <font color='red'> **\"commit\"** </font> your work or <font color='red'> **\"save\"** </font> in Google Colab\n",
        "## before moving to the next section."
      ]
    },
    {
      "cell_type": "markdown",
      "metadata": {
        "id": "3dakFpA4xoJX"
      },
      "source": [
        "***\n",
        "## <p style=\"background-color: grey; color: white \"> ◼️  Arbitrary Arguments and Keyword Arguments</p>\n",
        "# <p style=\"font-family: Arial; font-size:1.4em;color:red;\"> 5. Arbitrary Arguments and Keyword Arguments</p>\n"
      ]
    },
    {
      "cell_type": "markdown",
      "metadata": {
        "id": "UlnAuyH5xoJX"
      },
      "source": [
        "## Arbitrary Argument\n",
        "\n",
        "### An arbitrary argument in Python allows a function to accept an unspecified number of arguments using *args for non-keyword arguments or **kwargs for keyword arguments"
      ]
    },
    {
      "cell_type": "markdown",
      "metadata": {
        "id": "vIFcfKcexoJX"
      },
      "source": [
        "### Arbitrary Arguments (*args):\n",
        "```\n",
        "* is used to allow a function to accept an arbitrary number of positional arguments.\n",
        "```\n",
        "\n",
        "Basic Example"
      ]
    },
    {
      "cell_type": "code",
      "execution_count": 20,
      "metadata": {
        "colab": {
          "base_uri": "https://localhost:8080/"
        },
        "id": "d4OilKyhxoJX",
        "outputId": "d73cfc9c-0d41-466b-c033-a0b97e069b8f"
      },
      "outputs": [
        {
          "output_type": "stream",
          "name": "stdout",
          "text": [
            "Hello, Alice!\n",
            "Hello, Bob!\n",
            "Hello, Charlie!\n"
          ]
        }
      ],
      "source": [
        "def greet(*args):\n",
        "    for name in args:\n",
        "        print(f\"Hello, {name}!\")\n",
        "\n",
        "greet(\"Alice\", \"Bob\", \"Charlie\")\n"
      ]
    },
    {
      "cell_type": "markdown",
      "metadata": {
        "id": "APbjGrDjxoJX"
      },
      "source": [
        "#### Understanding the function type()"
      ]
    },
    {
      "cell_type": "code",
      "execution_count": 21,
      "metadata": {
        "colab": {
          "base_uri": "https://localhost:8080/"
        },
        "id": "Ree-nTWxxoJX",
        "outputId": "e94f8de0-0a3b-4ab2-e300-2b4cbf61b7ff"
      },
      "outputs": [
        {
          "output_type": "execute_result",
          "data": {
            "text/plain": [
              "int"
            ]
          },
          "metadata": {},
          "execution_count": 21
        }
      ],
      "source": [
        "number = 10\n",
        "type(number)"
      ]
    },
    {
      "cell_type": "markdown",
      "metadata": {
        "id": "BE9KAndixoJX"
      },
      "source": [
        "### Check the data type for the arbitrary argument\n"
      ]
    },
    {
      "cell_type": "markdown",
      "metadata": {
        "id": "imuMvVybxoJX"
      },
      "source": [
        "#### <p style=\"font-family: Arial; font-size:1.4em; background-color: yellow; color:black;\"> Problem #5.1 </p>\n",
        "\n",
        "####  Check the printed data type.  \n",
        "####  Type the printed data type in the below\n"
      ]
    },
    {
      "cell_type": "code",
      "execution_count": 22,
      "metadata": {
        "colab": {
          "base_uri": "https://localhost:8080/"
        },
        "id": "qQlr7nJ5xoJY",
        "outputId": "7e71dff8-51b6-4dfd-f2c0-a4c09ac56ea9"
      },
      "outputs": [
        {
          "output_type": "stream",
          "name": "stdout",
          "text": [
            "<class 'tuple'>\n",
            "(10, 20, 30)\n",
            "10\t20\t30\t"
          ]
        }
      ],
      "source": [
        "def myfunction(*values):\n",
        "    print(type(values))\n",
        "    print (values)\n",
        "    for v in values:\n",
        "        print (v, end='\\t')\n",
        "\n",
        "n1 = 10; n2 = 20; n3=30;\n",
        "myfunction(n1, n2, n3)"
      ]
    },
    {
      "cell_type": "markdown",
      "metadata": {
        "id": "_1i2wcTOxoJY"
      },
      "source": [
        "#### <mark> Type your answer here </mark>\n",
        "- What is the data type of values in the function ?\n",
        "the data type would be a tuple using the * symbol in a function takes the values and packs them into a tuple."
      ]
    },
    {
      "cell_type": "markdown",
      "metadata": {
        "id": "aDWhGedHxoJY"
      },
      "source": [
        "***\n",
        "#### <p style=\"font-family: Arial; font-size:1.4em; background-color: yellow; color:black;\"> Problem #5.2 </p>\n",
        "\n",
        "####  Check the printed data type.  \n",
        "####  Type the printed data type in the below\n"
      ]
    },
    {
      "cell_type": "code",
      "execution_count": 23,
      "metadata": {
        "colab": {
          "base_uri": "https://localhost:8080/"
        },
        "id": "T9mDQdx-xoJY",
        "outputId": "b5849f81-2fb3-4423-faf0-a8679d714ca7"
      },
      "outputs": [
        {
          "output_type": "stream",
          "name": "stdout",
          "text": [
            "<class 'list'> It has been printed in the main()\n",
            "<class 'tuple'> It has been printed in the funtion myfuntion()\n",
            "The value of args is  ([10, 20, 30],)\n",
            "[10, 20, 30]\t \n"
          ]
        }
      ],
      "source": [
        "def myfunction(*args):\n",
        "    print(type(args), 'It has been printed in the funtion myfuntion()') # type the printed data type in the below cell\n",
        "    print ('The value of args is ', args)\n",
        "    for v in args:\n",
        "        print (v, end='\\t')\n",
        "    print(' ')\n",
        "def main():\n",
        "    values = [10, 20, 30]\n",
        "    print (type(values), 'It has been printed in the main()')    # type the printed data type in the below cell\n",
        "    myfunction(values)\n",
        "\n",
        "if __name__ == '__main__':\n",
        "    main()\n"
      ]
    },
    {
      "cell_type": "markdown",
      "metadata": {
        "id": "E7nRjukcxoJY"
      },
      "source": [
        "#### <mark> Type your answer here </mark>\n",
        "\n",
        "### Are the two printed data types same?\n",
        "\n",
        "- What is the data type printed in main()?\n",
        "- What is the data type printed in myfunction()?\n",
        "- How many elements are there in the tuple \"args\" ?\n",
        "- What is the data type of <mark> element </mark> in the tuple \"args\" ?\n",
        "- How many elements are there in the list \"values\" ?  How many iterations are occured in the for loop of myfuntion()? Why? Explain it.\n",
        "\n",
        "-the data type is list\n",
        "-the data type is a tuple\n",
        "-there is 1 element containing the values list\n",
        "-the data type of mark element in the tuple args is list\n",
        "-there are 3 elements in the list (10,20,30), the loop will iterate only once and the loop is only iterated once because arghas only 1 element so the loop executes only once."
      ]
    },
    {
      "cell_type": "markdown",
      "metadata": {
        "id": "3U1uiC3DxoJY"
      },
      "source": [
        "***\n",
        "#### <p style=\"font-family: Arial; font-size:1.4em; background-color: yellow; color:black;\"> Problem #5.3 </p>\n",
        "\n",
        "####  Check the printed data type and clarify the difference printed output values between two function calls\n",
        "####  \n"
      ]
    },
    {
      "cell_type": "code",
      "execution_count": null,
      "metadata": {
        "id": "2HJoNH6vxoJY",
        "outputId": "65c2a6ba-adad-4e1e-ca43-7b65774f390d"
      },
      "outputs": [
        {
          "name": "stdout",
          "output_type": "stream",
          "text": [
            "<class 'tuple'>\n",
            "([10, 20, 30],)\n",
            "[10, 20, 30]\t\n",
            "<class 'tuple'>\n",
            "(10, 20, 30)\n",
            "10\t20\t30\t\n"
          ]
        }
      ],
      "source": [
        "def myfunction(*values):\n",
        "    print(type(values)) # type the printed data type in the below cell\n",
        "    print (values)\n",
        "    for v in values:\n",
        "        print (v, end='\\t')\n",
        "    print()\n",
        "\n",
        "def main():\n",
        "    values = [10, 20, 30]\n",
        "    myfunction(values)          # It prints (10, 20, 30)    Why ?\n",
        "\n",
        "    val1 = 10 ; val2 = 20; val3 = 30;\n",
        "    myfunction(val1, val2, val3)        # It prints 10 20 30 ; Why?\n",
        "if __name__ == '__main__':\n",
        "    main()\n"
      ]
    },
    {
      "cell_type": "markdown",
      "metadata": {
        "id": "OplHdDgvxoJY"
      },
      "source": [
        "#### <mark> Type your answer here </mark>\n",
        "\n",
        "### Are the two printed data types same?\n",
        "\n",
        "- What is the data type printed in main()?\n",
        "- What is the data type printed in myfunction()?\n",
        "- How many elements are there in the tuple 'values' at each call myfunction() ? How many iterations are occured in the for-loop? why?"
      ]
    },
    {
      "cell_type": "markdown",
      "metadata": {
        "id": "ndtNByyHxoJY"
      },
      "source": [
        "***\n",
        "#### <p style=\"font-family: Arial; font-size:1.4em; background-color: yellow; color:black;\"> Problem #5.4 </p>\n",
        "\n",
        "####  Clarify the differences between two functions \"myfn1\" and \"myfn2\"\n",
        "####  Answer in the below markdown cell.\n"
      ]
    },
    {
      "cell_type": "code",
      "execution_count": null,
      "metadata": {
        "id": "TyP8FXjoxoJY"
      },
      "outputs": [],
      "source": [
        "def myfn1(*values):\n",
        "    print (type(values))\n",
        "    for v in values:\n",
        "        print (v, end='\\t')\n",
        "\n",
        "def myfn2(values):\n",
        "    print (type(values))\n",
        "    for v in values:\n",
        "        print (v, end='\\t')\n",
        "\n",
        "values = [10, 20, 30]\n",
        "myfn1(values)\n",
        "print()\n",
        "myfn2(values)"
      ]
    },
    {
      "cell_type": "markdown",
      "metadata": {
        "id": "r9s-t2zhxoJY"
      },
      "source": [
        "#### <mark> Type your answer here </mark>\n",
        "\n",
        "### Are the two printed data types same?\n",
        "\n",
        "- Are the printed values are same? If not, why?\n",
        "***"
      ]
    },
    {
      "cell_type": "markdown",
      "metadata": {
        "id": "5eLTGbRyxoJY"
      },
      "source": [
        "## Unpacking Operator:\n",
        "\n",
        "### <mark> * </mark> is used to unpack elements from a list or tuple into separate variables or to pass multiple arguments to a function."
      ]
    },
    {
      "cell_type": "code",
      "execution_count": null,
      "metadata": {
        "id": "MH0MNLHzxoJY"
      },
      "outputs": [],
      "source": [
        "# check out the difference between two print statements\n",
        "numbers = [10, 20, 30]\n",
        "print (numbers)\n",
        "print (*numbers)\n"
      ]
    },
    {
      "cell_type": "markdown",
      "metadata": {
        "id": "bugOLx5oxoJY"
      },
      "source": [
        "***\n",
        "#### <p style=\"font-family: Arial; font-size:1.4em; background-color: yellow; color:black;\"> Problem #5.5 </p>\n",
        "\n",
        "####  Clarify the differences of the printed output between two functions \"myfn1\" and \"myfn2\"\n",
        "####  Answer in the below markdown cell.\n"
      ]
    },
    {
      "cell_type": "code",
      "execution_count": null,
      "metadata": {
        "id": "58txBO_VxoJZ"
      },
      "outputs": [],
      "source": [
        "def myfn1(n1, n2, n3):\n",
        "    print (n1, n2, n3)\n",
        "\n",
        "def myfn2(val):\n",
        "    print (val)\n",
        "    for v in val:\n",
        "        print (v, end=' ')\n",
        "    print()\n",
        "\n",
        "numbers = [10, 20, 30]\n",
        "myfn1(*numbers)\n",
        "myfn2(numbers)"
      ]
    },
    {
      "cell_type": "markdown",
      "metadata": {
        "id": "_1ThgC_XxoJZ"
      },
      "source": [
        "#### <mark> Type your answer here </mark>\n",
        "\n",
        "### Are the two printed output same?\n",
        "\n",
        "- Are the printed values are same? If not, why?  <br>\n",
        "- Is it possible to call function myfn1() ? Clarify your answer<br>  \n",
        "``` myfn1(numbers) ```\n",
        "- Is it possible to call function myfn2() ? Clarify your answer <br>\n",
        "``` myfn2(*numbers) ```\n",
        "\n",
        "***"
      ]
    },
    {
      "cell_type": "markdown",
      "metadata": {
        "id": "dRMBuEN0xoJZ"
      },
      "source": [
        "***"
      ]
    },
    {
      "cell_type": "markdown",
      "metadata": {
        "id": "niRQTkJxxoJZ"
      },
      "source": [
        "# Keyword Arguments (**args):\n",
        "```\n",
        "* is used to allow a function to accept an arbitrary number of positional arguments.\n",
        "```\n",
        "\n",
        "Basic Example"
      ]
    },
    {
      "cell_type": "markdown",
      "metadata": {
        "id": "EonThECBxoJZ"
      },
      "source": [
        "***\n",
        "#### <p style=\"font-family: Arial; font-size:1.4em; background-color: yellow; color:black;\"> Problem #5.5 </p>\n",
        "\n",
        "####  Run the below code cell  \n",
        "####  Answer in the below markdown cell.\n"
      ]
    },
    {
      "cell_type": "markdown",
      "metadata": {
        "id": "FeSmfyV8xoJZ"
      },
      "source": [
        "### **kwargs\n",
        "## Run the following code and learn about the keyword argument"
      ]
    },
    {
      "cell_type": "code",
      "execution_count": null,
      "metadata": {
        "id": "yeh0wg0UxoJZ"
      },
      "outputs": [],
      "source": [
        "def myFun(**kwargs):\n",
        "\tprint (type(kwargs), 'The type of kwargs')\n",
        "\tprint (isinstance(kwargs, dict), '<--- If this is true, kwargs is a dictionary ')\n",
        "\tfor key, value in kwargs.items():\n",
        "\t\tprint (\"%s -> %s\" %(key, value))\n",
        "\n",
        "\n",
        "myFun(first ='California', mid ='Community', last='College')\n"
      ]
    },
    {
      "cell_type": "markdown",
      "metadata": {
        "id": "SK2ktOjexoJZ"
      },
      "source": [
        "\n",
        "-  What is the type of \"kwargs\" ? <br>\n",
        "-  Is it true \"isinstance(kwargs, dict) ?  <br>"
      ]
    },
    {
      "cell_type": "markdown",
      "metadata": {
        "id": "HRqvoXPPxoJZ"
      },
      "source": [
        "#### <mark> Type your answer here </mark>\n",
        "-\n",
        "-\n",
        "-\n",
        "***"
      ]
    },
    {
      "cell_type": "markdown",
      "metadata": {
        "id": "aG6TH7nixoJZ"
      },
      "source": [
        "#### <p style=\"font-family: Arial; font-size:1.4em; background-color: yellow; color:black;\"> Problem #5.6 </p>\n",
        "\n",
        "####  Call the function myFun( ) with the following code\n",
        "``` myFun(mid ='Community', last='College', first ='California') ```\n",
        "\n",
        "#### And explain the output. Was output printed from \"first\" key value or \"mid\" key value?\n"
      ]
    },
    {
      "cell_type": "code",
      "execution_count": null,
      "metadata": {
        "id": "zpAkAq9YxoJZ"
      },
      "outputs": [],
      "source": [
        "def myFun(**kwargs):\n",
        "\tfor key, value in kwargs.items():\n",
        "\t\tprint (\"%s -> %s\" %(key, value))\n",
        "\n",
        "myFun( # Complete yout code )\n"
      ]
    },
    {
      "cell_type": "markdown",
      "metadata": {
        "id": "7pYyWPKgxoJZ"
      },
      "source": [
        "#### <mark> Type your answer here </mark>\n",
        "-\n",
        "-\n",
        "-\n",
        "***"
      ]
    },
    {
      "cell_type": "markdown",
      "metadata": {
        "id": "32iDOnDWxoJZ"
      },
      "source": [
        "## Call function with the single value and keyword argument\n",
        "```\n",
        "myFun( normalvalue, **keyword_argument)\n",
        "```"
      ]
    },
    {
      "cell_type": "code",
      "execution_count": null,
      "metadata": {
        "id": "aITJws0DxoJZ"
      },
      "outputs": [],
      "source": [
        "def myFun(first, **kwargs):\n",
        "\tprint (first)\n",
        "\tfor key, value in kwargs.items():\n",
        "\t\tprint (\"%s -> %s\" %(key, value))\n",
        "\n",
        "# call myfun() with separate key=value pairs\n",
        "myFun('Apple', mid ='Pear', last='Orange')\n",
        "\n",
        "# Or\n",
        "kwargs = {'mid':'Pear', 'last':'Orange'}\n",
        "myFun('Apple',**kwargs)\n",
        "\n"
      ]
    },
    {
      "cell_type": "markdown",
      "metadata": {
        "id": "4fskWi4OxoJZ"
      },
      "source": [
        "#### <p style=\"font-family: Arial; font-size:1.4em; background-color: yellow; color:black;\"> Problem #5.7 </p>\n",
        "\n",
        "####  Call the function myFun( ) with the following code\n",
        "```\n",
        "\t# Call 1\n",
        "\tmyFun(\"Java\", \"C++\", \"Python\")\n",
        "\tmyFun(arg2=\"C++\", arg3=\"Python\", arg1=\"Java\")\n",
        "\n",
        "\t# Call 2\n",
        "\targs = (\"Java\", \"C++\", \"Python\")\n",
        "\tmyFun(*args)\n",
        "\n",
        "\t# Call 3\n",
        "\tkwargs = {\"arg1\" : \"Java\", \"arg2\" : \"C++\", \"arg3\" : \"Python\"}\n",
        "\tmyFun(**kwargs)\n",
        "```\n",
        "#### And explain the output. All outputs are same?\n"
      ]
    },
    {
      "cell_type": "markdown",
      "metadata": {
        "id": "iofOP9LVxoJa"
      },
      "source": [
        "## Call function(a, b, c) with\n",
        "- normal value argument: -----   function(arg1, arg2, arg3)\n",
        "- arbitrary argument:-----       function(*args)\n",
        "- keyword argument:-----         function(**kargs)\n",
        "```\n",
        "def myFun( a, b, c):\n",
        "```"
      ]
    },
    {
      "cell_type": "code",
      "execution_count": null,
      "metadata": {
        "id": "XJIFtFRMxoJa"
      },
      "outputs": [],
      "source": [
        "def myFun(arg1, arg2, arg3):\n",
        "\tprint(\"arg1:\", arg1, end='\\t')\n",
        "\tprint(\"arg2:\", arg2, end='\\t')\n",
        "\tprint(\"arg3:\", arg3, end='\\n')\n",
        "\n",
        "def main():\n",
        "\t# Call 1\n",
        "\tmyFun(\"Java\", \"C++\", \"Python\")\n",
        "\tmyFun(arg2=\"C++\", arg3=\"Python\", arg1=\"Java\")\n",
        "\n",
        "\t# Call 2\n",
        "\targs = (\"Java\", \"C++\", \"Python\")\n",
        "\tmyFun(*args)\n",
        "\t# Call 3\n",
        "\tkwargs = {\"arg1\" : \"Java\", \"arg2\" : \"C++\", \"arg3\" : \"Python\"}\n",
        "\tmyFun(**kwargs)\n",
        "\n",
        "\n",
        "if __name__ == '__main__':\n",
        "    main()\n",
        ""
      ]
    },
    {
      "cell_type": "markdown",
      "metadata": {
        "id": "wH7YWQUnxoJa"
      },
      "source": [
        "#### <mark> Type your answer here </mark>\n",
        "\n",
        "### All the output are same? Why? Explain it.\n",
        "-\n",
        "-\n",
        "-\n",
        "\n",
        "***"
      ]
    },
    {
      "cell_type": "markdown",
      "metadata": {
        "id": "72L4pVhbxoJa"
      },
      "source": [
        "## Other usefule expressions with arbitarary argument\n",
        "\n",
        "#### Run the followig code cells and learn the arbitrary argument"
      ]
    },
    {
      "cell_type": "markdown",
      "metadata": {
        "id": "_OLVU75zxoJa"
      },
      "source": [
        "<style>\n",
        "\tp {\n",
        "\t\t--background-color: grey;\n",
        "\t\tcolor: white;\n",
        "\t\tborder: 3px solid grey\n",
        "\n",
        "\t}\n",
        "</style>\n",
        "\n",
        "<p> Using the arbitrary arguments to save the returned value</p>\n",
        "\n"
      ]
    },
    {
      "cell_type": "code",
      "execution_count": null,
      "metadata": {
        "id": "iEjkd4GexoJa"
      },
      "outputs": [],
      "source": [
        "def retEven(lst):\n",
        "\tevenlst = []\n",
        "\tfor v in lst:\n",
        "\t\tif v % 2 == 0:\n",
        "\t\t\tevenlst.append(v)\n",
        "\treturn evenlst\n",
        "\n",
        "lst = [1,2,3,4,5,6]\n",
        "first, *others, last = retEven(lst)\n",
        "print (first)\n",
        "print (last)\n",
        "print (others)\n"
      ]
    },
    {
      "cell_type": "markdown",
      "metadata": {
        "id": "FgTA0i2hxoJa"
      },
      "source": [
        "<style>\n",
        "\th1 {\n",
        "\t\tbackground-color: grey;\n",
        "\t\tcolor: Yellow;\n",
        "\t\tborder: 3px solid grey;\n",
        "\t\t-- font-size: xx-large;\n",
        "\t}\n",
        "\tp {\n",
        "\t\tbackground-color: grey;\n",
        "\t\tcolor: white;\n",
        "\t\tborder: 3px solid grey;\n",
        "\t\tfont-size: xx-large\n",
        "\t}\n",
        "</style>\n",
        "<p> Example: *args </p>\n"
      ]
    },
    {
      "cell_type": "code",
      "execution_count": null,
      "metadata": {
        "id": "Kd7ujI8_xoJa",
        "outputId": "38fbb0c4-9184-4c3c-9045-829522fa0dc5"
      },
      "outputs": [
        {
          "name": "stdout",
          "output_type": "stream",
          "text": [
            "('Python Programming',)\n",
            "The value v is  Python Programming \tThe type of v is  <class 'str'>\n",
            "\n",
            "([1, 2, 3, 4, 5],)\n",
            "The value v is  [1, 2, 3, 4, 5] \tThe type of v is  <class 'list'>\n",
            "\n",
            "(1, 2, 3, 4, 5)\n",
            "The value v is  1 \tThe type of v is  <class 'int'>\n",
            "The value v is  2 \tThe type of v is  <class 'int'>\n",
            "The value v is  3 \tThe type of v is  <class 'int'>\n",
            "The value v is  4 \tThe type of v is  <class 'int'>\n",
            "The value v is  5 \tThe type of v is  <class 'int'>\n",
            "\n"
          ]
        }
      ],
      "source": [
        "\n",
        "def printstring(*string):\n",
        "\tprint (string)\n",
        "\tfor v in string:\n",
        "\t\tprint ('The value v is ', v, '\\tThe type of v is ', type(v) )\n",
        "\n",
        "\tprint ()\n",
        "\n",
        "stringvalue = \"Python Programming\"\n",
        "printstring(stringvalue)\n",
        "\n",
        "integerlist = [1,2,3,4,5]\n",
        "printstring(integerlist)\n",
        "\n",
        "printstring(1,2,3,4,5)"
      ]
    },
    {
      "cell_type": "markdown",
      "metadata": {
        "id": "cfvHECzDxoJa"
      },
      "source": [
        "## Please <font color='red'> **\"commit\"** </font> your work or <font color='red'> **\"save\"** </font> in Google Colab\n",
        "## before moving to the next section."
      ]
    },
    {
      "cell_type": "markdown",
      "metadata": {
        "id": "QDnaxzzbxoJa"
      },
      "source": [
        "***\n",
        "# <p style=\"background-color: grey; color: white \"> ◼️  Section 6 </p>\n",
        "# <p style=\"font-family: Arial; font-size:1.4em;color:red;\"> 6. Yield </p>\n"
      ]
    },
    {
      "cell_type": "markdown",
      "metadata": {
        "id": "b-jPbDD1xoJa"
      },
      "source": [
        "<style>\n",
        "\th1 {\n",
        "\t\tbackground-color: grey;\n",
        "\t\tcolor: Yellow;\n",
        "\t\tborder: 3px solid grey;\n",
        "\t\t-- font-size: xx-large;\n",
        "\t}\n",
        "\tp {\n",
        "\t\tbackground-color: grey;\n",
        "\t\tcolor: white;\n",
        "\t\tborder: 3px solid grey;\n",
        "\t}\n",
        "</style>\n",
        "<h1 font-size:40px> 6.1 iterator </h1>\n",
        "\n"
      ]
    },
    {
      "cell_type": "markdown",
      "metadata": {
        "id": "kT0lPIrGxoJa"
      },
      "source": [
        "## Understanding Iterator\n",
        "\n",
        "#### Run the followig code cells and learn the Iterator concept"
      ]
    },
    {
      "cell_type": "markdown",
      "metadata": {
        "id": "yam-xPaHxoJa"
      },
      "source": [
        "<style>\n",
        "\th3 {\n",
        "\t\tbackground-color: black;\n",
        "\t\tcolor: white;\n",
        "\t\tborder: 1px solid grey;\n",
        "\t\tfont-size: 30px;\n",
        "\t}\n",
        "\tp {\n",
        "\t\tbackground-color: #336666;\n",
        "\t\tcolor: white;\n",
        "\t\tborder: 1px solid grey;\n",
        "\t\tfont-size: 24;\n",
        "\t}\n",
        "</style>\n",
        "\n",
        "<h3> Iterator </h3>\n",
        "<p>\n",
        "\n",
        "An iterator in Python is an object that enables you to traverse through a collection of elements, such as a list, tuple, or dictionary, one element at a time. It implements two main methods:\n",
        "```\n",
        "__iter__(): Returns the iterator object itself. This is required for an object to be an iterator.\n",
        "__next__(): Returns the next item from the collection. When there are no more items, it raises a StopIteration exception.\n",
        "```\n",
        "</p>"
      ]
    },
    {
      "cell_type": "markdown",
      "metadata": {
        "id": "WqLeyV4MxoJa"
      },
      "source": [
        "#### <p style=\"font-family: Arial; font-size:1.4em; background-color: yellow; color:black;\"> Problem #6.1 </p>\n",
        "\n",
        "<style>\n",
        "\tp {\n",
        "\t\tbackground-color: black;\n",
        "\t\tcolor: white;\n",
        "\t\tborder: 1px solid grey;\n",
        "\t\tfont-size: 30px;\n",
        "\t}\n",
        "</style>\n",
        "<p> Run the following code cells and answer the questions </p>  \n"
      ]
    },
    {
      "cell_type": "markdown",
      "metadata": {
        "id": "serAlTYMxoJa"
      },
      "source": [
        "#### What is the type of \"myiter\"?\n",
        "- Your answer: 👉"
      ]
    },
    {
      "cell_type": "code",
      "execution_count": null,
      "metadata": {
        "id": "p7QkVAE8xoJa"
      },
      "outputs": [],
      "source": [
        "mylst = [10, 20, 30]\n",
        "myiter = iter(mylst)\n",
        "\n",
        "type(myiter)"
      ]
    },
    {
      "cell_type": "markdown",
      "metadata": {
        "id": "sLk_ugFoxoJb"
      },
      "source": [
        "#### What is the result of the following code?\n",
        "``` myiter.__next__() ```\n",
        "- Your answer: Here 👉"
      ]
    },
    {
      "cell_type": "code",
      "execution_count": null,
      "metadata": {
        "id": "RoEEDDjtxoJb"
      },
      "outputs": [],
      "source": [
        "myiter.__next__()"
      ]
    },
    {
      "cell_type": "markdown",
      "metadata": {
        "id": "UUXagFIexoJb"
      },
      "source": [
        "#### What is the result of the following code?\n",
        "```\n",
        "    myiter.__next__()  \n",
        "    myiter.__next__()\n",
        "```\n",
        "- Your answer: Here 👉"
      ]
    },
    {
      "cell_type": "code",
      "execution_count": null,
      "metadata": {
        "id": "SQliEtykxoJb"
      },
      "outputs": [],
      "source": [
        "print (myiter.__next__())\n",
        "print (myiter.__next__())"
      ]
    },
    {
      "cell_type": "markdown",
      "metadata": {
        "id": "QfW7BLiBxoJb"
      },
      "source": [
        "#### If you run this code one more, you will see error. Show the error message. Why does it cause an error?\n",
        "```\n",
        "    myiter.__next__()  \n",
        "```\n",
        "- Your answer: Here  👉"
      ]
    },
    {
      "cell_type": "code",
      "execution_count": null,
      "metadata": {
        "id": "h843Y_bTxoJb"
      },
      "outputs": [],
      "source": [
        "print (myiter.__next__())"
      ]
    },
    {
      "cell_type": "markdown",
      "metadata": {
        "id": "Y9bTAdwnxoJb"
      },
      "source": [
        "#### next() function is the same as ``` __next__() ```\n",
        "```\n",
        "    iter_obj = iter(mylst)\n",
        "    next(iter_obj)\n",
        "```"
      ]
    },
    {
      "cell_type": "code",
      "execution_count": null,
      "metadata": {
        "id": "RmXVyKwtxoJb"
      },
      "outputs": [],
      "source": [
        "mylst = [1,2,3]\n",
        "itobj= iter(mylst)\n",
        "print (next(itobj))\n",
        "print (next(itobj))\n",
        "print (next(itobj))"
      ]
    },
    {
      "cell_type": "markdown",
      "metadata": {
        "id": "KmQNj8M1xoJb"
      },
      "source": [
        "***\n",
        "#### <p style=\"font-family: Arial; font-size:1.4em; background-color: yellow; color:black;\"> Problem #6.2: Loop Structures with Iterator </p>\n",
        "\n",
        "<style>\n",
        "\tp {\n",
        "\t\tbackground-color: black;\n",
        "\t\tcolor: white;\n",
        "\t\tborder: 1px solid grey;\n",
        "\t\tfont-size: 30px;\n",
        "\t}\n",
        "</style>\n",
        "<p> Run the following code cells and answer the questions </p>  \n"
      ]
    },
    {
      "cell_type": "markdown",
      "metadata": {
        "id": "w1tnICY1xoJb"
      },
      "source": [
        "#### Compare two loop structures with iterator, for loop and while loop."
      ]
    },
    {
      "cell_type": "markdown",
      "metadata": {
        "id": "kuNkr_ZmxoJb"
      },
      "source": [
        "<style>\n",
        "\th5 {\n",
        "\t\tbackground-color: black;\n",
        "\t\tcolor: white;\n",
        "\t\tborder: 1px solid grey;\n",
        "\t\tfont-size: 30px;\n",
        "\t}\n",
        "\tp {\n",
        "\t\tbackground-color: #336666;\n",
        "\t\tcolor: white;\n",
        "\t\tborder: 1px solid grey;\n",
        "\t\tfont-size: 24;\n",
        "\t}\n",
        "</style>\n",
        "##### for loop\n",
        "<p>\n",
        "Using Iterators in Loops <br>\n",
        "Most commonly, you use iterators in a for loop, which automatically handles the StopIteration exception:\n",
        "</p>"
      ]
    },
    {
      "cell_type": "code",
      "execution_count": null,
      "metadata": {
        "id": "ojQUnRFUxoJb",
        "outputId": "d51edaa4-7087-43e7-cf4d-0bd1e582acc0"
      },
      "outputs": [
        {
          "name": "stdout",
          "output_type": "stream",
          "text": [
            "10\t20\t30\t"
          ]
        }
      ],
      "source": [
        "mylst = [10, 20 , 30]\n",
        "myiter = iter(mylst)\n",
        "for v in myiter:\n",
        "    print (v, end='\\t')"
      ]
    },
    {
      "cell_type": "markdown",
      "metadata": {
        "id": "YYZd6T07xoJb"
      },
      "source": [
        "<style>\n",
        "\th5 {\n",
        "\t\tbackground-color: black;\n",
        "\t\tcolor: white;\n",
        "\t\tborder: 1px solid grey;\n",
        "\t\tfont-size: 30px;\n",
        "\t}\n",
        "\tp {\n",
        "\t\tbackground-color: #336666;\n",
        "\t\tcolor: white;\n",
        "\t\tborder: 1px solid grey;\n",
        "\t\tfont-size: 24;\n",
        "\t}\n",
        "</style>\n",
        "##### while loop"
      ]
    },
    {
      "cell_type": "code",
      "execution_count": null,
      "metadata": {
        "id": "jFICHdGIxoJb",
        "outputId": "ddf917d0-0306-4f6e-d443-e7146c237b7a"
      },
      "outputs": [
        {
          "name": "stdout",
          "output_type": "stream",
          "text": [
            "10\t20\t30\t"
          ]
        }
      ],
      "source": [
        "mylst = [10, 20, 30]\n",
        "iter_obj = iter(mylst)\n",
        "while True:\n",
        "    try:\n",
        "        print (next(iter_obj), end= '\\t')\n",
        "    except StopIteration:\n",
        "        break\n"
      ]
    },
    {
      "cell_type": "markdown",
      "metadata": {
        "id": "aSJqqg4AxoJc"
      },
      "source": [
        "### Compare two loop structures. What is the difference between two loops to use the iterator for traversing all the elements in the list?\n",
        "#### Your Answer: Here 👉"
      ]
    },
    {
      "cell_type": "markdown",
      "metadata": {
        "id": "OpIoXOXbxoJc"
      },
      "source": [
        "***"
      ]
    },
    {
      "cell_type": "markdown",
      "metadata": {
        "id": "roEmrY78xoJc"
      },
      "source": [
        "<style>\n",
        "\th1 {\n",
        "\t\tbackground-color: grey;\n",
        "\t\tcolor: Yellow;\n",
        "\t\tborder: 3px solid grey;\n",
        "\t\tfont-size: xx-large;\n",
        "\t}\n",
        "\tp {\n",
        "\t\tbackground-color: grey;\n",
        "\t\tcolor: white;\n",
        "\t\tfont-size: 24px;\n",
        "\t\tborder: 3px solid grey;\n",
        "\t}\n",
        "</style>\n",
        "# <h1 font-size:40px> 6.2 Generator </h1>\n",
        "\n",
        "\n",
        "## Concepts of Generator\n",
        "<p>\n",
        "A generator in Python is a special type of iterator that allows you to iterate over a sequence of values lazily, meaning it generates values on the fly and only when needed. <br> This makes generators memory-efficient, especially when dealing with large datasets, because they do not require all the values to be stored in memory at once.\n",
        "</p>"
      ]
    },
    {
      "cell_type": "markdown",
      "metadata": {
        "id": "zFJ1RDknxoJc"
      },
      "source": [
        "***\n",
        "#### <p style=\"font-family: Arial; font-size:1.4em; background-color: yellow; color:black;\"> Problem #6.3 </p>\n",
        "\n",
        "<style>\n",
        "\tp {\n",
        "\t\tbackground-color: black;\n",
        "\t\tcolor: white;\n",
        "\t\tborder: 1px solid grey;\n",
        "\t\tfont-size: 30px;\n",
        "\t}\n",
        "</style>\n",
        "<p> Run the following code cells and answer the questions </p>  \n"
      ]
    },
    {
      "cell_type": "markdown",
      "metadata": {
        "id": "KGk40whaxoJc"
      },
      "source": [
        "#### Run this code and check out the output. Show the type of \"gen\"\n",
        "```\n",
        "def mygen():\n",
        "    yield 1\n",
        "\n",
        "gen = mygen()\n",
        "print (type(gen))\n",
        "```\n",
        "##### Your answer: Here 👉\n",
        "\n",
        "\n",
        "***"
      ]
    },
    {
      "cell_type": "markdown",
      "metadata": {
        "id": "Ho8Tu566xoJc"
      },
      "source": [
        "#### Run this code and check out the output. What are the value from \"next(gen)\"?\n",
        "```\n",
        "def mygen():\n",
        "    yield 10\n",
        "    yield 20\n",
        "    yield 30\n",
        "\n",
        "gen = mygen()\n",
        "print (next(gen))\n",
        "print (next(gen))\n",
        "print (next(gen))\n",
        "```\n",
        "##### Your answer: Here 👉\n",
        "\n",
        "\n",
        "***"
      ]
    },
    {
      "cell_type": "markdown",
      "metadata": {
        "id": "nC3UWY4KxoJc"
      },
      "source": [
        "#### Run this code and check out the output. What are the value from \"next(gen)\"?\n",
        "```\n",
        "def mygen():\n",
        "    yield 10\n",
        "    yield 20\n",
        "    yield 30\n",
        "\n",
        "gen = mygen()\n",
        "for v in gen:\n",
        "    print (v, end='\\t')\n",
        "```\n",
        "##### Your answer: Here 👉\n",
        "\n",
        "\n",
        "***"
      ]
    },
    {
      "cell_type": "markdown",
      "metadata": {
        "id": "IBXlxjOExoJc"
      },
      "source": [
        "#### Run this code and check out the output. What is the value of the last next(gen) ?\n",
        "```\n",
        "def mygen():\n",
        "    yield 10\n",
        "    yield 20\n",
        "    yield 30\n",
        "\n",
        "gen = mygen()\n",
        "while True:\n",
        "    try:\n",
        "        print (next(gen))\n",
        "    except StopIteration:\n",
        "        break\n",
        "```\n",
        "##### Your answer: Here 👉\n",
        "\n",
        "\n",
        "***"
      ]
    },
    {
      "cell_type": "markdown",
      "metadata": {
        "id": "KqEjkm2PxoJc"
      },
      "source": [
        "<style>\n",
        "\th1 {\n",
        "\t\tbackground-color: grey;\n",
        "\t\tcolor: Yellow;\n",
        "\t\tborder: 3px solid grey;\n",
        "\t\tfont-size: xx-large;\n",
        "\t}\n",
        "\tp {\n",
        "\t\tbackground-color: grey;\n",
        "\t\tcolor: white;\n",
        "\t\tfont-size: 24px;\n",
        "\t\tborder: 3px solid grey;\n",
        "\t}\n",
        "</style>\n",
        "# <h1 font-size:40px> 6.3 yield </h1>\n",
        "\n",
        "\n",
        "## yield statement\n",
        "<p>\n",
        "yield is a keyword used in a function to turn it into a generator. When a function contains a yield statement, it does not execute like a normal function. Instead, it returns a generator object that can be iterated over.\n",
        "</p>"
      ]
    },
    {
      "cell_type": "markdown",
      "metadata": {
        "id": "6avyPBsrxoJc"
      },
      "source": [
        "***\n",
        "#### <p style=\"font-family: Arial; font-size:1.4em; background-color: yellow; color:black;\"> Problem #6.4 </p>\n",
        "\n",
        "<style>\n",
        "\tp {\n",
        "\t\tbackground-color: black;\n",
        "\t\tcolor: white;\n",
        "\t\tborder: 1px solid grey;\n",
        "\t\tfont-size: 30px;\n",
        "\t}\n",
        "</style>\n",
        "<p> Run the following code cells and answer the questions </p>  \n"
      ]
    },
    {
      "cell_type": "markdown",
      "metadata": {
        "id": "dCakSJrlxoJc"
      },
      "source": [
        "<style>\n",
        "\tp {\n",
        "\t\t--background-color: grey;\n",
        "\t\tcolor: white;\n",
        "\t\tborder: 3px solid grey\n",
        "\n",
        "\t}\n",
        "</style>\n",
        "\n",
        "<p> Example of yield statement </p>\n",
        "<p> Make a function to return the even number in the list </p>\n",
        "\n"
      ]
    },
    {
      "cell_type": "code",
      "execution_count": 22,
      "metadata": {
        "colab": {
          "base_uri": "https://localhost:8080/"
        },
        "id": "yyMg4F8exoJc",
        "outputId": "d1dbf938-2e66-4a7b-81c8-ca5e3c3a0599"
      },
      "outputs": [
        {
          "output_type": "stream",
          "name": "stdout",
          "text": [
            "0 --\n",
            "2\n",
            "4\n",
            "6\n",
            "8\n"
          ]
        }
      ],
      "source": [
        "def findEvenNumber(lst):\n",
        "\tfor v in lst:\n",
        "\t\tif ( v % 2 == 0):\n",
        "\t\t\tyield v\n",
        "\n",
        "def main():\n",
        "\tmygen = findEvenNumber(range(10))\n",
        "\tval = next(mygen)\n",
        "\tprint (val, '--')\n",
        "\tfor val in mygen:\n",
        "\t\tprint (val)\n",
        "\n",
        "if __name__ == '__main__':\n",
        "\tmain()"
      ]
    },
    {
      "cell_type": "markdown",
      "metadata": {
        "id": "B_mngBGIxoJc"
      },
      "source": [
        "<style>\n",
        "\tp {\n",
        "\t\t--background-color: grey;\n",
        "\t\tcolor: white;\n",
        "\t\tborder: 3px solid grey\n",
        "\n",
        "\t}\n",
        "</style>\n",
        "\n",
        "<p> Make a function to return the generator for the Fibonacci number </p>\n",
        "\n"
      ]
    },
    {
      "cell_type": "code",
      "execution_count": 23,
      "metadata": {
        "colab": {
          "base_uri": "https://localhost:8080/"
        },
        "id": "lP-Qi8h7xoJc",
        "outputId": "6c44353c-a4d7-4942-c851-3579812917b5"
      },
      "outputs": [
        {
          "output_type": "stream",
          "name": "stdout",
          "text": [
            "0\n",
            "1\n"
          ]
        }
      ],
      "source": [
        "\n",
        "def fibo(N):\n",
        "\tn1, n2 = 0, 1\n",
        "\ti = 0\n",
        "\twhile ( i <= N):\n",
        "\t\tyield n1\n",
        "\t\tn3 = n1 + n2\n",
        "\t\tn1 = n2\n",
        "\t\tn2 = n3\n",
        "\t\ti += 1\n",
        "\n",
        "gen = fibo(1)\n",
        "for v in gen:\n",
        "\tprint (v)\n"
      ]
    },
    {
      "cell_type": "markdown",
      "metadata": {
        "id": "b_7yBOqbxoJc"
      },
      "source": [
        "<style>\n",
        "\th1 {\n",
        "\t\tbackground-color: grey;\n",
        "\t\tcolor: Yellow;\n",
        "\t\tborder: 3px solid grey;\n",
        "\t\t-- font-size: xx-large;\n",
        "\t}\n",
        "\tp {\n",
        "\t\tbackground-color: grey;\n",
        "\t\tcolor: white;\n",
        "\t\tborder: 3px solid grey;\n",
        "\t\tfont-size: xx-large\n",
        "\t}\n",
        "</style>\n",
        "<p> Example: yield </p>\n"
      ]
    },
    {
      "cell_type": "code",
      "execution_count": 24,
      "metadata": {
        "colab": {
          "base_uri": "https://localhost:8080/"
        },
        "id": "6GDHM7e9xoJd",
        "outputId": "74fbf1ad-70e9-4349-e0a3-37a6d85dbb1a"
      },
      "outputs": [
        {
          "output_type": "stream",
          "name": "stdout",
          "text": [
            "P, y, t, h, n,  , P, r, g, r, m, m, n, g, "
          ]
        }
      ],
      "source": [
        "\n",
        "def consonant(string):\n",
        "\tvowels = ['a', 'e', 'i','o', 'u']\n",
        "\tfor v in string:\n",
        "\t\tif v not in vowels:\n",
        "\t\t\tyield v\n",
        "\n",
        "\n",
        "strval = 'Python Programming'\n",
        "for v in consonant(strval):\n",
        "\tprint (v, end=', ' )"
      ]
    },
    {
      "cell_type": "markdown",
      "metadata": {
        "id": "FUUiWmD4xoJd"
      },
      "source": [
        "<style>\n",
        "\tp {\n",
        "\t\tbackground-color: black;\n",
        "\t\tcolor: white;\n",
        "\t\tborder: 1px solid grey;\n",
        "\t\tfont-size: 30px;\n",
        "\t}\n",
        "</style>\n",
        "#### <p style=\"font-family: Arial; font-size:1.4em; background-color: yellow; color:black;\"> Problem #6.5 </p>\n",
        "\n",
        "<p> Make a function to return the generator containing the first half of the list\n"
      ]
    },
    {
      "cell_type": "code",
      "execution_count": 27,
      "metadata": {
        "colab": {
          "base_uri": "https://localhost:8080/"
        },
        "id": "vFs3PfzexoJd",
        "outputId": "c8eb2139-c25e-4252-c5fa-f2498d85ee2b"
      },
      "outputs": [
        {
          "output_type": "stream",
          "name": "stdout",
          "text": [
            "0.5\t1.0\t1.5\t2.0\t2.5\t3.0\t3.5\t4.0\t4.5\t5.0\t"
          ]
        }
      ],
      "source": [
        "def halfoflist(mylst):\n",
        "    for v in mylst:\n",
        "        yield v / 2\n",
        "\n",
        "def main():\n",
        "    numbers = [1,2,3,4,5,6,7,8,9,10]\n",
        "    mygen = halfoflist(numbers)\n",
        "\n",
        "    for v in mygen:\n",
        "        print (v, end ='\\t')\n",
        "\n",
        "if __name__ == '__main__':\n",
        "    main()\n"
      ]
    },
    {
      "cell_type": "markdown",
      "metadata": {
        "id": "1gOWfXlNxoJd"
      },
      "source": [
        "***\n",
        "#### <p style=\"font-family: Arial; font-size:1.4em; background-color: yellow; color:black;\"> Problem #6.6 </p>\n",
        "\n",
        "<style>\n",
        "\tp {\n",
        "\t\tbackground-color: black;\n",
        "\t\tcolor: white;\n",
        "\t\tborder: 1px solid grey;\n",
        "\t\tfont-size: 30px;\n",
        "\t}\n",
        "</style>\n",
        "<p> Make a function that returns the generator containing elements greater than their immediate left. </p>\n",
        "- Example numbers = [1, 3, 2, 4, 5, 0] <br>\n",
        "- Generator for [3,4,5]\n"
      ]
    },
    {
      "cell_type": "code",
      "execution_count": 32,
      "metadata": {
        "colab": {
          "base_uri": "https://localhost:8080/"
        },
        "id": "YSmrOYIuxoJd",
        "outputId": "f3c557a8-e323-4bea-cac6-8da001ef4180"
      },
      "outputs": [
        {
          "output_type": "stream",
          "name": "stdout",
          "text": [
            "3\t4\t5\t"
          ]
        }
      ],
      "source": [
        "def greaterleft(numbers):\n",
        "    for i in range(1, len(numbers)):\n",
        "        if (numbers[i] > numbers[i-1]):\n",
        "            yield numbers[i]\n",
        "\n",
        "numbers = [1,3,2,4,5,0]\n",
        "for v in greaterleft(numbers):\n",
        "    print (v, end='\\t')"
      ]
    },
    {
      "cell_type": "markdown",
      "metadata": {
        "id": "dYcyE-7MxoJd"
      },
      "source": [
        "<style>\n",
        "\th1 {\n",
        "\t\tbackground-color: grey;\n",
        "\t\tcolor: Yellow;\n",
        "\t\tborder: 3px solid grey;\n",
        "\t\tfont-size: 60px;\n",
        "\t}\n",
        "\tp {\n",
        "\t\tbackground-color: grey;\n",
        "\t\tcolor: white;\n",
        "\t\tfont-size: 20px;\n",
        "\t\tborder: 3px solid grey;\n",
        "\t}\n",
        "</style>\n",
        "# <h1 font-size:60px> 6.4 lambda </h1>\n",
        "\n",
        "\n",
        "## Lambda Function\n",
        "<p>\n",
        "A lambda function in Python is a small, anonymous function defined with the lambda keyword. Unlike a regular function that is defined using the def keyword, a lambda function can have any number of arguments but only one expression. The result of that expression is implicitly returned.\n",
        "</p>\n",
        "\n",
        "Syntax <br>\n",
        "<code>\n",
        "lambda arguments: expression <br>\n",
        "\n",
        "Code Example: <br>\n",
        "<code>\n",
        "add_ten = lambda x: x + 10 <br>\n",
        "print(add_ten(5))  # Output: 15\n"
      ]
    },
    {
      "cell_type": "markdown",
      "metadata": {
        "id": "3B1jRujCxoJd"
      },
      "source": [
        "***\n",
        "<style>\n",
        "\tp {\n",
        "\t\tbackground-color: black;\n",
        "\t\tcolor: white;\n",
        "\t\tborder: 1px solid grey;\n",
        "\t\tfont-size: 30px;\n",
        "\t}\n",
        "</style>\n",
        "<p> Run the following code cells and check out the results </p>  \n"
      ]
    },
    {
      "cell_type": "markdown",
      "metadata": {
        "id": "iKXNzbGAxoJd"
      },
      "source": [
        "#### Lambda Function Example: Add 10"
      ]
    },
    {
      "cell_type": "code",
      "execution_count": 19,
      "metadata": {
        "colab": {
          "base_uri": "https://localhost:8080/"
        },
        "id": "8pV895HBxoJd",
        "outputId": "0f80cf08-71a9-4f52-c421-6565b9c47e76"
      },
      "outputs": [
        {
          "output_type": "stream",
          "name": "stdout",
          "text": [
            "30\n"
          ]
        }
      ],
      "source": [
        "\n",
        "lfn = lambda x : x + 10\n",
        "\n",
        "a = lfn(20)\n",
        "print (a)"
      ]
    },
    {
      "cell_type": "markdown",
      "metadata": {
        "id": "BqURpjjWxoJd"
      },
      "source": [
        "### Lambda that returns x squared"
      ]
    },
    {
      "cell_type": "code",
      "execution_count": 18,
      "metadata": {
        "colab": {
          "base_uri": "https://localhost:8080/"
        },
        "id": "ouR8WGIcxoJd",
        "outputId": "e1e4d410-d2b5-4ef1-bb58-61ea5745f9bf"
      },
      "outputs": [
        {
          "output_type": "stream",
          "name": "stdout",
          "text": [
            "100\n"
          ]
        }
      ],
      "source": [
        "squared = lambda x : x * x\n",
        "\n",
        "print (squared(10))"
      ]
    },
    {
      "cell_type": "markdown",
      "metadata": {
        "id": "XkbZkG3MxoJd"
      },
      "source": [
        "### Lambda that returns a boolean as a result of x > y"
      ]
    },
    {
      "cell_type": "code",
      "execution_count": 17,
      "metadata": {
        "colab": {
          "base_uri": "https://localhost:8080/"
        },
        "id": "mqW3M4P9xoJd",
        "outputId": "a92e798b-8661-4eec-82e0-bf6841efeb99"
      },
      "outputs": [
        {
          "output_type": "stream",
          "name": "stdout",
          "text": [
            "False\n",
            "True\n"
          ]
        }
      ],
      "source": [
        "greater = lambda x, y : x > y\n",
        "\n",
        "print (greater(10, 20))\n",
        "print (greater(20, 10))\n"
      ]
    },
    {
      "cell_type": "markdown",
      "metadata": {
        "id": "k3phdTnLxoJd"
      },
      "source": [
        "### Function that returns a lambda"
      ]
    },
    {
      "cell_type": "code",
      "execution_count": 16,
      "metadata": {
        "colab": {
          "base_uri": "https://localhost:8080/"
        },
        "id": "lahKc6jsxoJd",
        "outputId": "deee5aca-6a30-424d-d035-b60c3bfce32b"
      },
      "outputs": [
        {
          "output_type": "stream",
          "name": "stdout",
          "text": [
            "200\n",
            "400\n"
          ]
        }
      ],
      "source": [
        "def retlam( value):\n",
        "\treturn lambda parameter : parameter * value\n",
        "\n",
        "mylambda = retlam(10)\n",
        "print (mylambda(20))\n",
        "\n",
        "mylambda = retlam(20)\n",
        "print (mylambda(20))"
      ]
    },
    {
      "cell_type": "markdown",
      "metadata": {
        "id": "SGTZVAXJxoJd"
      },
      "source": [
        "### Lambda Examples"
      ]
    },
    {
      "cell_type": "code",
      "execution_count": 15,
      "metadata": {
        "colab": {
          "base_uri": "https://localhost:8080/"
        },
        "id": "CDdDWKfIxoJe",
        "outputId": "e82b593b-e5bd-4fc4-cb18-e8dab78feeb8"
      },
      "outputs": [
        {
          "output_type": "stream",
          "name": "stdout",
          "text": [
            "[87, 72, 47, 29, 87]\n",
            "87\n",
            "72\n",
            "87\n"
          ]
        }
      ],
      "source": [
        "import random\n",
        "\n",
        "lst = [ random.randint(0,100) for i in range(5)]\n",
        "print (lst)\n",
        "\n",
        "fmin = lambda x : (v for v in x if v > 50)\n",
        "\n",
        "for v in fmin(lst):\n",
        "\tprint (v)"
      ]
    },
    {
      "cell_type": "code",
      "execution_count": 14,
      "metadata": {
        "colab": {
          "base_uri": "https://localhost:8080/"
        },
        "id": "r6zfpIPHxoJe",
        "outputId": "463822e4-c97e-46cd-ace1-d1a399b83ba7"
      },
      "outputs": [
        {
          "output_type": "stream",
          "name": "stdout",
          "text": [
            "20\n"
          ]
        }
      ],
      "source": [
        "gr = lambda x,y: x if x > y else y\n",
        "print (gr(10,20))\n"
      ]
    },
    {
      "cell_type": "code",
      "execution_count": 13,
      "metadata": {
        "colab": {
          "base_uri": "https://localhost:8080/"
        },
        "id": "scF6rpS8xoJe",
        "outputId": "9b1e1875-b9ae-4c5d-bb7b-4687bd997c6c"
      },
      "outputs": [
        {
          "output_type": "stream",
          "name": "stdout",
          "text": [
            "10\n",
            "5\n"
          ]
        }
      ],
      "source": [
        "total = 0\n",
        "def addValue(value):\n",
        "\tglobal total\n",
        "\ttotal += value\n",
        "\treturn total\n",
        "def subtractValue(value):\n",
        "\tglobal total\n",
        "\ttotal -= value\n",
        "\treturn total\n",
        "\n",
        "mylambda = lambda x, f: f(x)\n",
        "\n",
        "\n",
        "print (mylambda(10, addValue))\n",
        "print (mylambda(5, subtractValue))\n",
        "\n"
      ]
    },
    {
      "cell_type": "markdown",
      "metadata": {
        "id": "zaEdjYBExoJe"
      },
      "source": [
        "***\n",
        "#### <p style=\"font-family: Arial; font-size:1.4em; background-color: yellow; color:black;\"> Problem #6.7 </p>\n",
        "\n",
        "<style>\n",
        "\tp {\n",
        "\t\tbackground-color: black;\n",
        "\t\tcolor: white;\n",
        "\t\tborder: 1px solid grey;\n",
        "\t\tfont-size: 30px;\n",
        "\t}\n",
        "</style>\n",
        "<p> Make a Lamba function that returns the average of the list element values </p>\n",
        "- Example numbers = [1, 3, 2, 4, 5, 0] <br>\n",
        "- listavg = getavg(numbers)  # It should be 2.5\n"
      ]
    },
    {
      "cell_type": "code",
      "execution_count": 12,
      "metadata": {
        "colab": {
          "base_uri": "https://localhost:8080/"
        },
        "id": "HIeA8CQFxoJe",
        "outputId": "d1f10da9-4e50-4705-f62f-53a6e969a4ed"
      },
      "outputs": [
        {
          "output_type": "stream",
          "name": "stdout",
          "text": [
            "5.5\n"
          ]
        }
      ],
      "source": [
        "getavg = lambda numbers: sum(numbers) / len(numbers)\n",
        "\n",
        "numbers = [1,2,3,4,5,6,7,8,9,10]\n",
        "result = getavg(numbers)\n",
        "print (result)"
      ]
    },
    {
      "cell_type": "markdown",
      "metadata": {
        "id": "EkJn2i1FxoJe"
      },
      "source": [
        "***\n",
        "#### <p style=\"font-family: Arial; font-size:1.4em; background-color: yellow; color:black;\"> Problem #6.8 </p>\n",
        "\n",
        "<style>\n",
        "\tp {\n",
        "\t\tbackground-color: black;\n",
        "\t\tcolor: white;\n",
        "\t\tborder: 1px solid grey;\n",
        "\t\tfont-size: 30px;\n",
        "\t}\n",
        "</style>\n",
        "<p> Make a Lamba function that returns all the elment that are greater than the immediate right </p>\n",
        "- Example numbers = [1, 3, 2, 4, 5, 0] <br>\n",
        "- listavg = greaterRight(numbers)  # 3, 5\n"
      ]
    },
    {
      "cell_type": "code",
      "execution_count": 11,
      "metadata": {
        "colab": {
          "base_uri": "https://localhost:8080/"
        },
        "id": "LLXwnmoAxoJe",
        "outputId": "479b6930-e2db-45b9-f27f-7749bc395a7c"
      },
      "outputs": [
        {
          "output_type": "stream",
          "name": "stdout",
          "text": [
            "[3, 5]\n"
          ]
        }
      ],
      "source": [
        "getGreater = lambda numbers: [numbers[i] for i in range(len(numbers) - 1) if numbers[i] > numbers[i +1]]\n",
        "\n",
        "numbers = [1,3,2,4,5,0]\n",
        "result = getGreater(numbers)\n",
        "print (result)"
      ]
    },
    {
      "cell_type": "markdown",
      "metadata": {
        "id": "0bzzJ4MoxoJe"
      },
      "source": [
        "***\n",
        "#### <p style=\"font-family: Arial; font-size:1.4em; background-color: yellow; color:black;\"> Problem #6.9 </p>\n",
        "\n",
        "<style>\n",
        "\tp {\n",
        "\t\tbackground-color: black;\n",
        "\t\tcolor: white;\n",
        "\t\tborder: 1px solid grey;\n",
        "\t\tfont-size: 30px;\n",
        "\t}\n",
        "</style>\n",
        "<p> Make a Lamba function that recevies two lists and determine the longer list. Return the longer list </p>\n",
        "- Example n1 = [1, 3, 2, 4, 5, 0] n2 = [1,2,3]<br>\n",
        "- longerlst = compareTwoList(n1, n2)  # Return n1\n"
      ]
    },
    {
      "cell_type": "code",
      "execution_count": 9,
      "metadata": {
        "colab": {
          "base_uri": "https://localhost:8080/"
        },
        "id": "-nLxn4-6xoJe",
        "outputId": "fd376394-7e26-4bd9-d53d-78ce1ff0281b"
      },
      "outputs": [
        {
          "output_type": "stream",
          "name": "stdout",
          "text": [
            "[1, 2, 3]\n"
          ]
        }
      ],
      "source": [
        "compareTwoList = lambda list1, list2: list1 if len(list2) > len(list1) else list2\n",
        "\n",
        "n1 = [1,3,2,4,5,0]\n",
        "n2 = [1,2,3]\n",
        "\n",
        "longer = compareTwoList(n1, n2)\n",
        "print (longer)"
      ]
    }
  ],
  "metadata": {
    "kernelspec": {
      "display_name": "Python 3.9.13 ('base')",
      "language": "python",
      "name": "python3"
    },
    "language_info": {
      "codemirror_mode": {
        "name": "ipython",
        "version": 3
      },
      "file_extension": ".py",
      "mimetype": "text/x-python",
      "name": "python",
      "nbconvert_exporter": "python",
      "pygments_lexer": "ipython3",
      "version": "3.9.17"
    },
    "orig_nbformat": 4,
    "vscode": {
      "interpreter": {
        "hash": "32cd87c0c55905266dc8232ebf1148f668af0d9324249c125246585210a29cd6"
      }
    },
    "colab": {
      "provenance": []
    }
  },
  "nbformat": 4,
  "nbformat_minor": 0
}