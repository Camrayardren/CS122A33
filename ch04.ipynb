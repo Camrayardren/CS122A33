{
  "cells": [
    {
      "cell_type": "markdown",
      "metadata": {
        "id": "CjRPZoEqjhPh"
      },
      "source": [
        "<img src=\"https://nimbus-screenshots.s3.amazonaws.com/s/85a61d1e5ea3b6f4e340944f58844dd2.png\" width=640>\n",
        "\n",
        "</a>\n",
        "# <p style=\"font-family: Arial; font-size:1.4em;color:red;\"> Chapter 4. Repetition Structures </p>"
      ]
    },
    {
      "cell_type": "markdown",
      "metadata": {
        "id": "t5DFwveUjhPj"
      },
      "source": [
        "***\n",
        "\n",
        "## <p style=\"background-color: grey; color: white \"> ◼️  While loop </p>\n",
        "# <p style=\"font-family: Arial; font-size:1.4em;color:red;\"> 1. Basic While-loop Structures</p>\n"
      ]
    },
    {
      "cell_type": "markdown",
      "metadata": {
        "id": "7KwVglcJjhPk"
      },
      "source": [
        "#### <p style=\"font-family: Arial; font-size:1.4em; background-color: yellow; color:black;\"> Problem #1.0 </p>\n",
        "\n",
        "#### Run all the cells and figure out the basic usage of while loop structure"
      ]
    },
    {
      "cell_type": "code",
      "execution_count": 1,
      "metadata": {
        "colab": {
          "base_uri": "https://localhost:8080/"
        },
        "id": "yaYu4m8NjhPl",
        "outputId": "e6a75a6a-c1b7-461d-fc76-e41f15b5fa3e"
      },
      "outputs": [
        {
          "output_type": "stream",
          "name": "stdout",
          "text": [
            "1 2 3 4 5 6 7 8 9 10 "
          ]
        }
      ],
      "source": [
        "i = 0\n",
        "while (i < 10):\n",
        "\ti = i + 1\n",
        "\tprint (i, end=' ')"
      ]
    },
    {
      "cell_type": "code",
      "execution_count": 2,
      "metadata": {
        "colab": {
          "base_uri": "https://localhost:8080/"
        },
        "id": "Hl7B0OL-jhPm",
        "outputId": "d02ccb37-c69b-49f2-adab-888ff06f292b"
      },
      "outputs": [
        {
          "output_type": "stream",
          "name": "stdout",
          "text": [
            "0 1 2 3 4 5 6 7 8 9 "
          ]
        }
      ],
      "source": [
        "i = 0\n",
        "while ( i< 10):\n",
        "\tprint (i, end=' ')\n",
        "\ti = i + 1"
      ]
    },
    {
      "cell_type": "code",
      "execution_count": 3,
      "metadata": {
        "colab": {
          "base_uri": "https://localhost:8080/"
        },
        "id": "Hl2Bgr8djhPn",
        "outputId": "55af340a-fe1b-4073-9b75-ba6617df5be2"
      },
      "outputs": [
        {
          "output_type": "stream",
          "name": "stdout",
          "text": [
            "0 2 4 6 8 "
          ]
        }
      ],
      "source": [
        "i = 0\n",
        "while ( i < 10):\n",
        "\tprint (i, end=' ')\n",
        "\ti = i + 2"
      ]
    },
    {
      "cell_type": "code",
      "execution_count": 4,
      "metadata": {
        "colab": {
          "base_uri": "https://localhost:8080/"
        },
        "id": "1Q0HBzmpjhPn",
        "outputId": "aef32163-020b-4d6a-e629-77fad1a18b78"
      },
      "outputs": [
        {
          "output_type": "stream",
          "name": "stdout",
          "text": [
            "10 9 8 7 6 5 4 3 2 1 "
          ]
        }
      ],
      "source": [
        "i = 10\n",
        "while ( i > 0):\n",
        "\tprint (i, end=' ')\n",
        "\ti = i - 1"
      ]
    },
    {
      "cell_type": "markdown",
      "metadata": {
        "id": "sJT8WXGIjhPn"
      },
      "source": [
        "#### <p style=\"font-family: Arial; font-size:1.4em; background-color: yellow; color:black;\"> Problem #1.1 </p>\n",
        "\n",
        "#### Complete the code to print the numbers from 10 to 20 with the step 2 (10, 12, ...20)\n",
        "> Use the while loop"
      ]
    },
    {
      "cell_type": "code",
      "execution_count": 5,
      "metadata": {
        "colab": {
          "base_uri": "https://localhost:8080/"
        },
        "id": "5ZNHKUczjhPo",
        "outputId": "9decf96a-4618-4ad8-c5f0-73d4660501f8"
      },
      "outputs": [
        {
          "output_type": "stream",
          "name": "stdout",
          "text": [
            "10 12 14 16 18 20 "
          ]
        }
      ],
      "source": [
        "begin = 10\n",
        "end = 20\n",
        "\n",
        "while begin <= end:\n",
        "    print (begin, end=' ')\n",
        "    begin += 2"
      ]
    },
    {
      "cell_type": "markdown",
      "metadata": {
        "id": "j6vFpdW9jhPo"
      },
      "source": [
        "#### <p style=\"font-family: Arial; font-size:1.4em; background-color: yellow; color:black;\"> Problem #1.2 </p>\n",
        "\n",
        "#### Complete the code to print the numbers from the input value 'begin' to another input 'end'.\n",
        "> Use the while loop  <br>\n",
        "\n",
        "<font color='red'> Note: the input value 'begin' can be greater than 'end'. <br>\n",
        "if begin > end, print all the values from 'begin' to 'end' in decreasing order\n",
        "</font>"
      ]
    },
    {
      "cell_type": "code",
      "execution_count": 6,
      "metadata": {
        "colab": {
          "base_uri": "https://localhost:8080/"
        },
        "id": "lsO-ia7RjhPo",
        "outputId": "d593f2c8-06f8-42a4-a6ae-9a665206010a"
      },
      "outputs": [
        {
          "output_type": "stream",
          "name": "stdout",
          "text": [
            "Enter the starting value: 3\n",
            "Enter the end value: 4\n",
            "3 4 "
          ]
        }
      ],
      "source": [
        "begin = int(input('Enter the starting value: '))\n",
        "end = int(input('Enter the end value: '))\n",
        "\n",
        "\n",
        "while begin <= end:\n",
        "    print (begin, end=' ')\n",
        "    begin += 1\n"
      ]
    },
    {
      "cell_type": "markdown",
      "metadata": {
        "id": "3VeuiL_UjhPp"
      },
      "source": [
        "#### <p style=\"font-family: Arial; font-size:1.4em; background-color: yellow; color:black;\"> Problem #1.3 </p>\n",
        "\n",
        "#### Complete the code to print the 9 multiplication numbers from the given input value 'num'\n",
        "> For example, if the input \"num\" is 3, this code will print <br>\n",
        "> 3 6 9 12 15 18 21 24 27 <br>\n",
        "> Use the while loop  <br>"
      ]
    },
    {
      "cell_type": "code",
      "execution_count": 7,
      "metadata": {
        "colab": {
          "base_uri": "https://localhost:8080/"
        },
        "id": "cZ4WyfgGjhPp",
        "outputId": "2dc64914-cf75-418e-c2c0-1e45bae26129"
      },
      "outputs": [
        {
          "name": "stdout",
          "output_type": "stream",
          "text": [
            "Enter a number: 35\n"
          ]
        }
      ],
      "source": [
        "num = int(input('Enter a number: '))\n",
        "\n",
        "while num <= 27:\n",
        "    print (num, end='')\n",
        "    num += 35"
      ]
    },
    {
      "cell_type": "markdown",
      "metadata": {
        "id": "hxlL95uNjhPp"
      },
      "source": [
        "#### <p style=\"font-family: Arial; font-size:1.4em; background-color: yellow; color:black;\"> Problem #1.4 </p>\n",
        "\n",
        "#### Complete the code to print all numbers\n",
        "#### from 'start' to 'end' if 'start' < 'end'\n",
        "#### from 'end' to 'start' if 'end' < 'start'\n",
        "> For example, if start = 3, end = 5, it will print 3 4 5 <br>\n",
        "> if start = 10, end = 7, it will print 7 8 9 10  <br>\n",
        "> Use the <font color='red'> while loop </font> <br>"
      ]
    },
    {
      "cell_type": "markdown",
      "metadata": {
        "id": "DnycrTHHjhPp"
      },
      "source": [
        "#### <p style=\"font-family: Arial; font-size:1.4em; background-color: yellow; color:black;\"> Problem #1.5 </p>\n",
        "\n",
        "#### Complete the code to print all numbers\n",
        "#### from 'start' to 'end' if 'start' < 'end'\n",
        "#### from 'end' to 'start' if 'end' < 'start'\n",
        "> For example, if start = 3, end = 5, it will print 3 4 5 <br>\n",
        "> if start = 10, end = 7, it will print 7 8 9 10  <br>\n",
        "> Use the <font color='red'> while loop </font> <br>"
      ]
    },
    {
      "cell_type": "code",
      "execution_count": 11,
      "metadata": {
        "id": "JeViMUGxjhPp",
        "colab": {
          "base_uri": "https://localhost:8080/"
        },
        "outputId": "06adb5eb-7b78-4635-c7a8-010bcc08f1b0"
      },
      "outputs": [
        {
          "output_type": "stream",
          "name": "stdout",
          "text": [
            "Enter a number: 10\n",
            "Enter a number: 7\n",
            "10987"
          ]
        }
      ],
      "source": [
        "start = int(input('Enter a number: '))\n",
        "end = int(input('Enter a number: '))\n",
        "\n",
        "if start <= end:\n",
        "    while start <= end:\n",
        "        print (start, end='')\n",
        "        start += 1\n",
        "else:\n",
        "    while start >= end:\n",
        "        print (start, end='')\n",
        "        start -= 1"
      ]
    },
    {
      "cell_type": "markdown",
      "metadata": {
        "id": "rsUh9QpQjhPq"
      },
      "source": [
        "#### <p style=\"font-family: Arial; font-size:1.4em; background-color: yellow; color:black;\"> Problem #1.6 </p>\n",
        "\n",
        "#### Complete the code to get the summation of 1 to the input 'num'\n",
        "> For example, if num = 5, it will print 15 because 1+2+3+4+5=15 <br>\n",
        "> if num = 10, it will print 55 because 1+2+3+4+5+6+7+8+9+10<br>\n",
        "> Use the <font color='red'> while loop </font> <br>"
      ]
    },
    {
      "cell_type": "code",
      "execution_count": 12,
      "metadata": {
        "id": "S3AySq2NjhPq",
        "colab": {
          "base_uri": "https://localhost:8080/"
        },
        "outputId": "ffa7ee82-ff26-438a-fdbe-8b4ca25d80e4"
      },
      "outputs": [
        {
          "output_type": "stream",
          "name": "stdout",
          "text": [
            "Enter a number: 5\n",
            "The total from 1 to 5 is 15\n"
          ]
        }
      ],
      "source": [
        "num = int(input('Enter a number: '))\n",
        "val = 1\n",
        "total = 0\n",
        "while val <= num:\n",
        "    total += val\n",
        "    val += 1\n",
        "print (f'The total from 1 to {num} is {total}')\n"
      ]
    },
    {
      "cell_type": "markdown",
      "metadata": {
        "id": "NKgkOpU2jhPq"
      },
      "source": [
        "#### <p style=\"font-family: Arial; font-size:1.4em; background-color: yellow; color:black;\"> Problem #1.7 </p>\n",
        "\n",
        "#### Complete the code to get the summation between 'start'(inclusive) and 'end'(inclusive)\n",
        "#### Assume that 'start' < 'end'  \n",
        "> For example, if 'start' = 5, 'end' = 10, it will print 45 because 5+6+7+8+9+10=15 <br>\n",
        "> if 'start' = 10, 'end'= 20,  it will print 165 because 10+11+12+13+14+15+16+17+18+19+20 = 165 <br>\n",
        "> Use the <font color='red'> while loop </font> <br>"
      ]
    },
    {
      "cell_type": "code",
      "execution_count": 15,
      "metadata": {
        "id": "VP8zFiGajhPq",
        "outputId": "c762dec0-47d4-43c4-ab8e-368c93dc4a48",
        "colab": {
          "base_uri": "https://localhost:8080/"
        }
      },
      "outputs": [
        {
          "output_type": "stream",
          "name": "stdout",
          "text": [
            "Enter a number: 10\n",
            "Enter a number: 20\n",
            "the sum from 10 to 20 is: 165\n"
          ]
        }
      ],
      "source": [
        "start = int(input('Enter a number: '))\n",
        "end = int(input('Enter a number: '))\n",
        "\n",
        "total = 0\n",
        "current_number = start\n",
        "while current_number <= end:\n",
        "    total += current_number\n",
        "    current_number += 1\n",
        "\n",
        "print(f'the sum from {start} to {end} is: {total}')"
      ]
    },
    {
      "cell_type": "markdown",
      "metadata": {
        "id": "t4nB97NAjhQF"
      },
      "source": [
        "#### <p style=\"font-family: Arial; font-size:1.4em; background-color: yellow; color:black;\"> Problem #1.8 </p>\n",
        "\n",
        "#### Complete the code to print all multiplication numbers of 3 between input 'start' and 'end'(inclusive)\n",
        "#### Assume that 'start' < 'end'  \n",
        "> For example, if start = 2, end = 10, it will print 3 6 9 <br>\n",
        "> if start = 12, end = 21, it will print 12 15 18 21  <br>\n",
        "> Use the <font color='red'> while loop </font> <br>"
      ]
    },
    {
      "cell_type": "code",
      "execution_count": null,
      "metadata": {
        "id": "WCLrBkS1jhQG",
        "outputId": "115987f3-0ddb-48fe-a6b9-e00d5186da38"
      },
      "outputs": [
        {
          "name": "stdout",
          "output_type": "stream",
          "text": [
            "12\n",
            "15\n",
            "18\n"
          ]
        }
      ],
      "source": [
        "start = int(input('Enter a number: '))\n",
        "end = int(input('Enter a number: '))\n",
        "\n",
        "i = start // 3\n",
        "i += 1 if start % 3 else 0\n",
        "while i*3 <= end:\n",
        "    print (i*3)\n",
        "    i += 1"
      ]
    },
    {
      "cell_type": "markdown",
      "metadata": {
        "id": "rF79-BSojhQG"
      },
      "source": [
        "#### <p style=\"font-family: Arial; font-size:1.4em; background-color: yellow; color:black;\"> Problem #1.9 </p>\n",
        "\n",
        "#### Complete the code to print all multiplication numbers of 'seed' between input 'start' and 'end'(inclusive)\n",
        "#### Assume that 'seed' is greater than 1\n",
        "#### Assume that 'start' < 'end'. Same as 1.8 except the 'seed'\n",
        "> For example, if start = 2, end = 10, seed=3, it will print 3 6 9 <br>\n",
        "> if start = 12, end = 31, seed = 6, it will print 12 18 24  <br>\n",
        "> Use the <font color='red'> while loop </font> <br>"
      ]
    },
    {
      "cell_type": "code",
      "execution_count": null,
      "metadata": {
        "id": "P-75TBBsjhQH"
      },
      "outputs": [],
      "source": [
        "seed = int(input('Enter the seed number for multiplication: '))\n",
        "start = int(input('Enter a number: '))\n",
        "end = int(input('Enter a number: '))\n",
        "\n",
        "# complete the code"
      ]
    },
    {
      "cell_type": "markdown",
      "metadata": {
        "id": "mgp4UICijhQH"
      },
      "source": [
        "#### <p style=\"font-family: Arial; font-size:1.4em; background-color: yellow; color:black;\"> Problem #1.10 </p>\n",
        "\n",
        "#### Complete the code to repeat the input number until the inputted number is greater than 100\n",
        "#### if the input number is greater than 100, stop the while loop\n",
        "#### Otherwise, print the <font color='red'> number </font>\n",
        "> For example, if the series of input is 5 10 15 20 150, <br>\n",
        "> print a input number at each iteration in the while loop, except the 150 <br>\n",
        "> 5 <br> 10 <br> 15<br> 20<br>  \n",
        "> Use the <font color='red'> while loop </font> <br>"
      ]
    },
    {
      "cell_type": "code",
      "execution_count": null,
      "metadata": {
        "id": "yZXDx9O3jhQH"
      },
      "outputs": [],
      "source": [
        "total = 0\n",
        "number = int(input('Enter a number: '))\n",
        "\n",
        "while number <= 100:\n",
        "    print (number)\n",
        "    number = int(input('Enter a number: '))\n"
      ]
    },
    {
      "cell_type": "markdown",
      "metadata": {
        "id": "yGsa2iZZjhQH"
      },
      "source": [
        "#### <p style=\"font-family: Arial; font-size:1.4em; background-color: yellow; color:black;\"> Problem #1.11 </p>\n",
        "\n",
        "#### Complete the code to repeat the input of a number until the sum of all input numbers is greater than 100.\n",
        "#### if the sum of all input numbers is greater than 100, stop the while loop\n",
        "#### Otherwise, add the input number to the variable \"<font color='red'> total </font>\"\n",
        "> For example, if the series of input is 5 10 15 20 150, <br>\n",
        "> the total must be 5 + 10 + 15 + 20 + 150 = 200, and stop the while loop   <br>\n",
        "> After the while loop, print the 'total'\n",
        "> Use the <font color='red'> while loop </font> <br>"
      ]
    },
    {
      "cell_type": "code",
      "execution_count": null,
      "metadata": {
        "id": "gvU0MoCNjhQH"
      },
      "outputs": [],
      "source": [
        "number = int(input('Enter a number '))\n",
        "total = 0\n",
        "while total <= 100:\n",
        "    # complete the code\n",
        "    number = int(input('Enter a number '))\n",
        "print (f'The total of input numbers are {total}')"
      ]
    },
    {
      "cell_type": "markdown",
      "metadata": {
        "id": "Pdbm6SgdjhQI"
      },
      "source": [
        "#### <p style=\"font-family: Arial; font-size:1.4em; background-color: yellow; color:black;\"> Problem #1.12</p>\n",
        "\n",
        "#### Complete the code to print all alphabets between input letters 'start' and 'end'\n",
        "#### 'start' and 'end' letters are inclusive\n",
        "#### Assumption. 'start' and 'end' is lower case letters. All inputs are lower case.\n",
        "> For example, if 'start' is 'a' and 'end' is 'f'  <br>\n",
        "> print 'a', 'b', 'c', 'd', 'e', 'f' <br>\n",
        "> Use the <font color='red'> while loop </font> <br>\n",
        "\n",
        "#### Refer to the following example code to practice the ord() and chr() funtions"
      ]
    },
    {
      "cell_type": "code",
      "execution_count": null,
      "metadata": {
        "id": "yNHGnkm0jhQI",
        "outputId": "51f78952-af49-4d82-91c0-6f84b9e4ca70"
      },
      "outputs": [
        {
          "name": "stdout",
          "output_type": "stream",
          "text": [
            "97\n",
            "98\n"
          ]
        }
      ],
      "source": [
        "start = 'a'\n",
        "print (ord(start))  # it will print 97, which is ASCII code for the letter 'a'\n",
        "\n",
        "next = ord(start) + 1\n",
        "print (next)  # it will print 97, which is ASCII code for the letter 'b'"
      ]
    },
    {
      "cell_type": "code",
      "execution_count": null,
      "metadata": {
        "id": "Epwx7Vk1jhQI",
        "outputId": "f519dbe6-55e0-4ecf-8d0d-5297f7de00aa"
      },
      "outputs": [
        {
          "data": {
            "text/plain": [
              "('s', 'i', 'b')"
            ]
          },
          "execution_count": 25,
          "metadata": {},
          "output_type": "execute_result"
        }
      ],
      "source": [
        "chr(115), chr(105), chr(98)     # by using the ASCII code 115, we can convert it as a character"
      ]
    },
    {
      "cell_type": "code",
      "execution_count": null,
      "metadata": {
        "id": "K1VRjCpPjhQI",
        "outputId": "ae382ea7-3e57-4222-94d4-8710c588b646"
      },
      "outputs": [
        {
          "name": "stdout",
          "output_type": "stream",
          "text": [
            "b\n"
          ]
        }
      ],
      "source": [
        "start = 'a'\n",
        "next = ord(start) + 1\n",
        "print (chr(next))"
      ]
    },
    {
      "cell_type": "code",
      "execution_count": null,
      "metadata": {
        "id": "iZbef9NqjhQJ"
      },
      "outputs": [],
      "source": [
        "start = input('Enter a starting letter: ')\n",
        "end = input('Enter a starting letter: ')\n",
        "\n",
        "# complete your code to print all the letters between 'start' and 'end'\n",
        "\n"
      ]
    },
    {
      "cell_type": "markdown",
      "metadata": {
        "id": "nkQzczuBjhQJ"
      },
      "source": [
        "***"
      ]
    },
    {
      "cell_type": "markdown",
      "metadata": {
        "id": "2BRnZgZojhQJ"
      },
      "source": [
        "#### Loop until the character 'q' is entered"
      ]
    },
    {
      "cell_type": "code",
      "execution_count": null,
      "metadata": {
        "id": "8O4JQph_jhQJ",
        "outputId": "d95036f4-5903-4a32-e2bc-7f0bc4406160"
      },
      "outputs": [
        {
          "name": "stdout",
          "output_type": "stream",
          "text": [
            "a\tb\tc\t"
          ]
        }
      ],
      "source": [
        "user_val = input('Enter a character')\n",
        "while ( user_val != 'q' ):\n",
        "\tprint ( user_val, end='\\t')\n",
        "\tuser_val = input('Enter a character')\n"
      ]
    },
    {
      "cell_type": "code",
      "execution_count": null,
      "metadata": {
        "id": "mQHiFOhTjhQK",
        "outputId": "f20dd7df-e4c9-4164-c3cd-c1fd99456c3d"
      },
      "outputs": [
        {
          "name": "stdout",
          "output_type": "stream",
          "text": [
            "Invalid Input. Try again\n",
            "Invalid Input. Try again\n",
            " user input is  5\n"
          ]
        }
      ],
      "source": [
        "user_num = int(input('Enter your number'))\n",
        "while ( user_num < 0 or user_num > 10):\n",
        "\tprint (\"Invalid Input. Try again\")\n",
        "\tuser_num = int(input('Enter your number'))\n",
        "print (\" user input is \", user_num)\n"
      ]
    },
    {
      "cell_type": "markdown",
      "metadata": {
        "id": "6bnndse-jhQK"
      },
      "source": [
        "## Don't forget to <font color='red'> **\"commit\"** </font> your work or <font color='red'> **\"save\"** </font> in Google Colab\n",
        "## before moving to the next section."
      ]
    },
    {
      "cell_type": "markdown",
      "metadata": {
        "id": "72sYa6B5jhQK"
      },
      "source": [
        "***\n",
        "## <p style=\"background-color: grey; color: white \">  ◼️ For loop </p>\n",
        "# <p style=\"font-family: Arial; font-size:1.4em;color:red;\"> 2. Basic For-loop Structures</p>"
      ]
    },
    {
      "cell_type": "markdown",
      "metadata": {
        "id": "Voa2dpCWjhQO"
      },
      "source": [
        "#### <p style=\"font-family: Arial; font-size:1.4em; background-color: yellow; color:black;\"> Problem #2.1</p>\n",
        "#### Complete the following code cells and figure out the syntax of for-loop"
      ]
    },
    {
      "cell_type": "markdown",
      "metadata": {
        "id": "UmvPux4AjhQO"
      },
      "source": [
        "##### Basic Syntax of For-Loop"
      ]
    },
    {
      "cell_type": "code",
      "execution_count": null,
      "metadata": {
        "id": "FIqxKJrUjhQO"
      },
      "outputs": [],
      "source": [
        "for i in range(10):\n",
        "    print (i, end = ' ')"
      ]
    },
    {
      "cell_type": "code",
      "execution_count": null,
      "metadata": {
        "id": "0lNfAt8wjhQO"
      },
      "outputs": [],
      "source": [
        "for num in range(5):\n",
        "\tprint (num, end=' ')"
      ]
    },
    {
      "cell_type": "markdown",
      "metadata": {
        "id": "WxOYUeFmjhQP"
      },
      "source": [
        "##### Complete this code to print 0 to <font color='red'> 10</font> with for-loop"
      ]
    },
    {
      "cell_type": "code",
      "execution_count": null,
      "metadata": {
        "id": "k-eGM5i5jhQP"
      },
      "outputs": [],
      "source": [
        "for val # complete the code\n",
        "    print (val, end=' ')"
      ]
    },
    {
      "cell_type": "markdown",
      "metadata": {
        "id": "NzVbayd6jhQP"
      },
      "source": [
        "#### <p style=\"font-family: Arial; font-size:1.4em; background-color: yellow; color:black;\"> Problem #2.2: with steps</p>\n",
        "#### Complete the following code cells and check out the results"
      ]
    },
    {
      "cell_type": "code",
      "execution_count": null,
      "metadata": {
        "id": "CMSyniMnjhQP"
      },
      "outputs": [],
      "source": [
        "for i in range(0, 10):\n",
        "    print (i)"
      ]
    },
    {
      "cell_type": "code",
      "execution_count": null,
      "metadata": {
        "id": "OZe5LGSrjhQP"
      },
      "outputs": [],
      "source": [
        "for i in range(1,10):\n",
        "    print (i)"
      ]
    },
    {
      "cell_type": "code",
      "execution_count": null,
      "metadata": {
        "id": "ij-C3UKxjhQP"
      },
      "outputs": [],
      "source": [
        "for i in range(5,10):\n",
        "    print (i)"
      ]
    },
    {
      "cell_type": "code",
      "execution_count": null,
      "metadata": {
        "id": "kBlVtVgcjhQP"
      },
      "outputs": [],
      "source": [
        "for i in range(0, 10, 2):\n",
        "    print (i)"
      ]
    },
    {
      "cell_type": "code",
      "execution_count": null,
      "metadata": {
        "id": "wxeUvmg_jhQP"
      },
      "outputs": [],
      "source": [
        "for i in range(5, 25, 5):\n",
        "    print (i)"
      ]
    },
    {
      "cell_type": "markdown",
      "metadata": {
        "id": "-9Jq7JsSjhQP"
      },
      "source": [
        "Complete the code to print 10, 12, 14, 16, 18, 20"
      ]
    },
    {
      "cell_type": "code",
      "execution_count": null,
      "metadata": {
        "id": "8HT8ZmpujhQQ"
      },
      "outputs": [],
      "source": [
        "for i in # complete the code"
      ]
    },
    {
      "cell_type": "markdown",
      "metadata": {
        "id": "CaD7fOcajhQQ"
      },
      "source": [
        "#### <p style=\"font-family: Arial; font-size:1.4em; background-color: yellow; color:black;\"> Problem #2.3: decreasing</p>\n",
        "#### Complete the following code cells and check out the results"
      ]
    },
    {
      "cell_type": "code",
      "execution_count": null,
      "metadata": {
        "id": "7-eqG_0bjhQQ"
      },
      "outputs": [],
      "source": [
        "for i in range(10, 0): # not working\n",
        "    print (i)\n"
      ]
    },
    {
      "cell_type": "code",
      "execution_count": null,
      "metadata": {
        "id": "Z_KB-kYYjhQQ"
      },
      "outputs": [],
      "source": [
        "for i in range(10, 0, -1):\n",
        "    print (i)"
      ]
    },
    {
      "cell_type": "code",
      "execution_count": null,
      "metadata": {
        "id": "Y7HMPmeyjhQQ"
      },
      "outputs": [],
      "source": [
        "for i in range(10, 0, -2):\n",
        "    print (i)"
      ]
    },
    {
      "cell_type": "markdown",
      "metadata": {
        "id": "3d7vhqzLjhQQ"
      },
      "source": [
        "Complete the code to print 15, 12, 9, 6, 3, 0"
      ]
    },
    {
      "cell_type": "code",
      "execution_count": null,
      "metadata": {
        "id": "ow0ktxFDjhQR"
      },
      "outputs": [],
      "source": [
        "for i in # complete the code\n",
        "    print (i)"
      ]
    },
    {
      "cell_type": "markdown",
      "metadata": {
        "id": "FJYYFKEIjhQR"
      },
      "source": [
        "#### <p style=\"font-family: Arial; font-size:1.4em; background-color: yellow; color:black;\"> Problem #2.4: list values in for-loop</p>\n",
        "#### Complete the following code cells and check out the results"
      ]
    },
    {
      "cell_type": "markdown",
      "metadata": {
        "id": "9GzT7R-wjhQR"
      },
      "source": [
        "#### List can be used for-loop to iterate all elements\n",
        "```\n",
        "for val in [0,1,2,3,4]:\n",
        "    print (val)\n",
        "```"
      ]
    },
    {
      "cell_type": "code",
      "execution_count": null,
      "metadata": {
        "id": "XR3qZzHSjhQR"
      },
      "outputs": [],
      "source": [
        "for val in [0,1,2,3,4]:\n",
        "    print (val)"
      ]
    },
    {
      "cell_type": "code",
      "execution_count": null,
      "metadata": {
        "id": "NsX-JnRNjhQR"
      },
      "outputs": [],
      "source": [
        "for str in ['Java', 'Python', 'C++', 'R', 'Ruby', 'Java Script']:\n",
        "\tprint (str, end=' ')"
      ]
    },
    {
      "cell_type": "code",
      "execution_count": null,
      "metadata": {
        "id": "2UBk-N-djhQR"
      },
      "outputs": [],
      "source": [
        "for val in [10, 20, 30]:\n",
        "\tprint (val)\n",
        "\n",
        "listval = [10, 20, 30]\n",
        "for val in listval:\n",
        "\tprint (val)\n",
        "\n"
      ]
    },
    {
      "cell_type": "markdown",
      "metadata": {
        "id": "ZDelbU65jhQR"
      },
      "source": [
        "Complete the code to get the summation of 5 user input values"
      ]
    },
    {
      "cell_type": "code",
      "execution_count": null,
      "metadata": {
        "id": "AYCTKQm5jhQR"
      },
      "outputs": [],
      "source": [
        "total  = 0\n",
        "for  i in range(5):\n",
        "\tuser_num = int(input('Enter your num'))\n",
        "\ttotal += user_num\n",
        "print (\"Summation is\", total)\n"
      ]
    },
    {
      "cell_type": "markdown",
      "metadata": {
        "id": "r7XWV2v6jhQS"
      },
      "source": [
        "Compare the while-loop version to for-loop"
      ]
    },
    {
      "cell_type": "code",
      "execution_count": null,
      "metadata": {
        "id": "XykAkqGZjhQS"
      },
      "outputs": [],
      "source": [
        "sum = 0\n",
        "i = 0\n",
        "while (i < 5):\n",
        "\tuser_num = int(input('Enter your num'))\n",
        "\tsum += user_num\n",
        "\ti += 1\n",
        "print (\"Summation is\", sum)\n"
      ]
    },
    {
      "cell_type": "code",
      "execution_count": null,
      "metadata": {
        "id": "UNz0IdKHjhQS"
      },
      "outputs": [],
      "source": [
        "i = 0\n",
        "\n",
        "while True:\n",
        "\ti += 1\n",
        "\tprint (i)\n",
        "\tif ( i > 10):\n",
        "\t\tbreak\n"
      ]
    },
    {
      "cell_type": "markdown",
      "metadata": {
        "id": "R5n0hXPmjhQS"
      },
      "source": [
        "### Calculating Running Total"
      ]
    },
    {
      "cell_type": "code",
      "execution_count": null,
      "metadata": {
        "id": "_TFa4xr2jhQT",
        "outputId": "39ee20a1-6b94-415c-b95e-ffc7a3f29fb3"
      },
      "outputs": [
        {
          "name": "stdout",
          "output_type": "stream",
          "text": [
            "Total 15\n"
          ]
        }
      ],
      "source": [
        "sum = 0\n",
        "for i in range(5):\n",
        "\tnumber = int(input('Enter your number'))\n",
        "\tsum += number\n",
        "print ('Total {0}'.format(sum))"
      ]
    },
    {
      "cell_type": "markdown",
      "metadata": {
        "id": "tskBjBwHjhQT"
      },
      "source": [
        "##### While-loop version"
      ]
    },
    {
      "cell_type": "code",
      "execution_count": null,
      "metadata": {
        "id": "4sBH0r3njhQT"
      },
      "outputs": [],
      "source": [
        "i = 0\n",
        "while (i < 5):\n",
        "\tnumber = int(input('Enter your number'))\n",
        "\tsum += number\n",
        "\ti += 1\n",
        "print ('Total {0}'.format(sum))"
      ]
    },
    {
      "cell_type": "markdown",
      "metadata": {
        "id": "0cgR3mQ4jhQT"
      },
      "source": [
        "### 👉 Complete the code to get the summation of 5 user input values with for-loop"
      ]
    },
    {
      "cell_type": "code",
      "execution_count": null,
      "metadata": {
        "id": "2Y1kwbz3jhQU"
      },
      "outputs": [],
      "source": [
        "for # complete the code"
      ]
    },
    {
      "cell_type": "markdown",
      "metadata": {
        "id": "UxP77JaIjhQU"
      },
      "source": [
        "### 👉 Complete the code to calculate the sum of 10 user input <font color='red'> even </font> values."
      ]
    },
    {
      "cell_type": "code",
      "execution_count": null,
      "metadata": {
        "id": "T2MGM2OHjhQU"
      },
      "outputs": [],
      "source": [
        "for # complete the code"
      ]
    },
    {
      "cell_type": "markdown",
      "metadata": {
        "id": "5Z6PDhrJjhQU"
      },
      "source": [
        "#### What is the main difference between for-loop and while-loop?\n",
        "#### In which case the while-loop has advantage?"
      ]
    },
    {
      "cell_type": "markdown",
      "metadata": {
        "id": "W9542lLbjhQU"
      },
      "source": [
        "#####  💯 Make your answer here with MD syntax\n",
        "- bullet\n",
        "> code\n",
        "<font color='red'> MD syntax example </font>"
      ]
    },
    {
      "cell_type": "markdown",
      "metadata": {
        "id": "sjc13ahejhQU"
      },
      "source": [
        "## Don't forget to <font color='red'> **\"commit\"** </font> your work or <font color='red'> **\"save\"** </font> in Google Colab\n",
        "## before moving to the next section."
      ]
    },
    {
      "cell_type": "markdown",
      "metadata": {
        "id": "JpFleO_ujhQU"
      },
      "source": [
        "***\n",
        "## <p style=\"background-color: grey; color: white\">  ◼️ Random Numbers </p>\n",
        "# <p style=\"font-family: Arial; font-size:1.4em;color:red;\"> 3. Random Numbers </p>"
      ]
    },
    {
      "cell_type": "markdown",
      "metadata": {
        "id": "a-E9RxG1jhQV"
      },
      "source": [
        "#### To create the Random Numbers, import the random module first\n",
        "> <font color='red'> import random </font>"
      ]
    },
    {
      "cell_type": "markdown",
      "metadata": {
        "id": "1OJErlGyjhQV"
      },
      "source": [
        "#### Random module supports the varous functions to generate random numbers\n",
        "#### Here is the link to learn more about \"Random\" module\n",
        "[Manual for Random Modlue](https://docs.python.org/3/library/random.html)\n",
        "\n",
        "In this first example, we will use only \"randint()\" function"
      ]
    },
    {
      "cell_type": "code",
      "execution_count": null,
      "metadata": {
        "id": "YxI5or6JjhQV",
        "outputId": "dd029b74-b9c7-4254-d2c0-53368e626d02"
      },
      "outputs": [
        {
          "data": {
            "text/plain": [
              "54"
            ]
          },
          "execution_count": 40,
          "metadata": {},
          "output_type": "execute_result"
        }
      ],
      "source": [
        "import random\n",
        "\n",
        "randnum = random.randint(0, 100) # will return a random number between 0 and 100 (inclusive)\n",
        "randnum"
      ]
    },
    {
      "cell_type": "code",
      "execution_count": null,
      "metadata": {
        "id": "Dy_9ALc4jhQV",
        "outputId": "565eedf2-d7ff-4fbd-d247-11eb785648ac"
      },
      "outputs": [
        {
          "name": "stdout",
          "output_type": "stream",
          "text": [
            "The generated random number is 6, 5 and 5\n"
          ]
        }
      ],
      "source": [
        "rdnum1 = random.randint(0,10)\n",
        "rdnum2 = random.randint(0,10)\n",
        "rdnum3 = random.randint(0,10)\n",
        "\n",
        "print (f'The generated random number is {rdnum1}, {rdnum2} and {rdnum3}')"
      ]
    },
    {
      "cell_type": "markdown",
      "metadata": {
        "id": "Xz6iQ6B1jhQW"
      },
      "source": [
        "#### <p style=\"font-family: Arial; font-size:1.4em; background-color: yellow; color:black;\"> Problem #3.1:  Random number</p>"
      ]
    },
    {
      "cell_type": "markdown",
      "metadata": {
        "id": "BT0XoWx2jhQW"
      },
      "source": [
        "#### Complete the code to generate the random number between 10 and 20"
      ]
    },
    {
      "cell_type": "code",
      "execution_count": null,
      "metadata": {
        "id": "oPhsu0VdjhQW"
      },
      "outputs": [],
      "source": [
        "# complete the code"
      ]
    },
    {
      "cell_type": "markdown",
      "metadata": {
        "id": "AAq9PBLSjhQW"
      },
      "source": [
        "#### Complete the code to generate 5 random number between 10 and 20 using for loop\n"
      ]
    },
    {
      "cell_type": "code",
      "execution_count": null,
      "metadata": {
        "id": "gBY3HUbFjhQW",
        "outputId": "fbf87336-3f7d-44be-be65-5b05b39364b5"
      },
      "outputs": [
        {
          "name": "stdout",
          "output_type": "stream",
          "text": [
            "18 18 11 15 10 "
          ]
        }
      ],
      "source": [
        "for i in range(5):\n",
        "    rdnum = random.randint(10, 20)\n",
        "    print (rdnum, end=' ')"
      ]
    },
    {
      "cell_type": "markdown",
      "metadata": {
        "id": "0gBplfogjhQX"
      },
      "source": [
        "#### <p style=\"font-family: Arial; font-size:1.4em; background-color: yellow; color:black;\"> Problem #3.2  </p>\n",
        "#### Complete the code to generate 5 radom numbers between 10 and 20, and calculate the sum of all random numbers\n",
        "##### ✓ No need to use the \"list\" data type."
      ]
    },
    {
      "cell_type": "code",
      "execution_count": null,
      "metadata": {
        "id": "FeY1txiHjhQY"
      },
      "outputs": [],
      "source": [
        "# complete the code here"
      ]
    },
    {
      "cell_type": "markdown",
      "metadata": {
        "id": "qo58Or_CjhQY"
      },
      "source": [
        "#### <p style=\"font-family: Arial; font-size:1.4em; background-color: yellow; color:black;\"> Problem #3.3  </p>\n",
        "#### Complete the code to generate 5 radom numbers between 0 and 10, and find the greatest number\n",
        "##### ✓ No need to use the \"list\" data type."
      ]
    },
    {
      "cell_type": "code",
      "execution_count": null,
      "metadata": {
        "id": "MkZZDhP9jhQY",
        "outputId": "5761590a-59b1-49c5-8c05-9923a390e7d3"
      },
      "outputs": [
        {
          "name": "stdout",
          "output_type": "stream",
          "text": [
            "8 1 6 7 4 \n",
            "The greatest random number is 8\n"
          ]
        }
      ],
      "source": [
        "for i in range(5):\n",
        "    rdnum = random.randint(0,10)\n",
        "    if i == 0: # if it is the first iteration\n",
        "        maxval = rdnum # We assume that the first rdnum is greatest number\n",
        "    if rdnum > maxval:  # if the next rdnum is greater than the current maxval, keep it as maxval\n",
        "        maxval = rdnum\n",
        "    print (rdnum, end=' ')\n",
        "\n",
        "print (f'\\nThe greatest random number is {maxval}')"
      ]
    },
    {
      "cell_type": "markdown",
      "metadata": {
        "id": "v5EhMSfZjhQZ"
      },
      "source": [
        "#### <p style=\"font-family: Arial; font-size:1.4em; background-color: yellow; color:black;\"> Problem #3.4  </p>\n",
        "#### Complete the code to generate 5 radom numbers between 0 and 10, and find the least number\n",
        "##### ✓ No need to use the \"list\" data type."
      ]
    },
    {
      "cell_type": "code",
      "execution_count": null,
      "metadata": {
        "id": "w915QC2XjhQZ"
      },
      "outputs": [],
      "source": [
        "# complete the code here"
      ]
    },
    {
      "cell_type": "markdown",
      "metadata": {
        "id": "OXmDYzqvjhQZ"
      },
      "source": [
        "#### <p style=\"font-family: Arial; font-size:1.4em; background-color: yellow; color:black;\"> Problem #3.5  </p>\n",
        "#### Write a program that generates a random number between 0 and 100 repeatedly.\n",
        "#### The while loop will stop if it is greater than the immediate preceding random number.\n",
        "##### ✓ No need to use the \"list\" data type. <br>"
      ]
    },
    {
      "cell_type": "code",
      "execution_count": null,
      "metadata": {
        "id": "k8-Jg2rBjhQZ"
      },
      "outputs": [],
      "source": [
        "import random\n",
        "flag = 1\n",
        "prev_num = 101\n",
        "while (flag):\n",
        "\tcurrent_num = random.randint(0,100)\n",
        "\tprint (current_num, end = ' ')\n",
        "\tif ( current_num > prev_num):\n",
        "\t\tflag = 0;\n",
        "\tprev_num = current_num\n"
      ]
    },
    {
      "cell_type": "markdown",
      "metadata": {
        "id": "OyQai3oujhQa"
      },
      "source": [
        "## Don't forget to <font color='red'> **\"commit\"** </font> your work or <font color='red'> **\"save\"** </font> in Google Colab\n",
        "## before moving to the next section."
      ]
    },
    {
      "cell_type": "markdown",
      "metadata": {
        "id": "OloOX5iBjhQa"
      },
      "source": [
        "***\n",
        "## <p style=\"background-color: grey; color: white\">  ◼️ List and For loop </p>\n",
        "# <p style=\"font-family: Arial; font-size:1.4em;color:red;\"> 4. List and For loop </p>"
      ]
    },
    {
      "cell_type": "markdown",
      "metadata": {
        "id": "UEanzYxSjhQa"
      },
      "source": [
        "#### list is the data type that can hold the multiple values as a element\n",
        "#### For example\n",
        "> <code> mylist = [10, 20, 30, 40, 50] </code>\n",
        "\n",
        "#### Each element can be accessed by using index, for example, to access the 2nd element\n",
        "> <code> mylist[1]   # it will print the value 20 </code>"
      ]
    },
    {
      "cell_type": "code",
      "execution_count": null,
      "metadata": {
        "id": "SaSOZe-jjhQb"
      },
      "outputs": [],
      "source": [
        "mylist = [10, 20, 30, 40, 50]\n",
        "print (mylist[0])\n",
        "print (mylist[1])\n",
        "print (mylist[2])\n",
        "print (mylist[3])\n",
        "print (mylist[4])"
      ]
    },
    {
      "cell_type": "code",
      "execution_count": null,
      "metadata": {
        "id": "AqRdo2ZpjhQb"
      },
      "outputs": [],
      "source": [
        "mylist = [10, 20, 30, 40, 50]\n",
        "total = mylist[0] + mylist[1] + mylist[2] + mylist[3] + mylist[4]\n",
        "print (total)"
      ]
    },
    {
      "cell_type": "markdown",
      "metadata": {
        "id": "bIZUtnIcjhQb"
      },
      "source": [
        "#### Print all elements in the list"
      ]
    },
    {
      "cell_type": "code",
      "execution_count": null,
      "metadata": {
        "id": "7rcihuwljhQb"
      },
      "outputs": [],
      "source": [
        "mylist = [10, 20, 30, 40, 50]\n",
        "for idx in range(5):\n",
        "\tprint (mylist[idx], end=' ')"
      ]
    },
    {
      "cell_type": "markdown",
      "metadata": {
        "id": "52FF1cQ-jhQb"
      },
      "source": [
        "#### Print all elements in reverse order in the list"
      ]
    },
    {
      "cell_type": "code",
      "execution_count": null,
      "metadata": {
        "id": "5KGQo-CsjhQc"
      },
      "outputs": [],
      "source": [
        "mylist = [10, 20, 30, 40, 50]\n",
        "for idx in range(4, -1, -1):\n",
        "\tprint (mylist[idx], end=' ')"
      ]
    },
    {
      "cell_type": "markdown",
      "metadata": {
        "id": "_U2efy60jhQc"
      },
      "source": [
        "#### Print all elements in reverse order by using the \"reversed()\" function"
      ]
    },
    {
      "cell_type": "code",
      "execution_count": null,
      "metadata": {
        "id": "adjNEG4ujhQc"
      },
      "outputs": [],
      "source": [
        "for i in reversed(range(5)):\n",
        "    print (i, end=' ')  # it will print 4 3 2 1 0, # Now you can these sequence to access the elements"
      ]
    },
    {
      "cell_type": "code",
      "execution_count": null,
      "metadata": {
        "id": "RDhelKAyjhQc",
        "outputId": "0135e8ff-874b-4780-cb7a-19b3898ccb41"
      },
      "outputs": [
        {
          "name": "stdout",
          "output_type": "stream",
          "text": [
            "100 88 77 56 45 "
          ]
        }
      ],
      "source": [
        "mylist = [10, 20, 30, 40, 50]\n",
        "for idx in reversed(range(5)):\n",
        "\tprint (mylist[idx], end=' ')"
      ]
    },
    {
      "cell_type": "markdown",
      "metadata": {
        "id": "liiToG6vjhQc"
      },
      "source": [
        "#### Accessing each element directly without index in the for-loop"
      ]
    },
    {
      "cell_type": "code",
      "execution_count": null,
      "metadata": {
        "id": "tmIfb3FljhQd"
      },
      "outputs": [],
      "source": [
        "mylist = [11, 22, 33, 44, 55]\n",
        "\n",
        "for v in mylist:        # the variable v will be each element in the repetition.\n",
        "    print (v, end=' ')\n"
      ]
    },
    {
      "cell_type": "markdown",
      "metadata": {
        "id": "fWXPic4UjhQd"
      },
      "source": [
        "#### <p style=\"font-family: Arial; font-size:1.4em; background-color: yellow; color:black;\"> Problem #4.1  </p>\n",
        "#### Calculate the sum of all elements using for-loop\n",
        "#### Do not use the function sum(). Need to practice the for-loop and develop your algorithm"
      ]
    },
    {
      "cell_type": "code",
      "execution_count": null,
      "metadata": {
        "id": "frf8_zuUjhQd"
      },
      "outputs": [],
      "source": [
        "\n",
        "mylist = [10, 20, 30, 40, 50]\n",
        "total = 0\n",
        "\n",
        "# Complete the code"
      ]
    },
    {
      "cell_type": "markdown",
      "metadata": {
        "id": "sU8rvtOjjhQd"
      },
      "source": [
        "#### <p style=\"font-family: Arial; font-size:1.4em; background-color: yellow; color:black;\"> Problem #4.2  </p>\n",
        "#### Find the least number in the list.\n",
        "#### Do not use the function <font color='red'>min() </font>. <br> Need to practice the for-loop and develop your algorithm\n",
        "#### Follow the algorithm steps to find the least number\n",
        "> 1) Assume that the 1st element is the least number    \n",
        ">> <code> minval = mylist[0] </code>\n",
        "> 2) Iterate all elements from 2nd to the last\n",
        ">> <code> for i in range(len(mylist)): </code>\n",
        "> 3) If any element in the list is less than the current, replace the minval with the current element\n",
        ">> <code> if mylist[i] < minval: </code>\n",
        ">>> <code> minval = mylist[i] </code>"
      ]
    },
    {
      "cell_type": "code",
      "execution_count": null,
      "metadata": {
        "id": "w2jKFiNljhQd"
      },
      "outputs": [],
      "source": [
        "mylist = [10, 20, 30, 40, 50]\n",
        "# complete your code\n"
      ]
    },
    {
      "cell_type": "markdown",
      "metadata": {
        "id": "aQ_qYGLUjhQd"
      },
      "source": [
        "#### <p style=\"font-family: Arial; font-size:1.4em; background-color: yellow; color:black;\"> Problem #4.3  </p>\n",
        "#### Complete the code that determines whether the input value is in the list or not\n",
        "#### Do not use the operator <font color='red'>in </font>. <br> Need to practice the for-loop and develop your algorithm\n",
        "> input number <br>\n",
        "> for each element in the list <br>\n",
        ">> compare input number to each element <br>\n",
        ">> if two values are same, print True <br>"
      ]
    },
    {
      "cell_type": "code",
      "execution_count": null,
      "metadata": {
        "id": "t-aTVq_FjhQe"
      },
      "outputs": [],
      "source": [
        "target = int(input('Enter a number: '))\n",
        "\n",
        "for # complete the code"
      ]
    },
    {
      "cell_type": "markdown",
      "metadata": {
        "id": "1Bzgu5EajhQe"
      },
      "source": [
        "## Don't forget to <font color='red'> **\"commit\"** </font> your work or <font color='red'> **\"save\"** </font> in Google Colab\n",
        "## before moving to the next section."
      ]
    },
    {
      "cell_type": "markdown",
      "metadata": {
        "id": "8zgcPcHvjhQe"
      },
      "source": [
        "***\n",
        "## <p style=\"background-color: grey; color: white\">  ◼️ Break and Continue </p>\n",
        "# <p style=\"font-family: Arial; font-size:1.4em;color:red;\"> 5. Break and Continue </p>\n",
        "\n",
        "\n",
        "#### In programming, the break and continue statements are used to alter the flow of loops:\n",
        "<ul>\n",
        "\t<li><code>break</code> exits the loop entirely</li>\n",
        "\t<li><code>continue</code> skips the current iteration and proceeds to the next one</li>\n",
        "</ul>"
      ]
    },
    {
      "cell_type": "markdown",
      "metadata": {
        "id": "6yyi-ZSxjhQe"
      },
      "source": [
        "### Example code: Before run the below cell, guess the value of i after for loop"
      ]
    },
    {
      "cell_type": "code",
      "execution_count": null,
      "metadata": {
        "id": "pYt7e2uxjhQe"
      },
      "outputs": [],
      "source": [
        "for i in range(5):\n",
        "    if i == 3:\n",
        "        break\n",
        "print (i)       # value i? why?"
      ]
    },
    {
      "cell_type": "markdown",
      "metadata": {
        "id": "iis3ax9fjhQe"
      },
      "source": [
        "### Example code: 10 iterations with while-loop and break\n"
      ]
    },
    {
      "cell_type": "code",
      "execution_count": null,
      "metadata": {
        "id": "GXp-6kvnjhQe"
      },
      "outputs": [],
      "source": [
        "i = 0\n",
        "while True:\n",
        "    if i == 10:\n",
        "        break\n",
        "    print (i, end=' ')\n",
        "    i += 1\n"
      ]
    },
    {
      "cell_type": "markdown",
      "metadata": {
        "id": "8qhaDLA7jhQe"
      },
      "source": [
        "#### <p style=\"font-family: Arial; font-size:1.4em; background-color: yellow; color:black;\"> Problem #5.1  </p>\n",
        "#### Complete the code that input a number until the input value is -1\n",
        "> Use the while loop and break"
      ]
    },
    {
      "cell_type": "code",
      "execution_count": null,
      "metadata": {
        "id": "YnTrDgXbjhQf"
      },
      "outputs": [],
      "source": [
        "while True:\n",
        "    number = int(input('Enter a number: '))\n",
        "    # complete the code\n",
        "    print (number)"
      ]
    },
    {
      "cell_type": "markdown",
      "metadata": {
        "id": "UhxAT_G2jhQf"
      },
      "source": [
        "#### <p style=\"font-family: Arial; font-size:1.4em; background-color: yellow; color:black;\"> Problem #5.2  </p>\n",
        "#### Complete the code that input a word until the input value is 'stop'\n",
        "> Use the while loop and break"
      ]
    },
    {
      "cell_type": "code",
      "execution_count": null,
      "metadata": {
        "id": "8QLD57s0jhQf"
      },
      "outputs": [],
      "source": [
        "while True:\n",
        "    word = input('Enter a word: ')\n",
        "    if # complete your code\n",
        "    print(word)"
      ]
    },
    {
      "cell_type": "markdown",
      "metadata": {
        "id": "_fnRbuIijhQf"
      },
      "source": [
        "## Don't forget to <font color='red'> **\"commit\"** </font> your work or <font color='red'> **\"save\"** </font> in Google Colab\n",
        "## before moving to the next section."
      ]
    },
    {
      "cell_type": "markdown",
      "metadata": {
        "id": "qyt_PgRdjhQf"
      },
      "source": [
        "***\n",
        "## <p style=\"background-color: grey; color: white\">  ◼️ While-else for-else </p>\n",
        "# <p style=\"font-family: Arial; font-size:1.4em;color:red;\"> 6. while-else for-else </p>\n",
        "### While and for loop also has the \"else\" clause"
      ]
    },
    {
      "cell_type": "markdown",
      "metadata": {
        "id": "1bZ-6YnBjhQf"
      },
      "source": [
        "#### With the else statement we can run a block of code once when the condition no longer is true:"
      ]
    },
    {
      "cell_type": "code",
      "execution_count": null,
      "metadata": {
        "id": "-uqvdiIrjhQf",
        "outputId": "49cd260d-7790-4d2d-c4f8-5b12e485af89"
      },
      "outputs": [
        {
          "name": "stdout",
          "output_type": "stream",
          "text": [
            "1 2 3 4 5 6 7 8 9 \n",
            "i is no longer less than 10\n"
          ]
        }
      ],
      "source": [
        "i = 1\n",
        "while i < 10:\n",
        "  print(i, end=' ')\n",
        "  i += 1\n",
        "else:\n",
        "  print(\"\\ni is no longer less than 10\")"
      ]
    },
    {
      "cell_type": "markdown",
      "metadata": {
        "id": "4T8lJgGXjhQf"
      },
      "source": [
        "#### What is the difference with the following code?"
      ]
    },
    {
      "cell_type": "markdown",
      "metadata": {
        "id": "tNu7o9iMjhQg"
      },
      "source": [
        "There is no difference between two while-loops."
      ]
    },
    {
      "cell_type": "code",
      "execution_count": null,
      "metadata": {
        "id": "zxnj30VfjhQg",
        "outputId": "d68d3272-1880-4529-d2e2-5a089823652c"
      },
      "outputs": [
        {
          "name": "stdout",
          "output_type": "stream",
          "text": [
            "1 2 3 4 5 6 7 8 9 \n",
            "i is no longer less than 10\n"
          ]
        }
      ],
      "source": [
        "i = 1\n",
        "while i < 10:\n",
        "  print(i, end=' ')\n",
        "  i += 1\n",
        "print(\"\\ni is no longer less than 10\")"
      ]
    },
    {
      "cell_type": "markdown",
      "metadata": {
        "id": "5T1AiGWMjhQg"
      },
      "source": [
        "#### <p style=\"font-family: Arial; font-size:1.4em; background-color: yellow; color:black;\"> Problem #6.1  </p>\n",
        "#### Run the following example to see the difference\n",
        "#### At the 1st try, use the input series 10, 15, 20, 25, 30\n",
        "#### At the 2nd try, use the input series 10, 15, -1 <font color='red'> ⚠️ \"else\" part will not be executed"
      ]
    },
    {
      "cell_type": "code",
      "execution_count": null,
      "metadata": {
        "id": "JBNjl0xpjhQg",
        "outputId": "d0c5f607-3259-4ad3-defa-f47ab6cdf334"
      },
      "outputs": [
        {
          "name": "stdout",
          "output_type": "stream",
          "text": [
            "1 2 -1 "
          ]
        }
      ],
      "source": [
        "i = 0\n",
        "while i < 5:\n",
        "    number = int(input('Enter a number: '))\n",
        "    print (number, end= ' ')\n",
        "    if number == -1:\n",
        "        break\n",
        "    i += 1\n",
        "else:\n",
        "    print ('Executed while-else part')\n"
      ]
    },
    {
      "cell_type": "markdown",
      "metadata": {
        "id": "Vy_rlD2WjhQg"
      },
      "source": [
        "#### <p style=\"font-family: Arial; font-size:1.4em; background-color: yellow; color:black;\"> Problem #6.2  </p>\n",
        "#### Write a code to decide all the elements in the list are positive or not"
      ]
    },
    {
      "cell_type": "markdown",
      "metadata": {
        "id": "DRXGPvR-jhQg"
      },
      "source": [
        "#### [Version 1]"
      ]
    },
    {
      "cell_type": "code",
      "execution_count": null,
      "metadata": {
        "id": "lfSElx2_jhQg",
        "outputId": "4d2daae0-f28b-4e4f-fd9a-8be06d80272e"
      },
      "outputs": [
        {
          "name": "stdout",
          "output_type": "stream",
          "text": [
            "All elements are not positive value\n"
          ]
        }
      ],
      "source": [
        "mylist = [1,2,-3, 4, 5]\n",
        "\n",
        "flag = True\n",
        "for v in mylist:\n",
        "    if v < 0:\n",
        "        flag = False\n",
        "\n",
        "if flag:\n",
        "    print ('All elements are positive value')\n",
        "else:\n",
        "    print ('All elements are not positive value')"
      ]
    },
    {
      "cell_type": "markdown",
      "metadata": {
        "id": "1w98o7KQjhQg"
      },
      "source": [
        "#### [Version 2]\n",
        "#### for-else has advantage when you check the condition \"for all elements\""
      ]
    },
    {
      "cell_type": "code",
      "execution_count": null,
      "metadata": {
        "id": "uezU0b1ZjhQh",
        "outputId": "74d28999-115e-4b71-d501-9fbd547d443a"
      },
      "outputs": [
        {
          "name": "stdout",
          "output_type": "stream",
          "text": [
            "All elements are not positive value\n"
          ]
        }
      ],
      "source": [
        "mylist = [1,2,-3, 4, 5]\n",
        "\n",
        "for v in mylist:\n",
        "    if v < 0:\n",
        "        print ('All elements are not positive value')\n",
        "        break\n",
        "else:\n",
        "    print ('All elements are positive value')"
      ]
    },
    {
      "cell_type": "markdown",
      "metadata": {
        "id": "AjDSolN5jhQh"
      },
      "source": [
        "#### <p style=\"font-family: Arial; font-size:1.4em; background-color: yellow; color:black;\"> Problem #6.3  </p>\n",
        "#### Write a code to determine if the list contains an element that matches the input number"
      ]
    },
    {
      "cell_type": "code",
      "execution_count": null,
      "metadata": {
        "id": "FLQLQrl5jhQh"
      },
      "outputs": [],
      "source": [
        "number = int(input('Enter a number: '))\n",
        "mylist = [10, 12, 14, 16, 18, 20]\n",
        "\n",
        "for i in range(len(mylist)):\n",
        "    if number == mylist[i]:\n",
        "        print (f'The value {number} is in the list')\n",
        "        # complete the code\n",
        "else:\n",
        "    print (f'The value {number} is not in the list')"
      ]
    },
    {
      "cell_type": "markdown",
      "metadata": {
        "id": "mWww2fLmjhQh"
      },
      "source": [
        "## Don't forget to <font color='red'> **\"commit\"** </font> your work or <font color='red'> **\"save\"** </font> in Google Colab\n",
        "## before moving to the next section."
      ]
    },
    {
      "cell_type": "markdown",
      "metadata": {
        "id": "5jzv2RcMjhQh"
      },
      "source": [
        "***\n",
        "## <p style=\"background-color: grey; color: white\">  ◼️ Input Validation </p>\n",
        "# <p style=\"font-family: Arial; font-size:1.4em;color:red;\"> 7. Input Validation </p>"
      ]
    },
    {
      "cell_type": "markdown",
      "metadata": {
        "id": "IYASyjzxjhQh"
      },
      "source": [
        "#### Complete the following code segments and run it\n",
        "#### Figure out the code algorithms"
      ]
    },
    {
      "cell_type": "markdown",
      "metadata": {
        "id": "QCVM_807jhQh"
      },
      "source": [
        "#### Code that checks whether the input number is between 0 and 100"
      ]
    },
    {
      "cell_type": "code",
      "execution_count": null,
      "metadata": {
        "id": "KSXFdtYRjhQh",
        "outputId": "7abfc4a0-6684-4e54-dc68-5b71561159ad"
      },
      "outputs": [
        {
          "name": "stdout",
          "output_type": "stream",
          "text": [
            "10\n"
          ]
        }
      ],
      "source": [
        "\n",
        "number = int(input('Enter your input'))\n",
        "\n",
        "while ( number < 0 or number > 100):\n",
        "\tnumber = int(input('The input should be between 0 and 100'))\n",
        "\n",
        "print (number)\n"
      ]
    },
    {
      "cell_type": "markdown",
      "metadata": {
        "id": "lxuLagtZjhQi"
      },
      "source": [
        "#### Print a character until 'q' is entered\n"
      ]
    },
    {
      "cell_type": "code",
      "execution_count": null,
      "metadata": {
        "id": "wby2fJ4wjhQi",
        "outputId": "d55a85c9-5f0f-4f30-837b-4004d5b12e75"
      },
      "outputs": [
        {
          "name": "stdout",
          "output_type": "stream",
          "text": [
            "a b d d e s "
          ]
        }
      ],
      "source": [
        "user_char =  input('Enter your character')\n",
        "\n",
        "while( user_char != 'q'):\n",
        "\tprint (user_char, end=' ')\n",
        "\tuser_char =  input('Enter your character')\n"
      ]
    },
    {
      "cell_type": "markdown",
      "metadata": {
        "id": "OgmQ4OCRjhQi"
      },
      "source": [
        "#### <p style=\"font-family: Arial; font-size:1.4em; background-color: yellow; color:black;\"> Problem #7.1  </p>\n",
        "#### Complete the code using \"try-except\" clause to decide whether the input causes an \"ValueError\" or not"
      ]
    },
    {
      "cell_type": "markdown",
      "metadata": {
        "id": "mOfZSUHOjhQi"
      },
      "source": [
        "## Try-except statement\n",
        "> learn more about \"try-except\" throught the [link](https://docs.python.org/3/tutorial/errors.html) <br>\n",
        "> [another resource to learn try-except](https://python101.pythonlibrary.org/chapter7_exception_handling.html)\n",
        "#### Try to input the \"non integer value\" like a letter"
      ]
    },
    {
      "cell_type": "code",
      "execution_count": null,
      "metadata": {
        "id": "-VIT4SdNjhQi",
        "outputId": "59653775-2e4c-4d2a-b534-52a201559b23"
      },
      "outputs": [
        {
          "name": "stdout",
          "output_type": "stream",
          "text": [
            "Invalid input: Value Error\n",
            "10\n"
          ]
        }
      ],
      "source": [
        "try:\n",
        "\tuser_num = int(input('Enter a number'))\n",
        "except ValueError:\n",
        "\tprint ('Invalid input: Value Error')\n",
        "\n",
        "print (user_num)"
      ]
    },
    {
      "cell_type": "markdown",
      "metadata": {
        "id": "-CePn0pejhQi"
      },
      "source": [
        "#### input a number until it is valid"
      ]
    },
    {
      "cell_type": "code",
      "execution_count": null,
      "metadata": {
        "id": "ViKiHjz_jhQi"
      },
      "outputs": [],
      "source": [
        "while True:\n",
        "\ttry:\n",
        "\t\tuser_num = int(input('Enter a number'))\n",
        "\texcept ValueError:\n",
        "\t\tprint ('Invalid input: Value Error')\n",
        "\t\tcontinue\n",
        "\telse:\n",
        "\t\tprint (user_num)\n",
        "\t\tbreak"
      ]
    },
    {
      "cell_type": "markdown",
      "metadata": {
        "id": "c2UvLZKZjhQj"
      },
      "source": [
        "## Don't forget to <font color='red'> **\"commit\"** </font> your work or <font color='red'> **\"save\"** </font> in Google Colab\n",
        "## before moving to the next section."
      ]
    },
    {
      "cell_type": "markdown",
      "metadata": {
        "id": "m0vyBAFWjhQj"
      },
      "source": [
        "***\n",
        "## <p style=\"background-color:grey; color:white\">  ◼️ Nested Loop  </p>\n",
        "# <p style=\"font-family: Arial; font-size:1.4em;color:red;\"> 8. Nested Loop </p>\n",
        "\n",
        "#### Check out the following example codes and figure out the results\n"
      ]
    },
    {
      "cell_type": "markdown",
      "metadata": {
        "id": "NHt-mtTwjhQj"
      },
      "source": [
        "#### All combinations of Set A (0, 1, 2) and Set B (0, 1, 2, 3, 4)\n",
        "```\n",
        "(0, 0) (0, 1) (0, 2) (0, 3) (0, 4)\n",
        "(1, 0) (1, 1) (1, 2) (1, 3) (1, 4)\n",
        "(2, 0) (2, 1) (2, 2) (2, 3) (2, 4)\n",
        "```"
      ]
    },
    {
      "cell_type": "code",
      "execution_count": null,
      "metadata": {
        "id": "gma7QsCEjhQj"
      },
      "outputs": [],
      "source": [
        "for i in range(3):\n",
        "    for j in range(5):\n",
        "        print (i, j)"
      ]
    },
    {
      "cell_type": "code",
      "execution_count": null,
      "metadata": {
        "id": "WRAkDUbhjhQj"
      },
      "outputs": [],
      "source": [
        "for i in range(3):\n",
        "\tfor j in range(5):\n",
        "\t\tprint (f'({i}, {j})', end=' ')\n",
        "\tprint ()"
      ]
    },
    {
      "cell_type": "markdown",
      "metadata": {
        "id": "xKZ4qXJ-jhQj"
      },
      "source": [
        "#### <p style=\"font-family: Arial; font-size:1.4em; background-color: yellow; color:black;\"> Problem #8.1  </p>\n",
        "#### Complete the code in the nested for loop to print the result below\n",
        "```\n",
        "(0, 0) (0, 1) (0, 2)\n",
        "(1, 0) (1, 1) (1, 2)\n",
        "(2, 0) (2, 1) (2, 2)\n",
        "(3, 0) (3, 1) (3, 2)\n",
        "(4, 0) (4, 1) (4, 2)\n",
        "```\n"
      ]
    },
    {
      "cell_type": "code",
      "execution_count": null,
      "metadata": {
        "id": "Qd0Fu1rLjhQj"
      },
      "outputs": [],
      "source": [
        "for i in range(# Complete the code):\n",
        "    for j in range(# Complete the code):\n",
        "        print (f'({i}, {j})', end=' ')\n",
        "    print()"
      ]
    },
    {
      "cell_type": "markdown",
      "metadata": {
        "id": "fGfu0eDxjhQj"
      },
      "source": [
        "#### <p style=\"font-family: Arial; font-size:1.4em; background-color: yellow; color:black;\"> Problem #8.2  </p>\n",
        "#### Complete the code in the nested for loop to print the result below\n",
        "```\n",
        "(0, 0) (0, 1) (0, 2) (0, 3)\n",
        "(1, 0) (1, 1) (1, 2) (1, 3)\n",
        "(2, 0) (2, 1) (2, 2) (2, 3)\n",
        "```\n"
      ]
    },
    {
      "cell_type": "code",
      "execution_count": null,
      "metadata": {
        "id": "E7XAf_7pjhQk"
      },
      "outputs": [],
      "source": [
        "for i in range(# Complete the code):\n",
        "    for j in range(# Complete the code):\n",
        "        print (f'({i}, {j})', end=' ')\n",
        "    print()"
      ]
    },
    {
      "cell_type": "markdown",
      "metadata": {
        "id": "Um6IdezwjhQk"
      },
      "source": [
        "#### <p style=\"font-family: Arial; font-size:1.4em; background-color: yellow; color:black;\"> Problem #8.3  </p>\n",
        "#### Expect the output result before executing the code cell  \n",
        "```\n",
        "Explain the result. why?\n",
        "```\n"
      ]
    },
    {
      "cell_type": "code",
      "execution_count": null,
      "metadata": {
        "id": "lxuoSDDyjhQk",
        "outputId": "6236770e-9cb2-4980-caef-fcc5b2204547"
      },
      "outputs": [
        {
          "name": "stdout",
          "output_type": "stream",
          "text": [
            "(9,0) (9,1) (9,2) \n",
            "(8,0) (8,1) (8,2) \n",
            "(7,0) (7,1) (7,2) \n"
          ]
        }
      ],
      "source": [
        "for i in range(9,6,-1):\n",
        "\tfor j in range(3):\n",
        "\t\tprint (f'({i},{j})', end=' ')\n",
        "\tprint ()"
      ]
    },
    {
      "cell_type": "markdown",
      "metadata": {
        "id": "taP81uaZjhQk"
      },
      "source": [
        "#### Your answer:\n",
        "#### What is the output? Why?\n",
        "***"
      ]
    },
    {
      "cell_type": "code",
      "execution_count": null,
      "metadata": {
        "id": "Hrr8XENVjhQk"
      },
      "outputs": [],
      "source": [
        "for i in range(5):\n",
        "\tfor j in range(i, 5):\n",
        "\t\tprint (f'({i},{j})', end=' ')\n",
        "\tprint()"
      ]
    },
    {
      "cell_type": "markdown",
      "metadata": {
        "id": "r0fM05sYjhQk"
      },
      "source": [
        "#### Your answer:\n",
        "#### What is the output? Why?\n",
        "***"
      ]
    },
    {
      "cell_type": "code",
      "execution_count": null,
      "metadata": {
        "id": "blV4wGbEjhQk"
      },
      "outputs": [],
      "source": [
        "for i in range(3):\n",
        "\tfor j in range(i,3):\n",
        "\t\tprint (f'({i},{j})', end=' ')\n",
        "\tprint ( )"
      ]
    },
    {
      "cell_type": "markdown",
      "metadata": {
        "id": "bMSgajxvjhQl"
      },
      "source": [
        "#### Your answer:\n",
        "#### What is the output? Why?\n",
        "***"
      ]
    },
    {
      "cell_type": "code",
      "execution_count": null,
      "metadata": {
        "id": "JjdyctxbjhQl"
      },
      "outputs": [],
      "source": [
        "for i in range(5):\n",
        "\tfor j in range(0, i):\n",
        "\t\tprint (f'({i},{j})', end=' ')\n",
        "\tprint ( )"
      ]
    }
  ],
  "metadata": {
    "interpreter": {
      "hash": "a614fddea9d37e019a720cc724ab725ff28be4e0e64e91a691a8738e1909110d"
    },
    "kernelspec": {
      "display_name": "Python 3.9.7 64-bit ('base': conda)",
      "language": "python",
      "name": "python3"
    },
    "language_info": {
      "codemirror_mode": {
        "name": "ipython",
        "version": 3
      },
      "file_extension": ".py",
      "mimetype": "text/x-python",
      "name": "python",
      "nbconvert_exporter": "python",
      "pygments_lexer": "ipython3",
      "version": "3.9.17"
    },
    "orig_nbformat": 4,
    "colab": {
      "provenance": []
    }
  },
  "nbformat": 4,
  "nbformat_minor": 0
}