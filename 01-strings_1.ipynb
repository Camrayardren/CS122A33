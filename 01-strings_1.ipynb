{
  "cells": [
    {
      "cell_type": "markdown",
      "id": "06c205c1",
      "metadata": {
        "id": "06c205c1"
      },
      "source": [
        "# Strings"
      ]
    },
    {
      "cell_type": "markdown",
      "id": "e0d3aa0b",
      "metadata": {
        "id": "e0d3aa0b"
      },
      "source": [
        "### Basics"
      ]
    },
    {
      "cell_type": "code",
      "execution_count": 1,
      "id": "23e42c11",
      "metadata": {
        "id": "23e42c11",
        "outputId": "ae47971e-c4c4-4326-c8d9-46b14d92fe67",
        "colab": {
          "base_uri": "https://localhost:8080/",
          "height": 35
        }
      },
      "outputs": [
        {
          "output_type": "execute_result",
          "data": {
            "text/plain": [
              "'this is a string that is also a sentence'"
            ],
            "application/vnd.google.colaboratory.intrinsic+json": {
              "type": "string"
            }
          },
          "metadata": {},
          "execution_count": 1
        }
      ],
      "source": [
        "\"this is a string that is also a sentence\""
      ]
    },
    {
      "cell_type": "code",
      "execution_count": 2,
      "id": "261d484e",
      "metadata": {
        "id": "261d484e",
        "outputId": "b9ec4673-ebae-4de9-d8a7-9dc0f775f003",
        "colab": {
          "base_uri": "https://localhost:8080/",
          "height": 35
        }
      },
      "outputs": [
        {
          "output_type": "execute_result",
          "data": {
            "text/plain": [
              "'this'"
            ],
            "application/vnd.google.colaboratory.intrinsic+json": {
              "type": "string"
            }
          },
          "metadata": {},
          "execution_count": 2
        }
      ],
      "source": [
        "'this'"
      ]
    },
    {
      "cell_type": "code",
      "execution_count": 3,
      "id": "672389e3",
      "metadata": {
        "id": "672389e3",
        "outputId": "ad2b925a-308e-4e03-9d49-378952ebd29b",
        "colab": {
          "base_uri": "https://localhost:8080/",
          "height": 35
        }
      },
      "outputs": [
        {
          "output_type": "execute_result",
          "data": {
            "text/plain": [
              "'t'"
            ],
            "application/vnd.google.colaboratory.intrinsic+json": {
              "type": "string"
            }
          },
          "metadata": {},
          "execution_count": 3
        }
      ],
      "source": [
        "'t'"
      ]
    },
    {
      "cell_type": "code",
      "execution_count": 4,
      "id": "0c983215",
      "metadata": {
        "id": "0c983215",
        "outputId": "eb94ed18-3fba-4c71-ce38-81e1e5a12037",
        "colab": {
          "base_uri": "https://localhost:8080/",
          "height": 35
        }
      },
      "outputs": [
        {
          "output_type": "execute_result",
          "data": {
            "text/plain": [
              "'598798234792'"
            ],
            "application/vnd.google.colaboratory.intrinsic+json": {
              "type": "string"
            }
          },
          "metadata": {},
          "execution_count": 4
        }
      ],
      "source": [
        "'598798234792'"
      ]
    },
    {
      "cell_type": "code",
      "execution_count": 5,
      "id": "2f51e8fe",
      "metadata": {
        "id": "2f51e8fe",
        "outputId": "40b1fea9-7b94-4cda-a2a1-b0681c2e762e",
        "colab": {
          "base_uri": "https://localhost:8080/",
          "height": 35
        }
      },
      "outputs": [
        {
          "output_type": "execute_result",
          "data": {
            "text/plain": [
              "'this is a string too '"
            ],
            "application/vnd.google.colaboratory.intrinsic+json": {
              "type": "string"
            }
          },
          "metadata": {},
          "execution_count": 5
        }
      ],
      "source": [
        "'this is a string too '"
      ]
    },
    {
      "cell_type": "code",
      "execution_count": 6,
      "id": "6ede7d68",
      "metadata": {
        "id": "6ede7d68",
        "outputId": "5bc267f5-fd30-4067-f27d-efbe4e2cab34",
        "colab": {
          "base_uri": "https://localhost:8080/",
          "height": 35
        }
      },
      "outputs": [
        {
          "output_type": "execute_result",
          "data": {
            "text/plain": [
              "'\\nput \\nthings\\non \\nmultiple \\nlines\\n'"
            ],
            "application/vnd.google.colaboratory.intrinsic+json": {
              "type": "string"
            }
          },
          "metadata": {},
          "execution_count": 6
        }
      ],
      "source": [
        "\"\"\"\n",
        "put\n",
        "things\n",
        "on\n",
        "multiple\n",
        "lines\n",
        "\"\"\""
      ]
    },
    {
      "cell_type": "markdown",
      "id": "4919b581",
      "metadata": {
        "id": "4919b581"
      },
      "source": [
        "### `print`"
      ]
    },
    {
      "cell_type": "code",
      "execution_count": 7,
      "id": "c5dac2b9",
      "metadata": {
        "id": "c5dac2b9",
        "outputId": "65c7b77a-06b3-4ef8-c91f-fc7680efad84",
        "colab": {
          "base_uri": "https://localhost:8080/",
          "height": 35
        }
      },
      "outputs": [
        {
          "output_type": "execute_result",
          "data": {
            "text/plain": [
              "'string 3'"
            ],
            "application/vnd.google.colaboratory.intrinsic+json": {
              "type": "string"
            }
          },
          "metadata": {},
          "execution_count": 7
        }
      ],
      "source": [
        "'string 1'\n",
        "'string 2'\n",
        "'string 3'"
      ]
    },
    {
      "cell_type": "code",
      "execution_count": 8,
      "id": "2946f0e0",
      "metadata": {
        "id": "2946f0e0",
        "outputId": "48e6314c-eb48-4a98-ae80-57390fd282d9",
        "colab": {
          "base_uri": "https://localhost:8080/"
        }
      },
      "outputs": [
        {
          "output_type": "stream",
          "name": "stdout",
          "text": [
            "string 1\n",
            "string 2\n",
            "string 3\n"
          ]
        }
      ],
      "source": [
        "print('string 1')\n",
        "print('string 2')\n",
        "print('string 3')"
      ]
    },
    {
      "cell_type": "markdown",
      "id": "c0198a7e",
      "metadata": {
        "id": "c0198a7e"
      },
      "source": [
        "### Variables"
      ]
    },
    {
      "cell_type": "code",
      "execution_count": 9,
      "id": "ac4b23cf",
      "metadata": {
        "id": "ac4b23cf"
      },
      "outputs": [],
      "source": [
        "word = \"Microphone\""
      ]
    },
    {
      "cell_type": "code",
      "execution_count": 10,
      "id": "d6620c3a",
      "metadata": {
        "id": "d6620c3a"
      },
      "outputs": [],
      "source": [
        "word = \"Camera\""
      ]
    },
    {
      "cell_type": "code",
      "execution_count": 11,
      "id": "6a4bcd48",
      "metadata": {
        "id": "6a4bcd48",
        "outputId": "995c0a7a-87b1-4538-a0f9-a8224d97ad46",
        "colab": {
          "base_uri": "https://localhost:8080/",
          "height": 35
        }
      },
      "outputs": [
        {
          "output_type": "execute_result",
          "data": {
            "text/plain": [
              "'Camera'"
            ],
            "application/vnd.google.colaboratory.intrinsic+json": {
              "type": "string"
            }
          },
          "metadata": {},
          "execution_count": 11
        }
      ],
      "source": [
        "word"
      ]
    },
    {
      "cell_type": "code",
      "execution_count": 12,
      "id": "ddeb51eb",
      "metadata": {
        "id": "ddeb51eb"
      },
      "outputs": [],
      "source": [
        "in_snake_case = \"this is another variable\""
      ]
    },
    {
      "cell_type": "code",
      "execution_count": 13,
      "id": "9bfc010e",
      "metadata": {
        "id": "9bfc010e"
      },
      "outputs": [],
      "source": [
        "camelCase = 'Do as the romans do... so don\\'t write camel case'"
      ]
    },
    {
      "cell_type": "markdown",
      "id": "438e30bf",
      "metadata": {
        "id": "438e30bf"
      },
      "source": [
        "### Interpolation"
      ]
    },
    {
      "cell_type": "code",
      "execution_count": 14,
      "id": "1bccb4a6",
      "metadata": {
        "id": "1bccb4a6"
      },
      "outputs": [],
      "source": [
        "word = \"Microphone\""
      ]
    },
    {
      "cell_type": "code",
      "execution_count": 15,
      "id": "cca00969",
      "metadata": {
        "id": "cca00969",
        "outputId": "8159a585-4a2f-40ce-d641-4f39412b6aeb",
        "colab": {
          "base_uri": "https://localhost:8080/",
          "height": 35
        }
      },
      "outputs": [
        {
          "output_type": "execute_result",
          "data": {
            "text/plain": [
              "'My word is: Microphone'"
            ],
            "application/vnd.google.colaboratory.intrinsic+json": {
              "type": "string"
            }
          },
          "metadata": {},
          "execution_count": 15
        }
      ],
      "source": [
        "f\"My word is: {word}\""
      ]
    },
    {
      "cell_type": "code",
      "execution_count": 16,
      "id": "adef6d40",
      "metadata": {
        "id": "adef6d40"
      },
      "outputs": [],
      "source": [
        "my_name = \"Max\""
      ]
    },
    {
      "cell_type": "code",
      "execution_count": 17,
      "id": "e8551755",
      "metadata": {
        "id": "e8551755",
        "outputId": "2d71018f-21dc-4599-e080-3930974bc112",
        "colab": {
          "base_uri": "https://localhost:8080/",
          "height": 35
        }
      },
      "outputs": [
        {
          "output_type": "execute_result",
          "data": {
            "text/plain": [
              "'Hi my name is Max'"
            ],
            "application/vnd.google.colaboratory.intrinsic+json": {
              "type": "string"
            }
          },
          "metadata": {},
          "execution_count": 17
        }
      ],
      "source": [
        "f\"Hi my name is {my_name}\""
      ]
    },
    {
      "cell_type": "code",
      "execution_count": 18,
      "id": "0a1f7ebb",
      "metadata": {
        "id": "0a1f7ebb",
        "outputId": "4464ed6c-1913-4824-be2d-968c10e99115",
        "colab": {
          "base_uri": "https://localhost:8080/",
          "height": 35
        }
      },
      "outputs": [
        {
          "output_type": "execute_result",
          "data": {
            "text/plain": [
              "'Hi, my name is Max, my favourite colour is ⬛️, and I live in 🇨🇦'"
            ],
            "application/vnd.google.colaboratory.intrinsic+json": {
              "type": "string"
            }
          },
          "metadata": {},
          "execution_count": 18
        }
      ],
      "source": [
        "name = \"Max\"\n",
        "colour = \"⬛️\"\n",
        "country = \"🇨🇦\"\n",
        "\n",
        "f\"Hi, my name is {name}, my favourite colour is {colour}, and I live in {country}\""
      ]
    },
    {
      "cell_type": "markdown",
      "id": "5555b83a",
      "metadata": {
        "id": "5555b83a"
      },
      "source": [
        "### Challenge\n",
        "\n",
        "<div class='alert alert-info'>\n",
        "  🎒\n",
        "  Code a \"story\" about your name, age, and favourite TV show\n",
        "</div>\n",
        "<br/>\n",
        "<details>\n",
        "<summary><u>Solution</u></summary>\n",
        "    \n",
        "```python\n",
        "my_name = \"Maggie\"\n",
        "my_age = \"∞\"\n",
        "my_TV = \"The Afterparty\"\n",
        "print(f\"Hi, I'm {my_name}, I'm {my_age} years-old, and I love \\\"{my_TV}\\\".\")\n",
        "```\n",
        "    \n",
        "> Hi, I'm Maggie, I'm ∞ years-old, and I love \"The Afterparty\".\n",
        "    \n",
        "<div class='alert alert-warning'>\n",
        "  ❌✍️ Just don't do this...\n",
        "</div>\n",
        "   \n",
        "```python\n",
        "myName = \"pleaseDont\"\n",
        "myAge = \"thisIsCalledCamelCase\"\n",
        "myTV = \"python_uses_snake_case_99%_of_the_time\"\n",
        "```\n",
        "    \n",
        "</details>"
      ]
    },
    {
      "cell_type": "code",
      "execution_count": 19,
      "id": "c930248a",
      "metadata": {
        "id": "c930248a",
        "outputId": "eb819fe2-672b-4661-fa49-0d45c9e81229",
        "colab": {
          "base_uri": "https://localhost:8080/"
        }
      },
      "outputs": [
        {
          "output_type": "stream",
          "name": "stdout",
          "text": [
            "Hi, I'm Maggie, I'm ∞ years-old, and I love \"The Afterparty\".\n"
          ]
        }
      ],
      "source": [
        "my_name = \"Maggie\"\n",
        "my_age = \"∞\"\n",
        "my_TV = \"The Afterparty\"\n",
        "print(f\"Hi, I'm {my_name}, I'm {my_age} years-old, and I love \\\"{my_TV}\\\".\")"
      ]
    },
    {
      "cell_type": "markdown",
      "id": "99839e84",
      "metadata": {
        "id": "99839e84"
      },
      "source": [
        "### String Methods"
      ]
    },
    {
      "cell_type": "code",
      "execution_count": 20,
      "id": "e9a9c84a",
      "metadata": {
        "id": "e9a9c84a",
        "outputId": "9a760a6b-e755-47c2-e9f8-7680586eb096",
        "colab": {
          "base_uri": "https://localhost:8080/"
        }
      },
      "outputs": [
        {
          "output_type": "execute_result",
          "data": {
            "text/plain": [
              "str"
            ]
          },
          "metadata": {},
          "execution_count": 20
        }
      ],
      "source": [
        "name\n",
        "type(name)"
      ]
    },
    {
      "cell_type": "code",
      "execution_count": 21,
      "id": "afac2c90",
      "metadata": {
        "id": "afac2c90",
        "outputId": "c9b2dc3d-2b1c-448b-f350-b2cb7da67d79",
        "colab": {
          "base_uri": "https://localhost:8080/"
        }
      },
      "outputs": [
        {
          "output_type": "execute_result",
          "data": {
            "text/plain": [
              "['__add__',\n",
              " '__class__',\n",
              " '__contains__',\n",
              " '__delattr__',\n",
              " '__dir__',\n",
              " '__doc__',\n",
              " '__eq__',\n",
              " '__format__',\n",
              " '__ge__',\n",
              " '__getattribute__',\n",
              " '__getitem__',\n",
              " '__getnewargs__',\n",
              " '__getstate__',\n",
              " '__gt__',\n",
              " '__hash__',\n",
              " '__init__',\n",
              " '__init_subclass__',\n",
              " '__iter__',\n",
              " '__le__',\n",
              " '__len__',\n",
              " '__lt__',\n",
              " '__mod__',\n",
              " '__mul__',\n",
              " '__ne__',\n",
              " '__new__',\n",
              " '__reduce__',\n",
              " '__reduce_ex__',\n",
              " '__repr__',\n",
              " '__rmod__',\n",
              " '__rmul__',\n",
              " '__setattr__',\n",
              " '__sizeof__',\n",
              " '__str__',\n",
              " '__subclasshook__',\n",
              " 'capitalize',\n",
              " 'casefold',\n",
              " 'center',\n",
              " 'count',\n",
              " 'encode',\n",
              " 'endswith',\n",
              " 'expandtabs',\n",
              " 'find',\n",
              " 'format',\n",
              " 'format_map',\n",
              " 'index',\n",
              " 'isalnum',\n",
              " 'isalpha',\n",
              " 'isascii',\n",
              " 'isdecimal',\n",
              " 'isdigit',\n",
              " 'isidentifier',\n",
              " 'islower',\n",
              " 'isnumeric',\n",
              " 'isprintable',\n",
              " 'isspace',\n",
              " 'istitle',\n",
              " 'isupper',\n",
              " 'join',\n",
              " 'ljust',\n",
              " 'lower',\n",
              " 'lstrip',\n",
              " 'maketrans',\n",
              " 'partition',\n",
              " 'removeprefix',\n",
              " 'removesuffix',\n",
              " 'replace',\n",
              " 'rfind',\n",
              " 'rindex',\n",
              " 'rjust',\n",
              " 'rpartition',\n",
              " 'rsplit',\n",
              " 'rstrip',\n",
              " 'split',\n",
              " 'splitlines',\n",
              " 'startswith',\n",
              " 'strip',\n",
              " 'swapcase',\n",
              " 'title',\n",
              " 'translate',\n",
              " 'upper',\n",
              " 'zfill']"
            ]
          },
          "metadata": {},
          "execution_count": 21
        }
      ],
      "source": [
        "dir(name)"
      ]
    },
    {
      "cell_type": "markdown",
      "id": "1b7d13e9",
      "metadata": {
        "id": "1b7d13e9"
      },
      "source": [
        "<div class='alert alert-success'>\n",
        "  🔬🧵 Don't get overwhelmed, just look at a couple\n",
        "</div>"
      ]
    },
    {
      "cell_type": "markdown",
      "id": "d031efdf",
      "metadata": {
        "id": "d031efdf"
      },
      "source": [
        "- `.upper`\n",
        "- `.lower`\n",
        "- `.strip`\n",
        "- `.endswith`\n",
        "- `.startswith`"
      ]
    },
    {
      "cell_type": "code",
      "execution_count": 22,
      "id": "dec098a5",
      "metadata": {
        "id": "dec098a5",
        "outputId": "5f9ae04c-be61-40a2-e051-20d5a2f69a2b",
        "colab": {
          "base_uri": "https://localhost:8080/",
          "height": 35
        }
      },
      "outputs": [
        {
          "output_type": "execute_result",
          "data": {
            "text/plain": [
              "'Max Humber'"
            ],
            "application/vnd.google.colaboratory.intrinsic+json": {
              "type": "string"
            }
          },
          "metadata": {},
          "execution_count": 22
        }
      ],
      "source": [
        "full_name = \"max humber\"\n",
        "full_name.title()"
      ]
    },
    {
      "cell_type": "code",
      "execution_count": 23,
      "id": "1a46de84",
      "metadata": {
        "id": "1a46de84",
        "outputId": "13e04c93-14d9-4893-e57f-33249a78a8f1",
        "colab": {
          "base_uri": "https://localhost:8080/",
          "height": 35
        }
      },
      "outputs": [
        {
          "output_type": "execute_result",
          "data": {
            "text/plain": [
              "'salkjhk;djhflkawehflksdhflfkjds'"
            ],
            "application/vnd.google.colaboratory.intrinsic+json": {
              "type": "string"
            }
          },
          "metadata": {},
          "execution_count": 23
        }
      ],
      "source": [
        "\"SALKJHK;DJHFLKAWEHFLKSDHFLFKJDS\".lower()"
      ]
    },
    {
      "cell_type": "code",
      "execution_count": 24,
      "id": "c3407dfb",
      "metadata": {
        "id": "c3407dfb",
        "outputId": "cd584693-51af-437e-bff4-59260e5cbb29",
        "colab": {
          "base_uri": "https://localhost:8080/",
          "height": 35
        }
      },
      "outputs": [
        {
          "output_type": "execute_result",
          "data": {
            "text/plain": [
              "\"Lot's of padding.\""
            ],
            "application/vnd.google.colaboratory.intrinsic+json": {
              "type": "string"
            }
          },
          "metadata": {},
          "execution_count": 24
        }
      ],
      "source": [
        "\"       Lot's of padding.       \".strip()"
      ]
    },
    {
      "cell_type": "code",
      "execution_count": 25,
      "id": "8978878e",
      "metadata": {
        "id": "8978878e",
        "outputId": "f08511d1-d6d9-4539-d535-5b80ba43ff24",
        "colab": {
          "base_uri": "https://localhost:8080/"
        }
      },
      "outputs": [
        {
          "output_type": "execute_result",
          "data": {
            "text/plain": [
              "False"
            ]
          },
          "metadata": {},
          "execution_count": 25
        }
      ],
      "source": [
        "\"song_243.mp3\".endswith(\".flac\")"
      ]
    },
    {
      "cell_type": "markdown",
      "id": "5767bd7f",
      "metadata": {
        "id": "5767bd7f"
      },
      "source": [
        "### `in`"
      ]
    },
    {
      "cell_type": "code",
      "execution_count": 26,
      "id": "8e0e836b",
      "metadata": {
        "id": "8e0e836b",
        "outputId": "2e541331-1507-415f-d14d-00f035d9241e",
        "colab": {
          "base_uri": "https://localhost:8080/"
        }
      },
      "outputs": [
        {
          "output_type": "execute_result",
          "data": {
            "text/plain": [
              "True"
            ]
          },
          "metadata": {},
          "execution_count": 26
        }
      ],
      "source": [
        "\"good\" in \"good bye\""
      ]
    },
    {
      "cell_type": "code",
      "execution_count": 27,
      "id": "2b9be66a",
      "metadata": {
        "id": "2b9be66a",
        "outputId": "aa9ac797-2d2f-4794-9e42-87491a611e0f",
        "colab": {
          "base_uri": "https://localhost:8080/"
        }
      },
      "outputs": [
        {
          "output_type": "execute_result",
          "data": {
            "text/plain": [
              "True"
            ]
          },
          "metadata": {},
          "execution_count": 27
        }
      ],
      "source": [
        "\"Good\".lower() in \"good bye\""
      ]
    },
    {
      "cell_type": "markdown",
      "id": "7fc66329",
      "metadata": {
        "id": "7fc66329"
      },
      "source": [
        "### Homework\n",
        "\n",
        "<div class='alert alert-info'>\n",
        "  🎒 Replace all of the punctuation in the following quotes\n",
        "</div>"
      ]
    },
    {
      "cell_type": "code",
      "execution_count": 38,
      "id": "fba54188",
      "metadata": {
        "id": "fba54188"
      },
      "outputs": [],
      "source": [
        "quote_1 = (\"Oh I gotta get on that internet Im late on everythin\")"
      ]
    },
    {
      "cell_type": "code",
      "execution_count": 29,
      "id": "38f75559",
      "metadata": {
        "id": "38f75559"
      },
      "outputs": [],
      "source": [
        "quote_1 = quote_1.lower().replace(\",\", \"\").replace(\"!\", \"\").replace(\"'\", \"\")"
      ]
    },
    {
      "cell_type": "code",
      "execution_count": 37,
      "id": "e1255930",
      "metadata": {
        "id": "e1255930"
      },
      "outputs": [],
      "source": [
        "quote_2 = (\"Whats the deal with lampshades I mean if its a lamp why do you want shade\")"
      ]
    },
    {
      "cell_type": "code",
      "execution_count": 31,
      "id": "346eb19c",
      "metadata": {
        "id": "346eb19c",
        "outputId": "6aa29fd2-ec04-4029-fc01-26e178080a5b",
        "colab": {
          "base_uri": "https://localhost:8080/",
          "height": 35
        }
      },
      "outputs": [
        {
          "output_type": "execute_result",
          "data": {
            "text/plain": [
              "'whats the deal with lampshades i mean if its a lamp why do you want shade'"
            ],
            "application/vnd.google.colaboratory.intrinsic+json": {
              "type": "string"
            }
          },
          "metadata": {},
          "execution_count": 31
        }
      ],
      "source": [
        "quote_2.replace(\"?\", \"\").replace(\"’\", \"\").replace(\",\", \"\").lower()"
      ]
    }
  ],
  "metadata": {
    "kernelspec": {
      "display_name": "anaconda-2024.02-py310",
      "language": "python",
      "name": "conda-env-anaconda-2024.02-py310-py"
    },
    "language_info": {
      "codemirror_mode": {
        "name": "ipython",
        "version": 3
      },
      "file_extension": ".py",
      "mimetype": "text/x-python",
      "name": "python",
      "nbconvert_exporter": "python",
      "pygments_lexer": "ipython3",
      "version": "3.10.4"
    },
    "colab": {
      "provenance": []
    }
  },
  "nbformat": 4,
  "nbformat_minor": 5
}