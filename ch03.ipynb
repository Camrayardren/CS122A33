{
  "cells": [
    {
      "cell_type": "markdown",
      "metadata": {
        "id": "CzWqCfQRFJH-"
      },
      "source": [
        "# <p style=\"font-family: Arial; font-size:1.4em;color:red;\"> Chapter 3. Decision Structures and Boolean Logic </p>\n",
        "<li> 3.1 The if Statement </li>\n",
        "<li> 3.2 The if-else Statement </li>\n",
        "<li> 3.3 Comparing Strings </li>\n",
        "<li> 3.4 Nested Decision Structures and the if-elif-else Statement </li>\n",
        "<li> 3.5 Logical Operators </li>\n",
        "<li> 3.6 Boolean Variables </li>"
      ]
    },
    {
      "cell_type": "markdown",
      "metadata": {
        "id": "9ckPXj-TFJIA"
      },
      "source": [
        "***\n",
        "# <p style=\"font-family: Arial; font-size:1.4em;color:red;\"> 1. Basic If statement </p>"
      ]
    },
    {
      "cell_type": "markdown",
      "metadata": {
        "id": "kw-Tz4mnFJIB"
      },
      "source": [
        "\n",
        "### <a href=\"https://docs.python.org/3/reference/compound_stmts.html#the-if-statement\"> Python Document\n",
        "<img src =\"https://p76.f0.n0.cdn.getcloudapp.com/items/RBuymyQx/5b9e398d-9339-47e9-b7cc-3de7e83dee6f.jpg?v=b1c31360e564f178e39a3d7373b6979b\"> </a>"
      ]
    },
    {
      "cell_type": "markdown",
      "metadata": {
        "id": "_7FbqHfdFJIB"
      },
      "source": [
        "### Boolean Expression and Relational Operators\n",
        "\n",
        "<img src=\"https://p76.f0.n0.cdn.getcloudapp.com/items/YEuBkB7B/d8fe2712-76cc-4478-bd79-7c9b8d8f5b4d.jpg?v=b1eec79ab236a39691d7f4df6a371842\">"
      ]
    },
    {
      "cell_type": "markdown",
      "metadata": {
        "id": "Evb6Wb0GFJIB"
      },
      "source": [
        "#### <p style=\"font-family: Arial; font-size:1.4em; background-color: yellow; color:black;\"> Problem #1.0 </p>\n",
        "Run the below code cell and figure out the basic usage of if-statement\n",
        "<br>\n"
      ]
    },
    {
      "cell_type": "code",
      "execution_count": 3,
      "metadata": {
        "id": "d7DcFagoFJIB",
        "outputId": "baec8466-dfb3-459a-c0fc-9c3c13b1151f",
        "colab": {
          "base_uri": "https://localhost:8080/"
        }
      },
      "outputs": [
        {
          "name": "stdout",
          "output_type": "stream",
          "text": [
            "Enter the number-3\n"
          ]
        }
      ],
      "source": [
        "number = int(input('Enter the number'))\n",
        "\n",
        "if number > 0:\n",
        "    print (f'The number {number} is greater than 0')"
      ]
    },
    {
      "cell_type": "code",
      "execution_count": 4,
      "metadata": {
        "id": "xHv5tzeSFJIC",
        "outputId": "382713be-18a5-4706-e59b-1770b474a1cf",
        "colab": {
          "base_uri": "https://localhost:8080/"
        }
      },
      "outputs": [
        {
          "output_type": "stream",
          "name": "stdout",
          "text": [
            "The number -3 is less than 0\n"
          ]
        }
      ],
      "source": [
        "if number < 0:\n",
        "    print (f'The number {number} is less than 0')"
      ]
    },
    {
      "cell_type": "code",
      "execution_count": 5,
      "metadata": {
        "id": "qQ9jDjtOFJIC",
        "outputId": "30bfb45e-4866-4999-8f61-c116e8ec86e3",
        "colab": {
          "base_uri": "https://localhost:8080/"
        }
      },
      "outputs": [
        {
          "output_type": "stream",
          "name": "stdout",
          "text": [
            "Enter your score10\n",
            " The score  10 is less than or equal to 90\n"
          ]
        }
      ],
      "source": [
        "x = input(\"Enter your score\")\n",
        "\n",
        "if int(x) > 90:\n",
        "\tprint (\"The score \", x ,  \" is great than 90\")\n",
        "else:\n",
        "\tprint (\" The score \", x,  \"is less than or equal to 90\")\n"
      ]
    },
    {
      "cell_type": "code",
      "execution_count": 7,
      "metadata": {
        "id": "ZSTnCQ15FJID",
        "outputId": "1a8c0e3d-9585-4998-c838-cdb0b7735ce0",
        "colab": {
          "base_uri": "https://localhost:8080/"
        }
      },
      "outputs": [
        {
          "output_type": "stream",
          "name": "stdout",
          "text": [
            "Enter your score75\n",
            "The grade : C\n"
          ]
        }
      ],
      "source": [
        "score = int(input('Enter your score'))\n",
        "if score > 90:\n",
        "\tprint (\"The grade : A\")\n",
        "else:\n",
        "\tif score > 80 :   # (score < 90 ) and ( score >80)\n",
        "\t\tprint (\"The grade : B\")\n",
        "\telif score > 70:   # (score < 80 ) and ( score >70)\n",
        "\t\tprint (\"The grade : C\")\n"
      ]
    },
    {
      "cell_type": "markdown",
      "metadata": {
        "id": "pGZ8thLWFJID"
      },
      "source": [
        "#### <p style=\"font-family: Arial; font-size:1.4em; background-color: yellow; color:black;\"> Problem #1.1 </p>\n",
        "1. Input a number\n",
        "2. Decide whether it is even or odd number\n",
        "3. Print the result ( Even or Odd)\n",
        "<br>\n"
      ]
    },
    {
      "cell_type": "code",
      "execution_count": 10,
      "metadata": {
        "id": "edxJ9jx1FJID",
        "outputId": "57932eb7-c144-4922-e9dc-804f100f3995",
        "colab": {
          "base_uri": "https://localhost:8080/"
        }
      },
      "outputs": [
        {
          "output_type": "stream",
          "name": "stdout",
          "text": [
            "Enter a number24\n",
            "The number 24 is even number\n"
          ]
        }
      ],
      "source": [
        "number = int(input('Enter a number'))\n",
        "if number % 2 == 0:\n",
        "    print (f'The number {number} is even number')\n",
        "else:\n",
        "    print (f'The number {number} is odd number')"
      ]
    },
    {
      "cell_type": "markdown",
      "metadata": {
        "id": "TSdjLsrAFJID"
      },
      "source": [
        "#### <p style=\"font-family: Arial; font-size:1.4em; background-color: yellow; color:black;\"> Problem #1.2 </p>\n",
        "1. Input a number\n",
        "2. Decide whether a number is less than or equal to 100\n",
        "3. Print the result ( number is less than or equal to 100 or not)\n",
        "<br>\n"
      ]
    },
    {
      "cell_type": "code",
      "execution_count": 11,
      "metadata": {
        "id": "kCYPDSHvFJID",
        "outputId": "c662ae4c-9007-4f6c-891c-bd0dc8b4ca74",
        "colab": {
          "base_uri": "https://localhost:8080/"
        }
      },
      "outputs": [
        {
          "output_type": "stream",
          "name": "stdout",
          "text": [
            "Enter a number101\n",
            "the number 101 is more than a 100\n"
          ]
        }
      ],
      "source": [
        "number = int(input('Enter a number'))\n",
        "if number <= 100:\n",
        "    print (f'the number {number} is equl to or less tgan 100')\n",
        "else:\n",
        "    print (f'the number {number} is more than a 100')\n",
        "# Complete the code"
      ]
    },
    {
      "cell_type": "markdown",
      "metadata": {
        "id": "AlpjdpEpFJID"
      },
      "source": [
        "#### <p style=\"font-family: Arial; font-size:1.4em; background-color: yellow; color:black;\"> Problem #1.3 </p>\n",
        "1. Input a first name\n",
        "2. Decide whether the name starts with 'A'\n",
        "3. Print the result ( True or False )\n",
        "<br>\n"
      ]
    },
    {
      "cell_type": "code",
      "execution_count": 18,
      "metadata": {
        "id": "u28PPbz0FJIE",
        "outputId": "604169d3-566d-476f-ad81-6800e62622d7",
        "colab": {
          "base_uri": "https://localhost:8080/"
        }
      },
      "outputs": [
        {
          "output_type": "stream",
          "name": "stdout",
          "text": [
            "Enter a namecamren\n",
            "the name camren doesnt start with A\n"
          ]
        }
      ],
      "source": [
        "name = input('Enter a name')\n",
        "if name[0] == 'A':\n",
        "    print (f'the name {name} starts with A')\n",
        "else:\n",
        "    print (f'the name {name} doesnt start with A')\n",
        "\n",
        ""
      ]
    },
    {
      "cell_type": "markdown",
      "metadata": {
        "id": "rJOmmAnnFJIE"
      },
      "source": [
        "#### <p style=\"font-family: Arial; font-size:1.4em; background-color: yellow; color:black;\"> Problem #1.4 </p>\n",
        "1. Set two floating number values to the variables, like\n",
        "> val1 = 12.34; val2 = 12.34000000000000001\n",
        "2. Decide whether two values are same\n",
        "3. Print the result ( True or False )\n",
        "<br>\n"
      ]
    },
    {
      "cell_type": "code",
      "execution_count": 19,
      "metadata": {
        "id": "GXpo8QOKFJIE",
        "outputId": "6064cb94-8e7f-47cb-aa58-734e669f9122",
        "colab": {
          "base_uri": "https://localhost:8080/"
        }
      },
      "outputs": [
        {
          "output_type": "stream",
          "name": "stdout",
          "text": [
            "Two value are same\n"
          ]
        }
      ],
      "source": [
        "val1 = 12.34; val2 = 12.340000000000000001\n",
        "\n",
        "if val1 == val2:\n",
        "    print ('Two value are same')"
      ]
    },
    {
      "cell_type": "code",
      "execution_count": 20,
      "metadata": {
        "id": "6z3e_2aKFJIE"
      },
      "outputs": [],
      "source": [
        "val1 = 12.34; val2 = 12.340000000001\n",
        "\n",
        "if val1 == val2:\n",
        "    print ('Two value are same')"
      ]
    },
    {
      "cell_type": "markdown",
      "metadata": {
        "id": "V7orsbRoFJIE"
      },
      "source": [
        "#### <p style=\"font-family: Arial; font-size:1.4em; background-color: yellow; color:black;\"> Problem #1.5 </p>\n",
        "1. Input two string values\n",
        "> strval1 = input('Enter a word')\n",
        "> strval2 = input('Enter a word')\n",
        "2. Decide which input value is greater in alphabetical order\n",
        "3. Print the greater word  \n",
        "<br>\n"
      ]
    },
    {
      "cell_type": "code",
      "execution_count": 34,
      "metadata": {
        "id": "OONE4HNBFJIE",
        "outputId": "a9420413-f2ea-4995-eed9-291287684a72",
        "colab": {
          "base_uri": "https://localhost:8080/"
        }
      },
      "outputs": [
        {
          "output_type": "stream",
          "name": "stdout",
          "text": [
            "Enter a wordname\n",
            "Enter a wordgame\n",
            "strval1 {strval1} is greater than strval2 {strval2}\n"
          ]
        }
      ],
      "source": [
        "strval1 = input('Enter a word')\n",
        "strval2 = input('Enter a word')\n",
        "\n",
        "if strval1 < strval2:\n",
        "  print (f'strval2 {strcal2} is greater than strval1 {strval1}')\n",
        "else:\n",
        "  print ('strval1 {strval1} is greater than strval2 {strval2}')\n",
        "\n",
        "\n",
        "\n",
        "# complete the code"
      ]
    },
    {
      "cell_type": "markdown",
      "metadata": {
        "id": "iiQF-2NTFJIE"
      },
      "source": [
        "#### <p style=\"font-family: Arial; font-size:1.4em; background-color: yellow; color:black;\"> Problem #1.6 </p>\n",
        "1. Input two string values\n",
        "> strval1 = input('Enter a word')\n",
        "> strval2 = input('Enter a word')\n",
        "2. Determine which input value is longer in length.\n",
        "3. Print the longer word  \n",
        "<br>\n",
        "** Use the library <font color='red'> len( ) </font>\n"
      ]
    },
    {
      "cell_type": "code",
      "execution_count": 36,
      "metadata": {
        "id": "bckveBO6FJIE",
        "outputId": "95565d18-b3f8-438e-a977-aee614ab0aa5",
        "colab": {
          "base_uri": "https://localhost:8080/"
        }
      },
      "outputs": [
        {
          "output_type": "stream",
          "name": "stdout",
          "text": [
            "Enter a wordthey\n",
            "Enter a wordtheyre\n",
            "strval2 theyre is longer than strval1 they\n"
          ]
        }
      ],
      "source": [
        "strval1 = input('Enter a word')\n",
        "strval2 = input('Enter a word')\n",
        "\n",
        "if len(strval1) < len(strval2):\n",
        "  print (f'strval2 {strval2} is longer than strval1 {strval1}')\n",
        "else:\n",
        "  print (f'strval1 {strval1} is longer than strval2 {strval2}')\n",
        "\n",
        "# complete the code\n"
      ]
    },
    {
      "cell_type": "markdown",
      "metadata": {
        "id": "YLkzTOXgFJIE"
      },
      "source": [
        "## Don't forget to <font color='red'> **\"commit\"** </font> your work or <font color='red'> **\"save\"** </font> in Google Colab\n",
        "## before moving to the next section."
      ]
    },
    {
      "cell_type": "markdown",
      "metadata": {
        "id": "U9tdZXPQFJIE"
      },
      "source": [
        "***\n",
        "# <p style=\"font-family: Arial; font-size:1.4em;color:red;\"> 2. if-elif-else statement </p>"
      ]
    },
    {
      "cell_type": "markdown",
      "metadata": {
        "id": "Fy6q5G-6FJIF"
      },
      "source": [
        "<a href=\"https://docs.python.org/3/tutorial/controlflow.html#if-statements\"> <img src=\"https://p76.f0.n0.cdn.getcloudapp.com/items/4guZrZo9/7293141a-5f3f-44bc-9e97-4586b89a63dc.jpg?v=09b11b0fee8688bd799c1f90a09f723f\"> </a>"
      ]
    },
    {
      "cell_type": "markdown",
      "metadata": {
        "id": "x3ErkY0MFJIF"
      },
      "source": [
        "#### <p style=\"font-family: Arial; font-size:1.4em; background-color: yellow; color:black;\"> Problem #2.0 </p>\n",
        "Run the below code cell and figure out the basic usage of if-statement\n",
        "<br>\n"
      ]
    },
    {
      "cell_type": "code",
      "execution_count": null,
      "metadata": {
        "id": "iU2S6OPqFJIF"
      },
      "outputs": [],
      "source": [
        "# Take one user input\n",
        "# if it is even number, print\n",
        "# otherwise, do nothing\n",
        "\n",
        "score = int(input('Enter your score'))\n",
        "if score > 90:\n",
        "\tprint (\"The grade : A\")\n",
        "elif score > 80 :   # (score < 90 ) and ( score >80)\n",
        "\tprint (\"The grade : B\")\n",
        "elif score > 70:   # (score < 80 ) and ( score >70)\n",
        "\tprint (\"The grade : C\")\n"
      ]
    },
    {
      "cell_type": "code",
      "execution_count": null,
      "metadata": {
        "id": "eyi4rgLeFJIF"
      },
      "outputs": [],
      "source": [
        "x = int(input(\"Enter your score\"))\n",
        "\n",
        "if x > 90:\n",
        "\tprint (\"The score \", x ,  \" is great than 90\")\n",
        "elif x > 80:\n",
        "\tprint (\"The score \", x ,  \" is great than 80\")\n",
        "else:\n",
        "\tprint (\" The score \", x,  \"is less than or equal to 80\")\n"
      ]
    },
    {
      "cell_type": "markdown",
      "metadata": {
        "id": "tyiPjPMIFJIF"
      },
      "source": [
        "#### <p style=\"font-family: Arial; font-size:1.4em; background-color: yellow; color:black;\"> Problem #2.1 </p>\n",
        "1. Input a score\n",
        "2. Determine the grade base on the following policy\n",
        "- A if greater than 90\n",
        "- B if greater than 80 and less than or equal 90\n",
        "- C if greater than 70 and less than or equal 80\n",
        "- D if greater than 60 and less than or equal 70\n",
        "- F if less than 60\n",
        "3. Print the final grade\n",
        "<br>\n"
      ]
    },
    {
      "cell_type": "code",
      "execution_count": null,
      "metadata": {
        "id": "uEM3gePhFJIF"
      },
      "outputs": [],
      "source": [
        "score = int(input('Enter a score'))\n",
        "\n",
        "# complete the code\n"
      ]
    },
    {
      "cell_type": "markdown",
      "metadata": {
        "id": "T2F7hwnLFJIF"
      },
      "source": [
        "<br>\n",
        "#### <p style=\"font-family: Arial; font-size:1.4em; background-color: yellow; color:black;\"> Problem #2.2 </p>\n",
        "\n",
        "1. Input a number\n",
        "2. Decide whether it is even ,odd number or zero\n",
        "3. Print the result ( Even, Odd, or Zero)\n",
        "\n",
        "> Use the if-elif-else statement\n"
      ]
    },
    {
      "cell_type": "code",
      "execution_count": null,
      "metadata": {
        "id": "c1KN_RdYFJIF"
      },
      "outputs": [],
      "source": [
        "number = int(input('Enter a number'))\n",
        "\n",
        "# complete the code\n"
      ]
    },
    {
      "cell_type": "markdown",
      "metadata": {
        "id": "lKEgsFEVFJIF"
      },
      "source": [
        "#### <p style=\"font-family: Arial; font-size:1.4em; background-color: yellow; color:black;\"> Problem #2.3 </p>\n",
        "\n",
        "1. Input a number\n",
        "2. Decide whether it is  \n",
        ">  Case 1: number < 0 <br>\n",
        ">  Case 2: 0 <= number < 100 or <br>\n",
        ">  Case 3: number > 100\n",
        "3. Print the result ( Case 1, 2, or 3)\n",
        "\n",
        "> Use the if-elif-else statement\n",
        "\n",
        "<font color='red'> ** Do not use the \"Logical Opertors\" (and, or, not). Use only if-elif-else with single condition.\n",
        "<br> No need to use the condition like 0 <= number < 100 when you use \"elif\" statement ** </font>\n"
      ]
    },
    {
      "cell_type": "code",
      "execution_count": null,
      "metadata": {
        "id": "Y7Tgv9ZkFJIF"
      },
      "outputs": [],
      "source": [
        "number = int(input('Enter a number'))\n",
        "\n",
        "# complete the code"
      ]
    },
    {
      "cell_type": "markdown",
      "metadata": {
        "id": "ji4isKHIFJIF"
      },
      "source": [
        "## Don't forget to <font color='red'> **\"commit\"** </font> your work or <font color='red'> **\"save\"** </font> in Google Colab\n",
        "## before moving to the next section."
      ]
    },
    {
      "cell_type": "markdown",
      "metadata": {
        "id": "8piLVyXWFJIG"
      },
      "source": [
        "***\n",
        "# <p style=\"font-family: Arial; font-size:1.4em;color:red;\"> 3. Nested if statement </p>"
      ]
    },
    {
      "cell_type": "markdown",
      "metadata": {
        "id": "NaDhFTP6FJIG"
      },
      "source": [
        "<img src=\"https://nimbus-screenshots.s3.amazonaws.com/s/40f9cb96e28bea9192302328e49fd175.png\" width=720>"
      ]
    },
    {
      "cell_type": "code",
      "execution_count": null,
      "metadata": {
        "id": "HrMu0OdeFJIG",
        "outputId": "5e62bf70-a6a3-49b6-9174-fe14253d151b"
      },
      "outputs": [
        {
          "name": "stdout",
          "output_type": "stream",
          "text": [
            "100  is greater thatn 100\n"
          ]
        }
      ],
      "source": [
        "\n",
        "usernum = int(input(\"Enter your number\"))\n",
        "\n",
        "if usernum < 50:\n",
        "\tprint (usernum, \" is less than 50\")\n",
        "else:\n",
        "\tif usernum < 100:\n",
        "\t\tprint (usernum, \" is greater than or equal to 50 and less than 100\")\n",
        "\telse:\n",
        "\t\tprint (usernum, \" is greater than or equal to 100\")\n",
        ""
      ]
    },
    {
      "cell_type": "code",
      "execution_count": null,
      "metadata": {
        "id": "5tgNFafWFJIG",
        "outputId": "6a684e28-af31-458e-8373-a1e545f1d61e"
      },
      "outputs": [
        {
          "name": "stdout",
          "output_type": "stream",
          "text": [
            "8\n",
            "8  is even number\n"
          ]
        }
      ],
      "source": [
        "import random\n",
        "\n",
        "number = random.randint(0, 100)\n",
        "print (number)\n",
        "\n",
        "if (number % 2 == 0):\n",
        "\tprint ( number, \" is even number\")\n",
        "else:\n",
        "\tprint ( number, \" is odd number\")"
      ]
    },
    {
      "cell_type": "markdown",
      "metadata": {
        "id": "wXGSAp-1FJIO"
      },
      "source": [
        "#### <p style=\"font-family: Arial; font-size:1.4em; background-color: yellow; color:black;\"> Problem #3.1 </p>\n",
        "\n",
        "1. Make the if statement for the below flowchart\n",
        "> Use the \"nested if\" statement. Do not use \"elif\"\n",
        "\n",
        "<font color='red'> ** Do not use the \"elif\" if-elif-else strucutre. Use the Nested if statement\n",
        "</font>\n",
        "![Nested If statement Flow Chart](https://github.com/AVC-CS/PythonCH03/blob/main/FC31.png?raw=1)\n"
      ]
    },
    {
      "cell_type": "code",
      "execution_count": null,
      "metadata": {
        "id": "5mciaacYFJIO"
      },
      "outputs": [],
      "source": [
        "number = int(input('Enter a number'))\n",
        "\n",
        "if number < 0:\n",
        "    print (f'Number {number} is negative')\n",
        "else:\n",
        "    if number < 100:\n",
        "        print (f'Number {number} is greater than or equal to 0 and less than 100')\n",
        "    else:\n",
        "        print (f'Number {number} is greater than 100')\n",
        ""
      ]
    },
    {
      "cell_type": "markdown",
      "metadata": {
        "id": "IAlOjh6rFJIO"
      },
      "source": [
        "#### <p style=\"font-family: Arial; font-size:1.4em; background-color: yellow; color:black;\"> Problem #3.2 </p>\n",
        "\n",
        "1. Input a number\n",
        "2. Decide the range to which belongs\n",
        ">  Range 1: less than 0  <br>\n",
        ">  Range 2: 0 <= number < 100 <br>\n",
        ">  Range 3: number >= 100 <br>\n",
        "3. Print the result ( Range 1, 2, or 3)\n",
        "\n",
        "> Use the Nested if statement\n",
        "\n",
        "<font color='red'> ** Do not use the \"Logical Opertors\" (and, or, not) and elif statement. Use only Nested if.\n",
        "</font>\n"
      ]
    },
    {
      "cell_type": "code",
      "execution_count": null,
      "metadata": {
        "id": "sELKUPyhFJIO"
      },
      "outputs": [],
      "source": [
        "number = int(input('Enter a number'))\n",
        "\n",
        "if number < 0:\n",
        "    range = 1\n",
        "else:\n",
        "    if # complete the code\n",
        "        range = 2"
      ]
    },
    {
      "cell_type": "markdown",
      "metadata": {
        "id": "K0dTk3S5FJIO"
      },
      "source": [
        "#### <p style=\"font-family: Arial; font-size:1.4em; background-color: yellow; color:black;\"> Problem #3.3 </p>\n",
        "\n",
        "1. Input three numbers\n",
        "2. Decide the smallest number\n",
        "3. Print the smallest number\n",
        "\n",
        "> Use the Nested if statement. Implement the same code as the flow chart <br>\n",
        "> The purpose of this code is to practice \"NESTED IF\" <br>\n",
        "<font color='red'> ** Do not use the \"Logical Opertors\" (and, or, not) and elif statement. Use only Nested if.\n",
        "</font>\n",
        "\n",
        "![Flow Chart: Find the min value](https://github.com/AVC-CS/PythonCH03/blob/main/FC33.png?raw=1)"
      ]
    },
    {
      "cell_type": "code",
      "execution_count": null,
      "metadata": {
        "id": "XlV_6rSuFJIO"
      },
      "outputs": [],
      "source": [
        "num1 = int(input('Enter a number '))\n",
        "num2 = int(input('Enter a number '))\n",
        "num3 = int(input('Enter a number '))\n",
        "\n",
        "if num1 < num2:\n",
        "    # Complete the code. Only use Nested-If structure. If - else\n",
        "    # No and/or\n",
        "    # No elif\n",
        ""
      ]
    },
    {
      "cell_type": "markdown",
      "metadata": {
        "id": "4q_2heC0FJIO"
      },
      "source": [
        "## Don't forget to <font color='red'> **\"commit\"** </font> your work or <font color='red'> **\"save\"** </font> in Google Colab\n",
        "## before moving to the next section."
      ]
    },
    {
      "cell_type": "markdown",
      "metadata": {
        "id": "fZ2EOLbiFJIO"
      },
      "source": [
        "***\n",
        "# <p style=\"font-family: Arial; font-size:1.4em;color:red;\"> 4. Logical Operators</p>\n",
        "\n",
        "<img src=\"https://p76.f0.n0.cdn.getcloudapp.com/items/nOu9XRmk/fddfa174-c3fd-4a15-815c-513e0d162889.jpg?v=1d8df7291331860f72b8eaf47140b26c\">\n"
      ]
    },
    {
      "cell_type": "markdown",
      "metadata": {
        "id": "dTnyRl-YFJIO"
      },
      "source": [
        "#### <p style=\"font-family: Arial; font-size:1.4em; background-color: yellow; color:black;\"> Problem #4.1 </p>\n",
        "#### Check the score is valid.\n",
        "> The valid condition: score must be greager than 0 and less than or equal to 100\n"
      ]
    },
    {
      "cell_type": "code",
      "execution_count": null,
      "metadata": {
        "id": "3UA0QNG3FJIO"
      },
      "outputs": [],
      "source": [
        "score = int(input(\"Enter your score\"))\n",
        "\n",
        "if ( score < 0 or score > 100):\n",
        "\tprint (\"Score is out of range\")\n",
        ""
      ]
    },
    {
      "cell_type": "code",
      "execution_count": null,
      "metadata": {
        "id": "B97zycIxFJIP"
      },
      "outputs": [],
      "source": [
        "# Take the score\n",
        "# Check the scoer is between 0 and 100\n",
        "#\n",
        "score = int(input(\"Enter your score\"))\n",
        "if score >= 0 and score <= 100:\n",
        "\tprint (score, \" is between 0 and 100 \")\n",
        "else:\n",
        "\tprint (score, \" is less than 0 or greater than 100\")"
      ]
    },
    {
      "cell_type": "markdown",
      "metadata": {
        "id": "0cpjca2hFJIP"
      },
      "source": [
        "#### <p style=\"font-family: Arial; font-size:1.4em; background-color: yellow; color:black;\"> Problem #4.2 </p>\n",
        "#### Make the if-elif statement to do the following actions in the table\n",
        "> Condition A: num1 > 0 <br>\n",
        "> Condition B: num2 > 0 <br>\n",
        "\n",
        "..    | Condition A True | Condition A False |\n",
        "---|---|---|\n",
        "Condition B True | print ('Two values are positive') | print ('num2 is positive') |\n",
        "Condition B False | print ('num1 is positive) | |\n"
      ]
    },
    {
      "cell_type": "code",
      "execution_count": null,
      "metadata": {
        "id": "OcQdlJILFJIP"
      },
      "outputs": [],
      "source": [
        "num1 = int(input('Enter the num1'))\n",
        "num2 = int(input('Enter the num2'))\n",
        "\n",
        "if num1 > 0 and num2 > 0:\n",
        "    print ('Two values are positive')\n",
        "elif # complete the code\n"
      ]
    },
    {
      "cell_type": "markdown",
      "metadata": {
        "id": "rum7TgjoFJIP"
      },
      "source": [
        "#### <p style=\"font-family: Arial; font-size:1.4em; background-color: yellow; color:black;\"> Problem #4.3 </p>\n",
        "#### Make the \"Nested if statement\" structure to do the following actions in the table\n",
        "> Condition A: num1 > 0 <br>\n",
        "> Condition B: num2 > 0 <br>\n",
        "\n",
        "..    | Condition A True | Condition A False |\n",
        "---|---|---|\n",
        "Condition B True | print ('Two values are positive') | print ('num2 is positive') |\n",
        "Condition B False | print ('num1 is positive) | |\n"
      ]
    },
    {
      "cell_type": "code",
      "execution_count": null,
      "metadata": {
        "id": "fjFkH3cIFJIP"
      },
      "outputs": [],
      "source": [
        "num1 = int(input('Enter the num1'))\n",
        "num2 = int(input('Enter the num2'))\n",
        "\n",
        "if num1 > 0:\n",
        "    # complete the code\n",
        "else:\n",
        "    # complete the code"
      ]
    },
    {
      "cell_type": "markdown",
      "metadata": {
        "id": "wsqon8T6FJIP"
      },
      "source": [
        "#### <p style=\"font-family: Arial; font-size:1.4em; background-color: yellow; color:black;\"> Problem #4.4 </p>\n",
        "#### DeMorgen's Law\n",
        "#### <font color='red'> not ( A and B) = not A or not B </font>\n",
        "\n",
        "> Condition A: num1 > 0 <br>\n",
        "> Condition B: num2 > 0 <br>\n",
        "\n",
        "> not ( num1 > 0 and num2 > 0) <br>\n",
        "- is the same as <br>\n",
        "> not (num1 > 0) or not (num2 > 0) <br>\n",
        "- is the same as <br>\n",
        "> num1 <= 0 or num2 <= 0 <br>\n",
        "***\n",
        "#### Make the same if-statement using DeMorgen's Law <font color='red'> without \"not\" operator </font>\n",
        "\n",
        "> if not (num1 > 0 and num2 > 0):"
      ]
    },
    {
      "cell_type": "code",
      "execution_count": null,
      "metadata": {
        "id": "kyu1C8AfFJIP"
      },
      "outputs": [],
      "source": [
        "num1 = -10\n",
        "num2 = 20\n",
        "\n",
        "if # complete your code\n",
        "    print ('One of two values are less than 0')\n"
      ]
    },
    {
      "cell_type": "markdown",
      "metadata": {
        "id": "PPdkQl-zFJIP"
      },
      "source": [
        "#### <p style=\"font-family: Arial; font-size:1.4em; background-color: yellow; color:black;\"> Problem #4.5 </p>\n",
        "#### <font color='red'> number > 0 and number < 100  </font>\n",
        "- same as\n",
        "#### <font color='red'> 0 < number < 100 </font>\n",
        "\n",
        "#### Make the same if-statement without <font color='red'> \"and\" </font> operator\n",
        "\n",
        "> if num1 > 0 and num1 < 100: <br>\n",
        "***\n",
        "> 👉 <font color='red'> if 0 < num1 < 100: </font>"
      ]
    },
    {
      "cell_type": "code",
      "execution_count": null,
      "metadata": {
        "id": "Lm9euAF3FJIQ"
      },
      "outputs": [],
      "source": [
        "num1 = int(input('Enter a number'))\n",
        "\n",
        "if # complete the same condition without \"and\" operator as num1 > 0 and num1 < 100\n",
        "# if num1 > 0 and num1 < 100:\n",
        "    print ('num1 is greater than 0 and less than 100')"
      ]
    },
    {
      "cell_type": "markdown",
      "metadata": {
        "id": "jnmNSXG3FJIQ"
      },
      "source": [
        "#### <p style=\"font-family: Arial; font-size:1.4em; background-color: yellow; color:black;\"> Problem #4.6 </p>\n",
        "#### Complete the code to check the input number is greater than 50 and leass than 100\n",
        "\n",
        "> 👉 <font color='red'> input value must be greater than 50 and less than 100 </font> <br>\n",
        "> if True, print it <br>\n",
        "> No requirement. What is your preference to make the if-condition?"
      ]
    },
    {
      "cell_type": "code",
      "execution_count": null,
      "metadata": {
        "id": "zrQQVNsLFJIQ"
      },
      "outputs": [],
      "source": [
        "number = int(input('Enter the number'))\n",
        "\n",
        "if # complete the code"
      ]
    },
    {
      "cell_type": "markdown",
      "metadata": {
        "id": "Xvn_2va9FJIQ"
      },
      "source": [
        "#### <p style=\"font-family: Arial; font-size:1.4em; background-color: yellow; color:black;\"> Problem #4.7 </p>\n",
        "#### Consider the following code. The if-condition is True or False?\n",
        "\n",
        "\n",
        "> 👉  What value of num will make the condition True?<br>\n",
        "```\n",
        "num = 50\n",
        "if num < 0 and num > 100:\n",
        "     print ('condition is True')\n",
        "```\n",
        "#### What value of num' will make the condition True?\n"
      ]
    },
    {
      "cell_type": "code",
      "execution_count": null,
      "metadata": {
        "id": "db8B3c-FFJIQ"
      },
      "outputs": [],
      "source": [
        "num = # set your value to num to make the conditino True\n",
        "\n",
        "if num < 0 and num > 100:\n",
        "    print ('Condition True')"
      ]
    },
    {
      "cell_type": "markdown",
      "metadata": {
        "id": "_mva4hgwFJIQ"
      },
      "source": [
        "## Don't forget to <font color='red'> **\"commit\"** </font> your work or <font color='red'> **\"save\"** </font> in Google Colab\n",
        "## before moving to the next section."
      ]
    },
    {
      "cell_type": "markdown",
      "metadata": {
        "id": "GriPkJjJFJIQ"
      },
      "source": [
        "***\n",
        "# <p style=\"font-family: Arial; font-size:1.4em;color:red;\"> 5. Short-hand if statement </p>"
      ]
    },
    {
      "cell_type": "markdown",
      "metadata": {
        "id": "yehhVdl2FJIQ"
      },
      "source": [
        "#### <p style=\"font-family: Arial; font-size:1.4em; background-color: yellow; color:black;\"> Problem #5.1 </p>\n",
        "#### Run all the below cells and check out the results\n",
        "\n",
        "\n",
        "> 👉  What is the main adavantage of short-hand if statement?\n",
        "```\n",
        "num = 50\n",
        "flag = 1 if num > 0 else 0\n",
        "```\n"
      ]
    },
    {
      "cell_type": "markdown",
      "metadata": {
        "id": "STLEvQa7FJIQ"
      },
      "source": [
        "### Short Hand if"
      ]
    },
    {
      "cell_type": "code",
      "execution_count": null,
      "metadata": {
        "id": "1oupnLX-FJIQ"
      },
      "outputs": [],
      "source": [
        "score1 = 100\n",
        "score2 = 90\n",
        "\n",
        "if ( score1 > score2): print( score1, \" is less than \", score2)"
      ]
    },
    {
      "cell_type": "markdown",
      "metadata": {
        "id": "9JGcu7akFJIQ"
      },
      "source": [
        "### Short Hand if else\n",
        "\n",
        "```\n",
        "if num % 2 == 0:\n",
        "    even = 1\n",
        "else:\n",
        "    even = 0\n",
        "    \n",
        "> This code is the same as below"
      ]
    },
    {
      "cell_type": "code",
      "execution_count": null,
      "metadata": {
        "id": "FNGLXWsDFJIR"
      },
      "outputs": [],
      "source": [
        "num  = 22\n",
        "even = 1 if num % 2 == 0 else 0\n",
        "even"
      ]
    },
    {
      "cell_type": "code",
      "execution_count": null,
      "metadata": {
        "id": "-SJnbcg5FJIR"
      },
      "outputs": [],
      "source": [
        "print (score2, \" is greater than \", score1) if ( score1 < score2) else print(score1, \" is greater than\", score2)"
      ]
    },
    {
      "cell_type": "markdown",
      "metadata": {
        "id": "bo1doEs7FJIR"
      },
      "source": [
        "### The following code has error since there is no else part"
      ]
    },
    {
      "cell_type": "code",
      "execution_count": null,
      "metadata": {
        "id": "97gh0SanFJIR"
      },
      "outputs": [],
      "source": [
        "# Error\n",
        "# print (score2, \" is greater than \", score1) if ( score1 < score2)"
      ]
    },
    {
      "cell_type": "markdown",
      "metadata": {
        "id": "2nGzktGbFJIR"
      },
      "source": [
        "#### if val is even flag =0, otherwise 1"
      ]
    },
    {
      "cell_type": "code",
      "execution_count": null,
      "metadata": {
        "id": "RsA0m-2PFJIT",
        "outputId": "7a6d0d9b-6e63-436b-ef19-0f9255799fbd"
      },
      "outputs": [
        {
          "name": "stdout",
          "output_type": "stream",
          "text": [
            "1\n"
          ]
        }
      ],
      "source": [
        "val = 11\n",
        "\n",
        "flag = 0 if val % 2 == 0 else 1\n",
        "print (flag)"
      ]
    },
    {
      "cell_type": "markdown",
      "metadata": {
        "id": "JPrgVHWtFJIT"
      },
      "source": [
        "#### <p style=\"font-family: Arial; font-size:1.4em; background-color: yellow; color:black;\"> Problem #5.2 </p>\n",
        "#### Run all the below cells and check out the <font color='red'> results </font>\n",
        "\n",
        "\n",
        "> 👉  Check out the \"returned\" value from the conidtion\n",
        "```\n",
        "num > 0 and num < 200 and 99\n",
        "```\n"
      ]
    },
    {
      "cell_type": "markdown",
      "metadata": {
        "id": "fJPbDvnVFJIT"
      },
      "source": [
        "#### And operator will return the last term if all the previous terms are True\n",
        "#### if the previous terms are not True, the first false term will be returned"
      ]
    },
    {
      "cell_type": "code",
      "execution_count": null,
      "metadata": {
        "id": "7jC7HfOtFJIT",
        "outputId": "9ac256c2-8ab1-4a0e-b324-6a0d305b262f"
      },
      "outputs": [
        {
          "data": {
            "text/plain": [
              "False"
            ]
          },
          "execution_count": 32,
          "metadata": {},
          "output_type": "execute_result"
        }
      ],
      "source": [
        "True and False and True # will return False"
      ]
    },
    {
      "cell_type": "code",
      "execution_count": null,
      "metadata": {
        "id": "0Srb_0GcFJIU"
      },
      "outputs": [],
      "source": [
        "True and True and True # will return True"
      ]
    },
    {
      "cell_type": "code",
      "execution_count": null,
      "metadata": {
        "id": "8UF-uW0PFJIU"
      },
      "outputs": [],
      "source": [
        "A = 10 ; B = 5; C = 0\n",
        "\n",
        "A and B and C   # will return 0. It treated as False\n",
        "\n",
        "if A and B and C:\n",
        "    print(C)    # not printed since the condition is False"
      ]
    },
    {
      "cell_type": "code",
      "execution_count": null,
      "metadata": {
        "id": "x4cyGfV-FJIU",
        "outputId": "ac6329ee-731f-4ce1-8cb0-d9500ee8a9b6"
      },
      "outputs": [
        {
          "data": {
            "text/plain": [
              "False"
            ]
          },
          "execution_count": 38,
          "metadata": {},
          "output_type": "execute_result"
        }
      ],
      "source": [
        "num1 = 10; num2 = 20; num3 = -5\n",
        "\n",
        "num1 == 10 and num2 < 100 and num3 > 0\n",
        "# will return false since the last condition is false"
      ]
    },
    {
      "cell_type": "code",
      "execution_count": null,
      "metadata": {
        "id": "QJjvpXJfFJIU"
      },
      "outputs": [],
      "source": [
        "num1 = 10; num2 = 20;\n",
        "\n",
        "num1 == 10 and num2 < 100 and 99\n",
        "# will return 99 since all the conditions except the last one is True"
      ]
    },
    {
      "cell_type": "code",
      "execution_count": null,
      "metadata": {
        "id": "84ldrFo6FJIU"
      },
      "outputs": [],
      "source": [
        "num1 = 10; num2 = 20;\n",
        "\n",
        "num1 == 10 and num2 > 100 and 99\n",
        "# will return False since the second condition is Fals"
      ]
    },
    {
      "cell_type": "code",
      "execution_count": null,
      "metadata": {
        "id": "fQb-tmhSFJIU"
      },
      "outputs": [],
      "source": [
        "a = 10\n",
        "b = 5\n",
        "x = a > b\n",
        "print (x) # true\n",
        "x = a > b and 10\n",
        "print (x) # 10"
      ]
    },
    {
      "cell_type": "code",
      "execution_count": null,
      "metadata": {
        "id": "b3Dh0ZA3FJIU"
      },
      "outputs": [],
      "source": [
        "a = 10\n",
        "b = 5\n",
        "x = a > b and 10 or 11\n",
        "print (x)"
      ]
    },
    {
      "cell_type": "code",
      "execution_count": null,
      "metadata": {
        "id": "gfTAQ5VVFJIU"
      },
      "outputs": [],
      "source": [
        "l1 = [1,2,3,4,5]\n",
        "\n",
        "even = [ i for i in l1 if i % 2 ==0]\n",
        "print (even)"
      ]
    },
    {
      "cell_type": "markdown",
      "metadata": {
        "id": "31rTC5DjFJIU"
      },
      "source": [
        "#### <p style=\"font-family: Arial; font-size:1.4em; background-color: yellow; color:black;\"> Problem #5.3 </p>\n",
        "#### Complete the code to set the flag variable to 0 if num is less than 0 otherwise set it to 1\n",
        "\n",
        "> 👉 Use the short-hand if statement  \n",
        "```\n",
        "# the same if-statement\n",
        "if num < 0:\n",
        "    flag = 0\n",
        "else:\n",
        "    flag = 1\n",
        "```\n"
      ]
    },
    {
      "cell_type": "code",
      "execution_count": null,
      "metadata": {
        "id": "U-tDo57LFJIV"
      },
      "outputs": [],
      "source": [
        "num = int(input('Enter a num: '))\n",
        "\n",
        "flag = 0 # complete this code"
      ]
    },
    {
      "cell_type": "markdown",
      "metadata": {
        "id": "RTGZuhotFJIV"
      },
      "source": [
        "## Don't forget to <font color='red'> **\"commit\"** </font> your work or <font color='red'> **\"save\"** </font> in Google Colab\n",
        "## before moving to the next section."
      ]
    },
    {
      "cell_type": "markdown",
      "metadata": {
        "id": "dD4LxegmFJIV"
      },
      "source": [
        "***\n",
        "# <p style=\"font-family:Arial; font-size:1.4em;color:Red;\"> 6. Comparing Strings </p>\n"
      ]
    },
    {
      "cell_type": "markdown",
      "metadata": {
        "id": "ogJH2d0qFJIV"
      },
      "source": [
        "#### <p style=\"font-family: Arial; font-size:1.4em; background-color: yellow; color:black;\"> Problem #6.1 </p>\n",
        "#### Run the following code cell and check out the result\n",
        "\n",
        "> 👉 String value comparison"
      ]
    },
    {
      "cell_type": "markdown",
      "metadata": {
        "id": "qEfztgugFJIV"
      },
      "source": [
        "#### Alphabetical order comparison"
      ]
    },
    {
      "cell_type": "code",
      "execution_count": null,
      "metadata": {
        "id": "LVx5KrpRFJIV"
      },
      "outputs": [],
      "source": [
        "name1 = 'Mary'\n",
        "name2 = 'Macy'\n",
        "\n",
        "if name1 < name2:\n",
        "\tprint (f'{name1}  is less than {name2}')\n",
        "else:\n",
        "\tprint (f'{name1}  is greater than or equal to {name2}')\n",
        "\n"
      ]
    },
    {
      "cell_type": "code",
      "execution_count": null,
      "metadata": {
        "id": "8rhngUVPFJIV",
        "outputId": "06bb042a-c763-47d3-d336-d239ef926d07"
      },
      "outputs": [
        {
          "name": "stdout",
          "output_type": "stream",
          "text": [
            "Mary  is less than or equal to Nancy\n"
          ]
        }
      ],
      "source": [
        "name1 = \"Mary\"\n",
        "name2 = \"Nancy\"\n",
        "\n",
        "if (name1 > name2):\n",
        "\tprint (f'{name1}  is greater than {name2}')\n",
        "else:\n",
        "\tprint (f'{name1}  is less than or equal to {name2}')\n"
      ]
    },
    {
      "cell_type": "markdown",
      "metadata": {
        "id": "b00drnlNFJIV"
      },
      "source": [
        "#### <p style=\"font-family: Arial; font-size:1.4em; background-color: yellow; color:black;\"> Problem #6.2 </p>\n",
        "#### Run the following code cell and check out the result\n",
        "\n",
        "> 👉 String value comparison\n",
        "\n",
        "#### String comparison by the \"length\""
      ]
    },
    {
      "cell_type": "code",
      "execution_count": null,
      "metadata": {
        "id": "gIwoLDqkFJIV"
      },
      "outputs": [],
      "source": [
        "name1 = 'Mary'\n",
        "name2 = 'Mariella'\n",
        "\n",
        "if len(name1) < len(name2):\n",
        "\tprint (f'{name1}  is shorter than {name2}')\n",
        "else:\n",
        "\tprint (f'{name1}  is longer than or equal to {name2}')\n",
        "\n"
      ]
    },
    {
      "cell_type": "markdown",
      "metadata": {
        "id": "ghI72D4tFJIV"
      },
      "source": [
        "#### <p style=\"font-family: Arial; font-size:1.4em; background-color: yellow; color:black;\"> Problem #6.3 </p>\n",
        "#### Run the following code cell and check out the result\n",
        "\n",
        "> 👉 String Library functions  \n"
      ]
    },
    {
      "cell_type": "markdown",
      "metadata": {
        "id": "ygdrbmEvFJIV"
      },
      "source": [
        "### String Library Functions\n",
        "<a href=\"https://docs.python.org/3/library/string.html\"> Python Documents for String </a>\n",
        "\n",
        "\n",
        "\n",
        "<a href=\"https://docs.python.org/3/library/stdtypes.html#string-methods\"> String Methods\n",
        "<br>\n",
        "</a>\n",
        "<a href=\"https://www.w3schools.com/python/python_ref_string.asp\"> W3 School </a>\n",
        "\n",
        "<img src=\"https://nimbus-screenshots.s3.amazonaws.com/s/4ac262e3ba568032f7992d4556be2443.png\">\n",
        "\n"
      ]
    },
    {
      "cell_type": "code",
      "execution_count": null,
      "metadata": {
        "id": "8865G6XEFJIV"
      },
      "outputs": [],
      "source": [
        "'BANANA'.isupper()\n",
        "\n",
        "'banana'.isupper()\n",
        "\n",
        "'baNana'.isupper()\n",
        "\n",
        "' '.isupper()"
      ]
    },
    {
      "cell_type": "code",
      "execution_count": null,
      "metadata": {
        "id": "LL25nXaXFJIV"
      },
      "outputs": [],
      "source": [
        "\n",
        "'   spacious   '.lstrip()\n",
        "\n",
        "'www.example.com'.lstrip('cmowz.')\n",
        "\n",
        "'Arthur: three!'.lstrip('Arthur: ')\n",
        "\n",
        "'Arthur: three!'.removeprefix('Arthur: ')"
      ]
    },
    {
      "cell_type": "code",
      "execution_count": null,
      "metadata": {
        "id": "mdiwlpjxFJIW"
      },
      "outputs": [],
      "source": [
        "email_str = \"name@company.com\"\n",
        "result1 = email_str.rstrip(\".com\" )\n",
        "result2 = email_str.lstrip(\"name@\")\n",
        "print (result1)\n",
        "print (result2)\n",
        "print (email_str)"
      ]
    },
    {
      "cell_type": "code",
      "execution_count": null,
      "metadata": {
        "id": "QDtTNx04FJIW"
      },
      "outputs": [],
      "source": [
        "email_str = \"name@company.com\"\n",
        "idx = email_str.find('@')\n",
        "print (idx)\n",
        "\n",
        "company_name = email_str[idx:len(email_str)]\n",
        "print (company_name)\n",
        "email_id = email_str[:idx]\n",
        "\n",
        "\n",
        "\n",
        "print (email_str[4:6])\n",
        "print (email_str[4:16])\n",
        "last_idx = len(email_str)\n",
        "print (email_str[4:last_idx])\n",
        "print (email_str[4:])\n"
      ]
    },
    {
      "cell_type": "code",
      "execution_count": null,
      "metadata": {
        "id": "mCY1_h7wFJIW"
      },
      "outputs": [],
      "source": [
        "\n",
        "'   spacious   '.rstrip()\n",
        "\n",
        "'mississippi'.rstrip('ipz')\n",
        "\n",
        "'Monty Python'.rstrip(' Python')\n",
        "\n",
        "'Monty Python'.removesuffix(' Python')"
      ]
    },
    {
      "cell_type": "code",
      "execution_count": null,
      "metadata": {
        "id": "B2p1x1O5FJIW"
      },
      "outputs": [],
      "source": [
        "\n",
        "\n",
        "'1,2,3'.split(',')\n",
        "\n",
        "'1,2,3'.split(',', maxsplit=1)\n",
        "\n",
        "'1,2,,3,'.split(',')\n",
        "\n",
        "'1 2 3'.split()\n",
        "\n",
        "'1 2 3'.split(maxsplit=1)\n",
        "\n",
        "'   1   2   3   '.split()\n",
        "\n",
        "'   spacious   '.strip()\n",
        "\n",
        "'www.example.com'.strip('cmowz.')\n",
        "\n"
      ]
    },
    {
      "cell_type": "code",
      "execution_count": null,
      "metadata": {
        "id": "DK0QHWIfFJIW"
      },
      "outputs": [],
      "source": [
        "input_str = input('Enter two numbers')\n",
        "print (input_str)\n",
        "x,y = input_str.split()\n",
        "print (int(x))\n",
        "print (int(y))\n",
        "\n",
        "x,y = int(input('Enter two numbers').split())\n",
        "print (int(x))\n",
        "print (int(y))\n",
        "\n",
        "\n",
        "\n"
      ]
    },
    {
      "cell_type": "markdown",
      "metadata": {
        "id": "0OSp1U5rFJIW"
      },
      "source": [
        "<a href=\"https://docs.python.org/3/library/string.html\">\n",
        "\n",
        "\n",
        "<img src=\"https://nimbus-screenshots.s3.amazonaws.com/s/ebc2ce4ebcd9fa90a90f988674b16c1f.png\">\n",
        "\n",
        "</a>"
      ]
    }
  ],
  "metadata": {
    "kernelspec": {
      "display_name": "base",
      "language": "python",
      "name": "python3"
    },
    "language_info": {
      "codemirror_mode": {
        "name": "ipython",
        "version": 3
      },
      "file_extension": ".py",
      "mimetype": "text/x-python",
      "name": "python",
      "nbconvert_exporter": "python",
      "pygments_lexer": "ipython3",
      "version": "3.9.17"
    },
    "orig_nbformat": 4,
    "vscode": {
      "interpreter": {
        "hash": "32cd87c0c55905266dc8232ebf1148f668af0d9324249c125246585210a29cd6"
      }
    },
    "colab": {
      "provenance": []
    }
  },
  "nbformat": 4,
  "nbformat_minor": 0
}